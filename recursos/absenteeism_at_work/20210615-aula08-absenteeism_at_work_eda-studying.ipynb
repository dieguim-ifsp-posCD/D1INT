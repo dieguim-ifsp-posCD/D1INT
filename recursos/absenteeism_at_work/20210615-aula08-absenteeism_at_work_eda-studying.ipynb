{
 "cells": [
  {
   "cell_type": "markdown",
   "metadata": {
    "id": "XY70xR3MWkSX"
   },
   "source": [
    "# EXPLORATORY DATA ANALYSIS\n",
    "Using Absenteeism at work An UCI dataset"
   ]
  },
  {
   "cell_type": "code",
   "execution_count": null,
   "metadata": {
    "executionInfo": {
     "elapsed": 281,
     "status": "ok",
     "timestamp": 1623801240920,
     "user": {
      "displayName": "Everton Silva",
      "photoUrl": "https://lh3.googleusercontent.com/a-/AOh14GjcTJRlldyV6KuP5SI3D5WKR1Q0rTzwyBr1UndCW3g=s64",
      "userId": "11269003009281382658"
     },
     "user_tz": 180
    },
    "id": "RVxytPCm3AId"
   },
   "outputs": [],
   "source": []
  },
  {
   "cell_type": "markdown",
   "metadata": {
    "id": "87QS449NSm_C"
   },
   "source": [
    "## About Dataset"
   ]
  },
  {
   "cell_type": "markdown",
   "metadata": {
    "id": "zLffi2CdS7wU"
   },
   "source": [
    "### Abstract\n",
    "The database was created with records of absenteeism at work from July 2007 to July 2010 at a courier company in Brazil. Absenteeism at work An UCI dataset on link data set : https://archive.ics.uci.edu/ml/datasets/Absenteeism+at+work\n",
    "\n",
    "\n",
    "    Data Set Characteristics  : Multivariate, Time-Series                Number of Instances   : 740 \n",
    "    Attribute Characteristics : Integer, Real                            Number of Attributes  : 21\n",
    "    Associated Tasks          : Classification, Clustering               Missing Values?       : N/A\n"
   ]
  },
  {
   "cell_type": "markdown",
   "metadata": {
    "id": "93M2Y6UpTN4O"
   },
   "source": [
    "### Metadata\n",
    "    Usage Information             License                     CC0: Public Domain (https://creativecommons.org/publicdomain/zero/1.0//)\n",
    "                                  Visibility                  visibility Public\n",
    "    \n",
    "    Provenance                    Sources                     (https://archive.ics.uci.edu/ml/datasets/Absenteeism+at+work)\n",
    "\n",
    "    Maintainers                   Dataset owner               rahul bhaskaran (https://www.kaggle.com/loganalive)\n",
    "\n",
    "    Updates                       Expected update frequency   Never\n",
    "                                  Last updated                2018-04-27                 \n",
    "                                  Date created                2018-04-27                  \n",
    "                                  Current version             Version 1"
   ]
  },
  {
   "cell_type": "markdown",
   "metadata": {
    "id": "S7StNKyKTfb0"
   },
   "source": [
    "### Data set information\n",
    "The data set allows for several new combinations of attributes and attribute exclusions, or the modification of the attribute type (categorical, integer, or real) depending on the purpose of the research.The data set (Absenteeism at work - Part I) was used in academic research at the Universidade Nove de Julho - Postgraduate Program in Informatics and Knowledge Management."
   ]
  },
  {
   "cell_type": "markdown",
   "metadata": {
    "id": "HdQkSJUuTsDc"
   },
   "source": [
    "### Attribute Information\n",
    "  1. Individual identification (ID)\n",
    "  2. Reason for absence (ICD).\n",
    "    \n",
    "    Absences attested by the International Code of Diseases (ICD) stratified into 21 categories (I to XXI) as follows:\n",
    "\n",
    "    \n",
    "    I Certain infectious and parasitic diseases\n",
    "    II Neoplasms\n",
    "    III Diseases of the blood and blood-forming organs and certain disorders involving the immune mechanism\n",
    "    IV Endocrine, nutritional and metabolic diseases\n",
    "    V Mental and behavioural disorders\n",
    "    VI Diseases of the nervous system\n",
    "    VII Diseases of the eye and adnexa\n",
    "    VIII Diseases of the ear and mastoid process\n",
    "    IX Diseases of the circulatory system\n",
    "    X Diseases of the respiratory system\n",
    "    XI Diseases of the digestive system\n",
    "    XII Diseases of the skin and subcutaneous tissue\n",
    "    XIII Diseases of the musculoskeletal system and connective tissue\n",
    "    XIV Diseases of the genitourinary system\n",
    "    XV Pregnancy, childbirth and the puerperium\n",
    "    XVI Certain conditions originating in the perinatal period\n",
    "    XVII Congenital malformations, deformations and chromosomal abnormalities\n",
    "    XVIII Symptoms, signs and abnormal clinical and laboratory findings, not elsewhere classified\n",
    "    XIX Injury, poisoning and certain other consequences of external causes\n",
    "    XX External causes of morbidity and mortality\n",
    "    XXI Factors influencing health status and contact with health services.\n",
    "\n",
    "    And 7 categories without (CID) \n",
    "    patient follow-up (22), \n",
    "    medical consultation (23), \n",
    "    blood donation (24), \n",
    "    laboratory examination (25), \n",
    "    unjustified absence (26), \n",
    "    physiotherapy (27), \n",
    "    dental consultation (28).\n",
    "        \n",
    "  3. Month of absence\n",
    "  4. Day of the week (Monday (2), Tuesday (3), Wednesday (4), Thursday (5), Friday (6))\n",
    "  5. Seasons (summer (1), autumn (2), winter (3), spring (4))\n",
    "  6. Transportation expense\n",
    "  7. Distance from Residence to Work (kilometers)\n",
    "  8. Service time\n",
    "  9. Age\n",
    "  10. Work load Average/day\n",
    "  11. Hit target\n",
    "  12. Disciplinary failure (yes=1; no=0)\n",
    "  13. Education (high school (1), graduate (2), postgraduate (3), master and doctor (4))\n",
    "  14. Son (number of children)\n",
    "  15. Social drinker (yes=1; no=0)\n",
    "  16. Social smoker (yes=1; no=0)\n",
    "  17. Pet (number of pet)\n",
    "  18. Weight\n",
    "  19. Height\n",
    "  20. Body mass index\n",
    "  21. Absenteeism time in hours (target)\n"
   ]
  },
  {
   "cell_type": "markdown",
   "metadata": {
    "id": "7PuYFNSrqKgw"
   },
   "source": [
    "## Import and Clean Data"
   ]
  },
  {
   "cell_type": "code",
   "execution_count": 1,
   "metadata": {
    "executionInfo": {
     "elapsed": 4,
     "status": "ok",
     "timestamp": 1623801240920,
     "user": {
      "displayName": "Everton Silva",
      "photoUrl": "https://lh3.googleusercontent.com/a-/AOh14GjcTJRlldyV6KuP5SI3D5WKR1Q0rTzwyBr1UndCW3g=s64",
      "userId": "11269003009281382658"
     },
     "user_tz": 180
    },
    "id": "gRid0hBz-T2D"
   },
   "outputs": [],
   "source": [
    "import pandas as pd\n",
    "import numpy as np"
   ]
  },
  {
   "cell_type": "code",
   "execution_count": 2,
   "metadata": {
    "executionInfo": {
     "elapsed": 56,
     "status": "ok",
     "timestamp": 1623801263960,
     "user": {
      "displayName": "Everton Silva",
      "photoUrl": "https://lh3.googleusercontent.com/a-/AOh14GjcTJRlldyV6KuP5SI3D5WKR1Q0rTzwyBr1UndCW3g=s64",
      "userId": "11269003009281382658"
     },
     "user_tz": 180
    },
    "id": "rEo4sHpbBhRe"
   },
   "outputs": [],
   "source": [
    "raw_data = pd.read_csv('../20210608-aula07/absenteeism_at_work_dataset/Absenteeism_at_work.csv', sep=';')"
   ]
  },
  {
   "cell_type": "code",
   "execution_count": 3,
   "metadata": {
    "colab": {
     "base_uri": "https://localhost:8080/",
     "height": 274
    },
    "executionInfo": {
     "elapsed": 54,
     "status": "ok",
     "timestamp": 1623801263960,
     "user": {
      "displayName": "Everton Silva",
      "photoUrl": "https://lh3.googleusercontent.com/a-/AOh14GjcTJRlldyV6KuP5SI3D5WKR1Q0rTzwyBr1UndCW3g=s64",
      "userId": "11269003009281382658"
     },
     "user_tz": 180
    },
    "id": "U1RHC-ueCmZR",
    "outputId": "2a817b67-0928-442d-e247-694a77842980"
   },
   "outputs": [
    {
     "data": {
      "text/html": [
       "<div>\n",
       "<style scoped>\n",
       "    .dataframe tbody tr th:only-of-type {\n",
       "        vertical-align: middle;\n",
       "    }\n",
       "\n",
       "    .dataframe tbody tr th {\n",
       "        vertical-align: top;\n",
       "    }\n",
       "\n",
       "    .dataframe thead th {\n",
       "        text-align: right;\n",
       "    }\n",
       "</style>\n",
       "<table border=\"1\" class=\"dataframe\">\n",
       "  <thead>\n",
       "    <tr style=\"text-align: right;\">\n",
       "      <th></th>\n",
       "      <th>ID</th>\n",
       "      <th>Reason for absence</th>\n",
       "      <th>Month of absence</th>\n",
       "      <th>Day of the week</th>\n",
       "      <th>Seasons</th>\n",
       "      <th>Transportation expense</th>\n",
       "      <th>Distance from Residence to Work</th>\n",
       "      <th>Service time</th>\n",
       "      <th>Age</th>\n",
       "      <th>Work load Average/day</th>\n",
       "      <th>...</th>\n",
       "      <th>Disciplinary failure</th>\n",
       "      <th>Education</th>\n",
       "      <th>Son</th>\n",
       "      <th>Social drinker</th>\n",
       "      <th>Social smoker</th>\n",
       "      <th>Pet</th>\n",
       "      <th>Weight</th>\n",
       "      <th>Height</th>\n",
       "      <th>Body mass index</th>\n",
       "      <th>Absenteeism time in hours</th>\n",
       "    </tr>\n",
       "  </thead>\n",
       "  <tbody>\n",
       "    <tr>\n",
       "      <th>0</th>\n",
       "      <td>11</td>\n",
       "      <td>26</td>\n",
       "      <td>7</td>\n",
       "      <td>3</td>\n",
       "      <td>1</td>\n",
       "      <td>289</td>\n",
       "      <td>36</td>\n",
       "      <td>13</td>\n",
       "      <td>33</td>\n",
       "      <td>239.554</td>\n",
       "      <td>...</td>\n",
       "      <td>0</td>\n",
       "      <td>1</td>\n",
       "      <td>2</td>\n",
       "      <td>1</td>\n",
       "      <td>0</td>\n",
       "      <td>1</td>\n",
       "      <td>90</td>\n",
       "      <td>172</td>\n",
       "      <td>30</td>\n",
       "      <td>4</td>\n",
       "    </tr>\n",
       "    <tr>\n",
       "      <th>1</th>\n",
       "      <td>36</td>\n",
       "      <td>0</td>\n",
       "      <td>7</td>\n",
       "      <td>3</td>\n",
       "      <td>1</td>\n",
       "      <td>118</td>\n",
       "      <td>13</td>\n",
       "      <td>18</td>\n",
       "      <td>50</td>\n",
       "      <td>239.554</td>\n",
       "      <td>...</td>\n",
       "      <td>1</td>\n",
       "      <td>1</td>\n",
       "      <td>1</td>\n",
       "      <td>1</td>\n",
       "      <td>0</td>\n",
       "      <td>0</td>\n",
       "      <td>98</td>\n",
       "      <td>178</td>\n",
       "      <td>31</td>\n",
       "      <td>0</td>\n",
       "    </tr>\n",
       "    <tr>\n",
       "      <th>2</th>\n",
       "      <td>3</td>\n",
       "      <td>23</td>\n",
       "      <td>7</td>\n",
       "      <td>4</td>\n",
       "      <td>1</td>\n",
       "      <td>179</td>\n",
       "      <td>51</td>\n",
       "      <td>18</td>\n",
       "      <td>38</td>\n",
       "      <td>239.554</td>\n",
       "      <td>...</td>\n",
       "      <td>0</td>\n",
       "      <td>1</td>\n",
       "      <td>0</td>\n",
       "      <td>1</td>\n",
       "      <td>0</td>\n",
       "      <td>0</td>\n",
       "      <td>89</td>\n",
       "      <td>170</td>\n",
       "      <td>31</td>\n",
       "      <td>2</td>\n",
       "    </tr>\n",
       "    <tr>\n",
       "      <th>3</th>\n",
       "      <td>7</td>\n",
       "      <td>7</td>\n",
       "      <td>7</td>\n",
       "      <td>5</td>\n",
       "      <td>1</td>\n",
       "      <td>279</td>\n",
       "      <td>5</td>\n",
       "      <td>14</td>\n",
       "      <td>39</td>\n",
       "      <td>239.554</td>\n",
       "      <td>...</td>\n",
       "      <td>0</td>\n",
       "      <td>1</td>\n",
       "      <td>2</td>\n",
       "      <td>1</td>\n",
       "      <td>1</td>\n",
       "      <td>0</td>\n",
       "      <td>68</td>\n",
       "      <td>168</td>\n",
       "      <td>24</td>\n",
       "      <td>4</td>\n",
       "    </tr>\n",
       "    <tr>\n",
       "      <th>4</th>\n",
       "      <td>11</td>\n",
       "      <td>23</td>\n",
       "      <td>7</td>\n",
       "      <td>5</td>\n",
       "      <td>1</td>\n",
       "      <td>289</td>\n",
       "      <td>36</td>\n",
       "      <td>13</td>\n",
       "      <td>33</td>\n",
       "      <td>239.554</td>\n",
       "      <td>...</td>\n",
       "      <td>0</td>\n",
       "      <td>1</td>\n",
       "      <td>2</td>\n",
       "      <td>1</td>\n",
       "      <td>0</td>\n",
       "      <td>1</td>\n",
       "      <td>90</td>\n",
       "      <td>172</td>\n",
       "      <td>30</td>\n",
       "      <td>2</td>\n",
       "    </tr>\n",
       "  </tbody>\n",
       "</table>\n",
       "<p>5 rows × 21 columns</p>\n",
       "</div>"
      ],
      "text/plain": [
       "   ID  Reason for absence  Month of absence  Day of the week  Seasons  \\\n",
       "0  11                  26                 7                3        1   \n",
       "1  36                   0                 7                3        1   \n",
       "2   3                  23                 7                4        1   \n",
       "3   7                   7                 7                5        1   \n",
       "4  11                  23                 7                5        1   \n",
       "\n",
       "   Transportation expense  Distance from Residence to Work  Service time  Age  \\\n",
       "0                     289                               36            13   33   \n",
       "1                     118                               13            18   50   \n",
       "2                     179                               51            18   38   \n",
       "3                     279                                5            14   39   \n",
       "4                     289                               36            13   33   \n",
       "\n",
       "   Work load Average/day   ...  Disciplinary failure  Education  Son  \\\n",
       "0                 239.554  ...                     0          1    2   \n",
       "1                 239.554  ...                     1          1    1   \n",
       "2                 239.554  ...                     0          1    0   \n",
       "3                 239.554  ...                     0          1    2   \n",
       "4                 239.554  ...                     0          1    2   \n",
       "\n",
       "   Social drinker  Social smoker  Pet  Weight  Height  Body mass index  \\\n",
       "0               1              0    1      90     172               30   \n",
       "1               1              0    0      98     178               31   \n",
       "2               1              0    0      89     170               31   \n",
       "3               1              1    0      68     168               24   \n",
       "4               1              0    1      90     172               30   \n",
       "\n",
       "   Absenteeism time in hours  \n",
       "0                          4  \n",
       "1                          0  \n",
       "2                          2  \n",
       "3                          4  \n",
       "4                          2  \n",
       "\n",
       "[5 rows x 21 columns]"
      ]
     },
     "execution_count": 3,
     "metadata": {},
     "output_type": "execute_result"
    }
   ],
   "source": [
    "raw_data.head()"
   ]
  },
  {
   "cell_type": "code",
   "execution_count": 4,
   "metadata": {
    "colab": {
     "base_uri": "https://localhost:8080/"
    },
    "executionInfo": {
     "elapsed": 53,
     "status": "ok",
     "timestamp": 1623801263961,
     "user": {
      "displayName": "Everton Silva",
      "photoUrl": "https://lh3.googleusercontent.com/a-/AOh14GjcTJRlldyV6KuP5SI3D5WKR1Q0rTzwyBr1UndCW3g=s64",
      "userId": "11269003009281382658"
     },
     "user_tz": 180
    },
    "id": "cUYY_xXLN7tT",
    "outputId": "da7614b7-d5d2-498a-a344-83b617dd136e"
   },
   "outputs": [
    {
     "data": {
      "text/plain": [
       "(740, 21)"
      ]
     },
     "execution_count": 4,
     "metadata": {},
     "output_type": "execute_result"
    }
   ],
   "source": [
    "raw_data.shape"
   ]
  },
  {
   "cell_type": "code",
   "execution_count": 5,
   "metadata": {
    "colab": {
     "base_uri": "https://localhost:8080/"
    },
    "executionInfo": {
     "elapsed": 50,
     "status": "ok",
     "timestamp": 1623801263961,
     "user": {
      "displayName": "Everton Silva",
      "photoUrl": "https://lh3.googleusercontent.com/a-/AOh14GjcTJRlldyV6KuP5SI3D5WKR1Q0rTzwyBr1UndCW3g=s64",
      "userId": "11269003009281382658"
     },
     "user_tz": 180
    },
    "id": "jPlJIwjqObCN",
    "outputId": "2f5d5bbb-990c-4137-a7fb-7ac180f72cad"
   },
   "outputs": [
    {
     "data": {
      "text/plain": [
       "Index(['ID', 'Reason for absence', 'Month of absence', 'Day of the week',\n",
       "       'Seasons', 'Transportation expense', 'Distance from Residence to Work',\n",
       "       'Service time', 'Age', 'Work load Average/day ', 'Hit target',\n",
       "       'Disciplinary failure', 'Education', 'Son', 'Social drinker',\n",
       "       'Social smoker', 'Pet', 'Weight', 'Height', 'Body mass index',\n",
       "       'Absenteeism time in hours'],\n",
       "      dtype='object')"
      ]
     },
     "execution_count": 5,
     "metadata": {},
     "output_type": "execute_result"
    }
   ],
   "source": [
    "raw_data.columns"
   ]
  },
  {
   "cell_type": "markdown",
   "metadata": {
    "id": "eosgLOZVMkkG"
   },
   "source": [
    "O que precisa ser feito em termos de pré-processamento? Devemos examinar os dados cuidadosamente. Mas antes disso, vamos fazer uma cópia do nosso dataset."
   ]
  },
  {
   "cell_type": "code",
   "execution_count": 6,
   "metadata": {
    "executionInfo": {
     "elapsed": 49,
     "status": "ok",
     "timestamp": 1623801263961,
     "user": {
      "displayName": "Everton Silva",
      "photoUrl": "https://lh3.googleusercontent.com/a-/AOh14GjcTJRlldyV6KuP5SI3D5WKR1Q0rTzwyBr1UndCW3g=s64",
      "userId": "11269003009281382658"
     },
     "user_tz": 180
    },
    "id": "tvqG9lZYEkis"
   },
   "outputs": [],
   "source": [
    "df = raw_data.copy()"
   ]
  },
  {
   "cell_type": "code",
   "execution_count": 7,
   "metadata": {
    "executionInfo": {
     "elapsed": 49,
     "status": "ok",
     "timestamp": 1623801263962,
     "user": {
      "displayName": "Everton Silva",
      "photoUrl": "https://lh3.googleusercontent.com/a-/AOh14GjcTJRlldyV6KuP5SI3D5WKR1Q0rTzwyBr1UndCW3g=s64",
      "userId": "11269003009281382658"
     },
     "user_tz": 180
    },
    "id": "0TSefoBmN3FY"
   },
   "outputs": [],
   "source": [
    "#Permitir que mais linhas sejam exibidas\n",
    "pd.options.display.max_rows = 100"
   ]
  },
  {
   "cell_type": "code",
   "execution_count": 8,
   "metadata": {
    "colab": {
     "base_uri": "https://localhost:8080/",
     "height": 487
    },
    "executionInfo": {
     "elapsed": 49,
     "status": "ok",
     "timestamp": 1623801263962,
     "user": {
      "displayName": "Everton Silva",
      "photoUrl": "https://lh3.googleusercontent.com/a-/AOh14GjcTJRlldyV6KuP5SI3D5WKR1Q0rTzwyBr1UndCW3g=s64",
      "userId": "11269003009281382658"
     },
     "user_tz": 180
    },
    "id": "W1PWPGNVOD64",
    "outputId": "e120e6f7-8160-4112-fe1d-29eda2c6c860"
   },
   "outputs": [
    {
     "data": {
      "text/html": [
       "<div>\n",
       "<style scoped>\n",
       "    .dataframe tbody tr th:only-of-type {\n",
       "        vertical-align: middle;\n",
       "    }\n",
       "\n",
       "    .dataframe tbody tr th {\n",
       "        vertical-align: top;\n",
       "    }\n",
       "\n",
       "    .dataframe thead th {\n",
       "        text-align: right;\n",
       "    }\n",
       "</style>\n",
       "<table border=\"1\" class=\"dataframe\">\n",
       "  <thead>\n",
       "    <tr style=\"text-align: right;\">\n",
       "      <th></th>\n",
       "      <th>ID</th>\n",
       "      <th>Reason for absence</th>\n",
       "      <th>Month of absence</th>\n",
       "      <th>Day of the week</th>\n",
       "      <th>Seasons</th>\n",
       "      <th>Transportation expense</th>\n",
       "      <th>Distance from Residence to Work</th>\n",
       "      <th>Service time</th>\n",
       "      <th>Age</th>\n",
       "      <th>Work load Average/day</th>\n",
       "      <th>...</th>\n",
       "      <th>Disciplinary failure</th>\n",
       "      <th>Education</th>\n",
       "      <th>Son</th>\n",
       "      <th>Social drinker</th>\n",
       "      <th>Social smoker</th>\n",
       "      <th>Pet</th>\n",
       "      <th>Weight</th>\n",
       "      <th>Height</th>\n",
       "      <th>Body mass index</th>\n",
       "      <th>Absenteeism time in hours</th>\n",
       "    </tr>\n",
       "  </thead>\n",
       "  <tbody>\n",
       "    <tr>\n",
       "      <th>0</th>\n",
       "      <td>11</td>\n",
       "      <td>26</td>\n",
       "      <td>7</td>\n",
       "      <td>3</td>\n",
       "      <td>1</td>\n",
       "      <td>289</td>\n",
       "      <td>36</td>\n",
       "      <td>13</td>\n",
       "      <td>33</td>\n",
       "      <td>239.554</td>\n",
       "      <td>...</td>\n",
       "      <td>0</td>\n",
       "      <td>1</td>\n",
       "      <td>2</td>\n",
       "      <td>1</td>\n",
       "      <td>0</td>\n",
       "      <td>1</td>\n",
       "      <td>90</td>\n",
       "      <td>172</td>\n",
       "      <td>30</td>\n",
       "      <td>4</td>\n",
       "    </tr>\n",
       "    <tr>\n",
       "      <th>1</th>\n",
       "      <td>36</td>\n",
       "      <td>0</td>\n",
       "      <td>7</td>\n",
       "      <td>3</td>\n",
       "      <td>1</td>\n",
       "      <td>118</td>\n",
       "      <td>13</td>\n",
       "      <td>18</td>\n",
       "      <td>50</td>\n",
       "      <td>239.554</td>\n",
       "      <td>...</td>\n",
       "      <td>1</td>\n",
       "      <td>1</td>\n",
       "      <td>1</td>\n",
       "      <td>1</td>\n",
       "      <td>0</td>\n",
       "      <td>0</td>\n",
       "      <td>98</td>\n",
       "      <td>178</td>\n",
       "      <td>31</td>\n",
       "      <td>0</td>\n",
       "    </tr>\n",
       "    <tr>\n",
       "      <th>2</th>\n",
       "      <td>3</td>\n",
       "      <td>23</td>\n",
       "      <td>7</td>\n",
       "      <td>4</td>\n",
       "      <td>1</td>\n",
       "      <td>179</td>\n",
       "      <td>51</td>\n",
       "      <td>18</td>\n",
       "      <td>38</td>\n",
       "      <td>239.554</td>\n",
       "      <td>...</td>\n",
       "      <td>0</td>\n",
       "      <td>1</td>\n",
       "      <td>0</td>\n",
       "      <td>1</td>\n",
       "      <td>0</td>\n",
       "      <td>0</td>\n",
       "      <td>89</td>\n",
       "      <td>170</td>\n",
       "      <td>31</td>\n",
       "      <td>2</td>\n",
       "    </tr>\n",
       "    <tr>\n",
       "      <th>3</th>\n",
       "      <td>7</td>\n",
       "      <td>7</td>\n",
       "      <td>7</td>\n",
       "      <td>5</td>\n",
       "      <td>1</td>\n",
       "      <td>279</td>\n",
       "      <td>5</td>\n",
       "      <td>14</td>\n",
       "      <td>39</td>\n",
       "      <td>239.554</td>\n",
       "      <td>...</td>\n",
       "      <td>0</td>\n",
       "      <td>1</td>\n",
       "      <td>2</td>\n",
       "      <td>1</td>\n",
       "      <td>1</td>\n",
       "      <td>0</td>\n",
       "      <td>68</td>\n",
       "      <td>168</td>\n",
       "      <td>24</td>\n",
       "      <td>4</td>\n",
       "    </tr>\n",
       "    <tr>\n",
       "      <th>4</th>\n",
       "      <td>11</td>\n",
       "      <td>23</td>\n",
       "      <td>7</td>\n",
       "      <td>5</td>\n",
       "      <td>1</td>\n",
       "      <td>289</td>\n",
       "      <td>36</td>\n",
       "      <td>13</td>\n",
       "      <td>33</td>\n",
       "      <td>239.554</td>\n",
       "      <td>...</td>\n",
       "      <td>0</td>\n",
       "      <td>1</td>\n",
       "      <td>2</td>\n",
       "      <td>1</td>\n",
       "      <td>0</td>\n",
       "      <td>1</td>\n",
       "      <td>90</td>\n",
       "      <td>172</td>\n",
       "      <td>30</td>\n",
       "      <td>2</td>\n",
       "    </tr>\n",
       "    <tr>\n",
       "      <th>...</th>\n",
       "      <td>...</td>\n",
       "      <td>...</td>\n",
       "      <td>...</td>\n",
       "      <td>...</td>\n",
       "      <td>...</td>\n",
       "      <td>...</td>\n",
       "      <td>...</td>\n",
       "      <td>...</td>\n",
       "      <td>...</td>\n",
       "      <td>...</td>\n",
       "      <td>...</td>\n",
       "      <td>...</td>\n",
       "      <td>...</td>\n",
       "      <td>...</td>\n",
       "      <td>...</td>\n",
       "      <td>...</td>\n",
       "      <td>...</td>\n",
       "      <td>...</td>\n",
       "      <td>...</td>\n",
       "      <td>...</td>\n",
       "      <td>...</td>\n",
       "    </tr>\n",
       "    <tr>\n",
       "      <th>735</th>\n",
       "      <td>11</td>\n",
       "      <td>14</td>\n",
       "      <td>7</td>\n",
       "      <td>3</td>\n",
       "      <td>1</td>\n",
       "      <td>289</td>\n",
       "      <td>36</td>\n",
       "      <td>13</td>\n",
       "      <td>33</td>\n",
       "      <td>264.604</td>\n",
       "      <td>...</td>\n",
       "      <td>0</td>\n",
       "      <td>1</td>\n",
       "      <td>2</td>\n",
       "      <td>1</td>\n",
       "      <td>0</td>\n",
       "      <td>1</td>\n",
       "      <td>90</td>\n",
       "      <td>172</td>\n",
       "      <td>30</td>\n",
       "      <td>8</td>\n",
       "    </tr>\n",
       "    <tr>\n",
       "      <th>736</th>\n",
       "      <td>1</td>\n",
       "      <td>11</td>\n",
       "      <td>7</td>\n",
       "      <td>3</td>\n",
       "      <td>1</td>\n",
       "      <td>235</td>\n",
       "      <td>11</td>\n",
       "      <td>14</td>\n",
       "      <td>37</td>\n",
       "      <td>264.604</td>\n",
       "      <td>...</td>\n",
       "      <td>0</td>\n",
       "      <td>3</td>\n",
       "      <td>1</td>\n",
       "      <td>0</td>\n",
       "      <td>0</td>\n",
       "      <td>1</td>\n",
       "      <td>88</td>\n",
       "      <td>172</td>\n",
       "      <td>29</td>\n",
       "      <td>4</td>\n",
       "    </tr>\n",
       "    <tr>\n",
       "      <th>737</th>\n",
       "      <td>4</td>\n",
       "      <td>0</td>\n",
       "      <td>0</td>\n",
       "      <td>3</td>\n",
       "      <td>1</td>\n",
       "      <td>118</td>\n",
       "      <td>14</td>\n",
       "      <td>13</td>\n",
       "      <td>40</td>\n",
       "      <td>271.219</td>\n",
       "      <td>...</td>\n",
       "      <td>0</td>\n",
       "      <td>1</td>\n",
       "      <td>1</td>\n",
       "      <td>1</td>\n",
       "      <td>0</td>\n",
       "      <td>8</td>\n",
       "      <td>98</td>\n",
       "      <td>170</td>\n",
       "      <td>34</td>\n",
       "      <td>0</td>\n",
       "    </tr>\n",
       "    <tr>\n",
       "      <th>738</th>\n",
       "      <td>8</td>\n",
       "      <td>0</td>\n",
       "      <td>0</td>\n",
       "      <td>4</td>\n",
       "      <td>2</td>\n",
       "      <td>231</td>\n",
       "      <td>35</td>\n",
       "      <td>14</td>\n",
       "      <td>39</td>\n",
       "      <td>271.219</td>\n",
       "      <td>...</td>\n",
       "      <td>0</td>\n",
       "      <td>1</td>\n",
       "      <td>2</td>\n",
       "      <td>1</td>\n",
       "      <td>0</td>\n",
       "      <td>2</td>\n",
       "      <td>100</td>\n",
       "      <td>170</td>\n",
       "      <td>35</td>\n",
       "      <td>0</td>\n",
       "    </tr>\n",
       "    <tr>\n",
       "      <th>739</th>\n",
       "      <td>35</td>\n",
       "      <td>0</td>\n",
       "      <td>0</td>\n",
       "      <td>6</td>\n",
       "      <td>3</td>\n",
       "      <td>179</td>\n",
       "      <td>45</td>\n",
       "      <td>14</td>\n",
       "      <td>53</td>\n",
       "      <td>271.219</td>\n",
       "      <td>...</td>\n",
       "      <td>0</td>\n",
       "      <td>1</td>\n",
       "      <td>1</td>\n",
       "      <td>0</td>\n",
       "      <td>0</td>\n",
       "      <td>1</td>\n",
       "      <td>77</td>\n",
       "      <td>175</td>\n",
       "      <td>25</td>\n",
       "      <td>0</td>\n",
       "    </tr>\n",
       "  </tbody>\n",
       "</table>\n",
       "<p>740 rows × 21 columns</p>\n",
       "</div>"
      ],
      "text/plain": [
       "     ID  Reason for absence  Month of absence  Day of the week  Seasons  \\\n",
       "0    11                  26                 7                3        1   \n",
       "1    36                   0                 7                3        1   \n",
       "2     3                  23                 7                4        1   \n",
       "3     7                   7                 7                5        1   \n",
       "4    11                  23                 7                5        1   \n",
       "..   ..                 ...               ...              ...      ...   \n",
       "735  11                  14                 7                3        1   \n",
       "736   1                  11                 7                3        1   \n",
       "737   4                   0                 0                3        1   \n",
       "738   8                   0                 0                4        2   \n",
       "739  35                   0                 0                6        3   \n",
       "\n",
       "     Transportation expense  Distance from Residence to Work  Service time  \\\n",
       "0                       289                               36            13   \n",
       "1                       118                               13            18   \n",
       "2                       179                               51            18   \n",
       "3                       279                                5            14   \n",
       "4                       289                               36            13   \n",
       "..                      ...                              ...           ...   \n",
       "735                     289                               36            13   \n",
       "736                     235                               11            14   \n",
       "737                     118                               14            13   \n",
       "738                     231                               35            14   \n",
       "739                     179                               45            14   \n",
       "\n",
       "     Age  Work load Average/day   ...  Disciplinary failure  Education  Son  \\\n",
       "0     33                 239.554  ...                     0          1    2   \n",
       "1     50                 239.554  ...                     1          1    1   \n",
       "2     38                 239.554  ...                     0          1    0   \n",
       "3     39                 239.554  ...                     0          1    2   \n",
       "4     33                 239.554  ...                     0          1    2   \n",
       "..   ...                     ...  ...                   ...        ...  ...   \n",
       "735   33                 264.604  ...                     0          1    2   \n",
       "736   37                 264.604  ...                     0          3    1   \n",
       "737   40                 271.219  ...                     0          1    1   \n",
       "738   39                 271.219  ...                     0          1    2   \n",
       "739   53                 271.219  ...                     0          1    1   \n",
       "\n",
       "     Social drinker  Social smoker  Pet  Weight  Height  Body mass index  \\\n",
       "0                 1              0    1      90     172               30   \n",
       "1                 1              0    0      98     178               31   \n",
       "2                 1              0    0      89     170               31   \n",
       "3                 1              1    0      68     168               24   \n",
       "4                 1              0    1      90     172               30   \n",
       "..              ...            ...  ...     ...     ...              ...   \n",
       "735               1              0    1      90     172               30   \n",
       "736               0              0    1      88     172               29   \n",
       "737               1              0    8      98     170               34   \n",
       "738               1              0    2     100     170               35   \n",
       "739               0              0    1      77     175               25   \n",
       "\n",
       "     Absenteeism time in hours  \n",
       "0                            4  \n",
       "1                            0  \n",
       "2                            2  \n",
       "3                            4  \n",
       "4                            2  \n",
       "..                         ...  \n",
       "735                          8  \n",
       "736                          4  \n",
       "737                          0  \n",
       "738                          0  \n",
       "739                          0  \n",
       "\n",
       "[740 rows x 21 columns]"
      ]
     },
     "metadata": {},
     "output_type": "display_data"
    }
   ],
   "source": [
    "display(df)"
   ]
  },
  {
   "cell_type": "markdown",
   "metadata": {
    "id": "qE9_45TloUD2"
   },
   "source": [
    "Primeiro vamos renomear as colunas para facilitar a manipulação de dados."
   ]
  },
  {
   "cell_type": "code",
   "execution_count": 9,
   "metadata": {
    "colab": {
     "base_uri": "https://localhost:8080/",
     "height": 357
    },
    "executionInfo": {
     "elapsed": 48,
     "status": "ok",
     "timestamp": 1623801263963,
     "user": {
      "displayName": "Everton Silva",
      "photoUrl": "https://lh3.googleusercontent.com/a-/AOh14GjcTJRlldyV6KuP5SI3D5WKR1Q0rTzwyBr1UndCW3g=s64",
      "userId": "11269003009281382658"
     },
     "user_tz": 180
    },
    "id": "HSN04Ei1od5K",
    "outputId": "14dd2d85-8c75-43cb-a727-a1c5dd345951"
   },
   "outputs": [
    {
     "data": {
      "text/html": [
       "<div>\n",
       "<style scoped>\n",
       "    .dataframe tbody tr th:only-of-type {\n",
       "        vertical-align: middle;\n",
       "    }\n",
       "\n",
       "    .dataframe tbody tr th {\n",
       "        vertical-align: top;\n",
       "    }\n",
       "\n",
       "    .dataframe thead th {\n",
       "        text-align: right;\n",
       "    }\n",
       "</style>\n",
       "<table border=\"1\" class=\"dataframe\">\n",
       "  <thead>\n",
       "    <tr style=\"text-align: right;\">\n",
       "      <th></th>\n",
       "      <th>ID</th>\n",
       "      <th>Reason</th>\n",
       "      <th>Month</th>\n",
       "      <th>Weekday</th>\n",
       "      <th>Season</th>\n",
       "      <th>TransportExpense</th>\n",
       "      <th>Distance</th>\n",
       "      <th>ServiceTime</th>\n",
       "      <th>Age</th>\n",
       "      <th>Workload</th>\n",
       "      <th>...</th>\n",
       "      <th>Failure</th>\n",
       "      <th>Education</th>\n",
       "      <th>Child</th>\n",
       "      <th>Drinker</th>\n",
       "      <th>Smoker</th>\n",
       "      <th>Pet</th>\n",
       "      <th>Weight</th>\n",
       "      <th>Height</th>\n",
       "      <th>BMI</th>\n",
       "      <th>AbsHours</th>\n",
       "    </tr>\n",
       "  </thead>\n",
       "  <tbody>\n",
       "    <tr>\n",
       "      <th>0</th>\n",
       "      <td>11</td>\n",
       "      <td>26</td>\n",
       "      <td>7</td>\n",
       "      <td>3</td>\n",
       "      <td>1</td>\n",
       "      <td>289</td>\n",
       "      <td>36</td>\n",
       "      <td>13</td>\n",
       "      <td>33</td>\n",
       "      <td>239.554</td>\n",
       "      <td>...</td>\n",
       "      <td>0</td>\n",
       "      <td>1</td>\n",
       "      <td>2</td>\n",
       "      <td>1</td>\n",
       "      <td>0</td>\n",
       "      <td>1</td>\n",
       "      <td>90</td>\n",
       "      <td>172</td>\n",
       "      <td>30</td>\n",
       "      <td>4</td>\n",
       "    </tr>\n",
       "    <tr>\n",
       "      <th>1</th>\n",
       "      <td>36</td>\n",
       "      <td>0</td>\n",
       "      <td>7</td>\n",
       "      <td>3</td>\n",
       "      <td>1</td>\n",
       "      <td>118</td>\n",
       "      <td>13</td>\n",
       "      <td>18</td>\n",
       "      <td>50</td>\n",
       "      <td>239.554</td>\n",
       "      <td>...</td>\n",
       "      <td>1</td>\n",
       "      <td>1</td>\n",
       "      <td>1</td>\n",
       "      <td>1</td>\n",
       "      <td>0</td>\n",
       "      <td>0</td>\n",
       "      <td>98</td>\n",
       "      <td>178</td>\n",
       "      <td>31</td>\n",
       "      <td>0</td>\n",
       "    </tr>\n",
       "    <tr>\n",
       "      <th>2</th>\n",
       "      <td>3</td>\n",
       "      <td>23</td>\n",
       "      <td>7</td>\n",
       "      <td>4</td>\n",
       "      <td>1</td>\n",
       "      <td>179</td>\n",
       "      <td>51</td>\n",
       "      <td>18</td>\n",
       "      <td>38</td>\n",
       "      <td>239.554</td>\n",
       "      <td>...</td>\n",
       "      <td>0</td>\n",
       "      <td>1</td>\n",
       "      <td>0</td>\n",
       "      <td>1</td>\n",
       "      <td>0</td>\n",
       "      <td>0</td>\n",
       "      <td>89</td>\n",
       "      <td>170</td>\n",
       "      <td>31</td>\n",
       "      <td>2</td>\n",
       "    </tr>\n",
       "    <tr>\n",
       "      <th>3</th>\n",
       "      <td>7</td>\n",
       "      <td>7</td>\n",
       "      <td>7</td>\n",
       "      <td>5</td>\n",
       "      <td>1</td>\n",
       "      <td>279</td>\n",
       "      <td>5</td>\n",
       "      <td>14</td>\n",
       "      <td>39</td>\n",
       "      <td>239.554</td>\n",
       "      <td>...</td>\n",
       "      <td>0</td>\n",
       "      <td>1</td>\n",
       "      <td>2</td>\n",
       "      <td>1</td>\n",
       "      <td>1</td>\n",
       "      <td>0</td>\n",
       "      <td>68</td>\n",
       "      <td>168</td>\n",
       "      <td>24</td>\n",
       "      <td>4</td>\n",
       "    </tr>\n",
       "    <tr>\n",
       "      <th>4</th>\n",
       "      <td>11</td>\n",
       "      <td>23</td>\n",
       "      <td>7</td>\n",
       "      <td>5</td>\n",
       "      <td>1</td>\n",
       "      <td>289</td>\n",
       "      <td>36</td>\n",
       "      <td>13</td>\n",
       "      <td>33</td>\n",
       "      <td>239.554</td>\n",
       "      <td>...</td>\n",
       "      <td>0</td>\n",
       "      <td>1</td>\n",
       "      <td>2</td>\n",
       "      <td>1</td>\n",
       "      <td>0</td>\n",
       "      <td>1</td>\n",
       "      <td>90</td>\n",
       "      <td>172</td>\n",
       "      <td>30</td>\n",
       "      <td>2</td>\n",
       "    </tr>\n",
       "    <tr>\n",
       "      <th>5</th>\n",
       "      <td>3</td>\n",
       "      <td>23</td>\n",
       "      <td>7</td>\n",
       "      <td>6</td>\n",
       "      <td>1</td>\n",
       "      <td>179</td>\n",
       "      <td>51</td>\n",
       "      <td>18</td>\n",
       "      <td>38</td>\n",
       "      <td>239.554</td>\n",
       "      <td>...</td>\n",
       "      <td>0</td>\n",
       "      <td>1</td>\n",
       "      <td>0</td>\n",
       "      <td>1</td>\n",
       "      <td>0</td>\n",
       "      <td>0</td>\n",
       "      <td>89</td>\n",
       "      <td>170</td>\n",
       "      <td>31</td>\n",
       "      <td>2</td>\n",
       "    </tr>\n",
       "    <tr>\n",
       "      <th>6</th>\n",
       "      <td>10</td>\n",
       "      <td>22</td>\n",
       "      <td>7</td>\n",
       "      <td>6</td>\n",
       "      <td>1</td>\n",
       "      <td>361</td>\n",
       "      <td>52</td>\n",
       "      <td>3</td>\n",
       "      <td>28</td>\n",
       "      <td>239.554</td>\n",
       "      <td>...</td>\n",
       "      <td>0</td>\n",
       "      <td>1</td>\n",
       "      <td>1</td>\n",
       "      <td>1</td>\n",
       "      <td>0</td>\n",
       "      <td>4</td>\n",
       "      <td>80</td>\n",
       "      <td>172</td>\n",
       "      <td>27</td>\n",
       "      <td>8</td>\n",
       "    </tr>\n",
       "    <tr>\n",
       "      <th>7</th>\n",
       "      <td>20</td>\n",
       "      <td>23</td>\n",
       "      <td>7</td>\n",
       "      <td>6</td>\n",
       "      <td>1</td>\n",
       "      <td>260</td>\n",
       "      <td>50</td>\n",
       "      <td>11</td>\n",
       "      <td>36</td>\n",
       "      <td>239.554</td>\n",
       "      <td>...</td>\n",
       "      <td>0</td>\n",
       "      <td>1</td>\n",
       "      <td>4</td>\n",
       "      <td>1</td>\n",
       "      <td>0</td>\n",
       "      <td>0</td>\n",
       "      <td>65</td>\n",
       "      <td>168</td>\n",
       "      <td>23</td>\n",
       "      <td>4</td>\n",
       "    </tr>\n",
       "    <tr>\n",
       "      <th>8</th>\n",
       "      <td>14</td>\n",
       "      <td>19</td>\n",
       "      <td>7</td>\n",
       "      <td>2</td>\n",
       "      <td>1</td>\n",
       "      <td>155</td>\n",
       "      <td>12</td>\n",
       "      <td>14</td>\n",
       "      <td>34</td>\n",
       "      <td>239.554</td>\n",
       "      <td>...</td>\n",
       "      <td>0</td>\n",
       "      <td>1</td>\n",
       "      <td>2</td>\n",
       "      <td>1</td>\n",
       "      <td>0</td>\n",
       "      <td>0</td>\n",
       "      <td>95</td>\n",
       "      <td>196</td>\n",
       "      <td>25</td>\n",
       "      <td>40</td>\n",
       "    </tr>\n",
       "    <tr>\n",
       "      <th>9</th>\n",
       "      <td>1</td>\n",
       "      <td>22</td>\n",
       "      <td>7</td>\n",
       "      <td>2</td>\n",
       "      <td>1</td>\n",
       "      <td>235</td>\n",
       "      <td>11</td>\n",
       "      <td>14</td>\n",
       "      <td>37</td>\n",
       "      <td>239.554</td>\n",
       "      <td>...</td>\n",
       "      <td>0</td>\n",
       "      <td>3</td>\n",
       "      <td>1</td>\n",
       "      <td>0</td>\n",
       "      <td>0</td>\n",
       "      <td>1</td>\n",
       "      <td>88</td>\n",
       "      <td>172</td>\n",
       "      <td>29</td>\n",
       "      <td>8</td>\n",
       "    </tr>\n",
       "  </tbody>\n",
       "</table>\n",
       "<p>10 rows × 21 columns</p>\n",
       "</div>"
      ],
      "text/plain": [
       "   ID  Reason  Month  Weekday  Season  TransportExpense  Distance  \\\n",
       "0  11      26      7        3       1               289        36   \n",
       "1  36       0      7        3       1               118        13   \n",
       "2   3      23      7        4       1               179        51   \n",
       "3   7       7      7        5       1               279         5   \n",
       "4  11      23      7        5       1               289        36   \n",
       "5   3      23      7        6       1               179        51   \n",
       "6  10      22      7        6       1               361        52   \n",
       "7  20      23      7        6       1               260        50   \n",
       "8  14      19      7        2       1               155        12   \n",
       "9   1      22      7        2       1               235        11   \n",
       "\n",
       "   ServiceTime  Age  Workload  ...  Failure  Education  Child  Drinker  \\\n",
       "0           13   33   239.554  ...        0          1      2        1   \n",
       "1           18   50   239.554  ...        1          1      1        1   \n",
       "2           18   38   239.554  ...        0          1      0        1   \n",
       "3           14   39   239.554  ...        0          1      2        1   \n",
       "4           13   33   239.554  ...        0          1      2        1   \n",
       "5           18   38   239.554  ...        0          1      0        1   \n",
       "6            3   28   239.554  ...        0          1      1        1   \n",
       "7           11   36   239.554  ...        0          1      4        1   \n",
       "8           14   34   239.554  ...        0          1      2        1   \n",
       "9           14   37   239.554  ...        0          3      1        0   \n",
       "\n",
       "   Smoker  Pet  Weight  Height  BMI  AbsHours  \n",
       "0       0    1      90     172   30         4  \n",
       "1       0    0      98     178   31         0  \n",
       "2       0    0      89     170   31         2  \n",
       "3       1    0      68     168   24         4  \n",
       "4       0    1      90     172   30         2  \n",
       "5       0    0      89     170   31         2  \n",
       "6       0    4      80     172   27         8  \n",
       "7       0    0      65     168   23         4  \n",
       "8       0    0      95     196   25        40  \n",
       "9       0    1      88     172   29         8  \n",
       "\n",
       "[10 rows x 21 columns]"
      ]
     },
     "execution_count": 9,
     "metadata": {},
     "output_type": "execute_result"
    }
   ],
   "source": [
    "df.rename(columns={'Reason for absence': 'Reason', 'Month of absence': 'Month', 'Day of the week': 'Weekday',\n",
    "                   'Seasons': 'Season', 'Disciplinary failure': 'Failure', 'Transportation expense': 'TransportExpense',\n",
    "                   'Distance from Residence to Work': 'Distance', 'Service time': 'ServiceTime', 'Work load Average/day ': 'Workload',\n",
    "                   'Hit target': 'HitTarget', 'Son': 'Child', 'Social drinker': 'Drinker', 'Social smoker': 'Smoker', 'Body mass index': 'BMI',\n",
    "                   'Absenteeism time in hours': 'AbsHours'}, inplace = True)\n",
    "df.head(10)"
   ]
  },
  {
   "cell_type": "markdown",
   "metadata": {
    "id": "AvEc49zJOYbI"
   },
   "source": [
    "Suponha que queremos saber a quantidade de missing values e o conjunto de dados é BEM MAIOR do que este."
   ]
  },
  {
   "cell_type": "code",
   "execution_count": 10,
   "metadata": {
    "colab": {
     "base_uri": "https://localhost:8080/"
    },
    "executionInfo": {
     "elapsed": 47,
     "status": "ok",
     "timestamp": 1623801263963,
     "user": {
      "displayName": "Everton Silva",
      "photoUrl": "https://lh3.googleusercontent.com/a-/AOh14GjcTJRlldyV6KuP5SI3D5WKR1Q0rTzwyBr1UndCW3g=s64",
      "userId": "11269003009281382658"
     },
     "user_tz": 180
    },
    "id": "7anXakzbOP6w",
    "outputId": "87ac0b7d-04d1-4417-fa15-1ac5f7d1bffd"
   },
   "outputs": [
    {
     "name": "stdout",
     "output_type": "stream",
     "text": [
      "<class 'pandas.core.frame.DataFrame'>\n",
      "RangeIndex: 740 entries, 0 to 739\n",
      "Data columns (total 21 columns):\n",
      " #   Column            Non-Null Count  Dtype  \n",
      "---  ------            --------------  -----  \n",
      " 0   ID                740 non-null    int64  \n",
      " 1   Reason            740 non-null    int64  \n",
      " 2   Month             740 non-null    int64  \n",
      " 3   Weekday           740 non-null    int64  \n",
      " 4   Season            740 non-null    int64  \n",
      " 5   TransportExpense  740 non-null    int64  \n",
      " 6   Distance          740 non-null    int64  \n",
      " 7   ServiceTime       740 non-null    int64  \n",
      " 8   Age               740 non-null    int64  \n",
      " 9   Workload          740 non-null    float64\n",
      " 10  HitTarget         740 non-null    int64  \n",
      " 11  Failure           740 non-null    int64  \n",
      " 12  Education         740 non-null    int64  \n",
      " 13  Child             740 non-null    int64  \n",
      " 14  Drinker           740 non-null    int64  \n",
      " 15  Smoker            740 non-null    int64  \n",
      " 16  Pet               740 non-null    int64  \n",
      " 17  Weight            740 non-null    int64  \n",
      " 18  Height            740 non-null    int64  \n",
      " 19  BMI               740 non-null    int64  \n",
      " 20  AbsHours          740 non-null    int64  \n",
      "dtypes: float64(1), int64(20)\n",
      "memory usage: 121.5 KB\n"
     ]
    }
   ],
   "source": [
    "df.info()"
   ]
  },
  {
   "cell_type": "markdown",
   "metadata": {
    "id": "_Zva6Hv3O71q"
   },
   "source": [
    "Podemos ver que todas as colunas têm exatamente 740 valores. Isso significa que **não temos** valores faltantes (missing values)."
   ]
  },
  {
   "cell_type": "markdown",
   "metadata": {
    "id": "j_scXHXRDBdx"
   },
   "source": [
    "### Change the appropriate data types of the columns"
   ]
  },
  {
   "cell_type": "code",
   "execution_count": 11,
   "metadata": {
    "colab": {
     "base_uri": "https://localhost:8080/"
    },
    "executionInfo": {
     "elapsed": 45,
     "status": "ok",
     "timestamp": 1623801263964,
     "user": {
      "displayName": "Everton Silva",
      "photoUrl": "https://lh3.googleusercontent.com/a-/AOh14GjcTJRlldyV6KuP5SI3D5WKR1Q0rTzwyBr1UndCW3g=s64",
      "userId": "11269003009281382658"
     },
     "user_tz": 180
    },
    "id": "pMibGVjMrRSX",
    "outputId": "093e384d-ccee-4c55-d36c-effd40c02f76"
   },
   "outputs": [
    {
     "data": {
      "text/plain": [
       "ID                    int64\n",
       "Reason                int64\n",
       "Month                 int64\n",
       "Weekday               int64\n",
       "Season                int64\n",
       "TransportExpense      int64\n",
       "Distance              int64\n",
       "ServiceTime           int64\n",
       "Age                   int64\n",
       "Workload            float64\n",
       "HitTarget             int64\n",
       "Failure               int64\n",
       "Education             int64\n",
       "Child                 int64\n",
       "Drinker               int64\n",
       "Smoker                int64\n",
       "Pet                   int64\n",
       "Weight                int64\n",
       "Height                int64\n",
       "BMI                   int64\n",
       "AbsHours              int64\n",
       "dtype: object"
      ]
     },
     "execution_count": 11,
     "metadata": {},
     "output_type": "execute_result"
    }
   ],
   "source": [
    "df.dtypes"
   ]
  },
  {
   "cell_type": "markdown",
   "metadata": {
    "id": "nvwmPBKtDZv8"
   },
   "source": [
    "Todos os atributos estão como inteiros ou float. Mas se analisarmos o dicionário de dados, percebemos que existem variáveis categóricas e booleanas.\n"
   ]
  },
  {
   "cell_type": "markdown",
   "metadata": {
    "id": "80ivADEpEsiL"
   },
   "source": [
    "**Reason of Abesence**"
   ]
  },
  {
   "cell_type": "code",
   "execution_count": 12,
   "metadata": {
    "colab": {
     "base_uri": "https://localhost:8080/"
    },
    "executionInfo": {
     "elapsed": 43,
     "status": "ok",
     "timestamp": 1623801263964,
     "user": {
      "displayName": "Everton Silva",
      "photoUrl": "https://lh3.googleusercontent.com/a-/AOh14GjcTJRlldyV6KuP5SI3D5WKR1Q0rTzwyBr1UndCW3g=s64",
      "userId": "11269003009281382658"
     },
     "user_tz": 180
    },
    "id": "RTIIHvauE1eL",
    "outputId": "f2b471b5-889e-48c8-d160-241d30e10edd"
   },
   "outputs": [
    {
     "data": {
      "text/plain": [
       "array([26,  0, 23,  7, 22, 19,  1, 11, 14, 21, 10, 13, 28, 18, 25, 24,  6,\n",
       "       27, 17,  8, 12,  5,  9, 15,  4,  3,  2, 16])"
      ]
     },
     "execution_count": 12,
     "metadata": {},
     "output_type": "execute_result"
    }
   ],
   "source": [
    "df['Reason'].unique()"
   ]
  },
  {
   "cell_type": "code",
   "execution_count": 13,
   "metadata": {
    "colab": {
     "base_uri": "https://localhost:8080/"
    },
    "executionInfo": {
     "elapsed": 43,
     "status": "ok",
     "timestamp": 1623801263965,
     "user": {
      "displayName": "Everton Silva",
      "photoUrl": "https://lh3.googleusercontent.com/a-/AOh14GjcTJRlldyV6KuP5SI3D5WKR1Q0rTzwyBr1UndCW3g=s64",
      "userId": "11269003009281382658"
     },
     "user_tz": 180
    },
    "id": "_Vvunqh5RpE1",
    "outputId": "7f887012-7406-42e3-ca58-0b7296d11136"
   },
   "outputs": [
    {
     "data": {
      "text/plain": [
       "0"
      ]
     },
     "execution_count": 13,
     "metadata": {},
     "output_type": "execute_result"
    }
   ],
   "source": [
    "df['Reason'].min()"
   ]
  },
  {
   "cell_type": "code",
   "execution_count": 14,
   "metadata": {
    "colab": {
     "base_uri": "https://localhost:8080/"
    },
    "executionInfo": {
     "elapsed": 43,
     "status": "ok",
     "timestamp": 1623801263966,
     "user": {
      "displayName": "Everton Silva",
      "photoUrl": "https://lh3.googleusercontent.com/a-/AOh14GjcTJRlldyV6KuP5SI3D5WKR1Q0rTzwyBr1UndCW3g=s64",
      "userId": "11269003009281382658"
     },
     "user_tz": 180
    },
    "id": "MvOUckdXRspp",
    "outputId": "334a8877-c8c0-4ea5-cd27-684b699200b4"
   },
   "outputs": [
    {
     "data": {
      "text/plain": [
       "28"
      ]
     },
     "execution_count": 14,
     "metadata": {},
     "output_type": "execute_result"
    }
   ],
   "source": [
    "df['Reason'].max()"
   ]
  },
  {
   "cell_type": "code",
   "execution_count": 15,
   "metadata": {
    "colab": {
     "base_uri": "https://localhost:8080/"
    },
    "executionInfo": {
     "elapsed": 42,
     "status": "ok",
     "timestamp": 1623801263967,
     "user": {
      "displayName": "Everton Silva",
      "photoUrl": "https://lh3.googleusercontent.com/a-/AOh14GjcTJRlldyV6KuP5SI3D5WKR1Q0rTzwyBr1UndCW3g=s64",
      "userId": "11269003009281382658"
     },
     "user_tz": 180
    },
    "id": "1YVa_jS0E9aA",
    "outputId": "892149c7-a323-4a2d-a2dc-c3bc00d3a776"
   },
   "outputs": [
    {
     "data": {
      "text/plain": [
       "28"
      ]
     },
     "execution_count": 15,
     "metadata": {},
     "output_type": "execute_result"
    }
   ],
   "source": [
    "len(df['Reason'].unique())"
   ]
  },
  {
   "cell_type": "markdown",
   "metadata": {
    "id": "GH6Ub9JOFf0D"
   },
   "source": [
    "Parece que temos uma categoria que não aparece na base de dados. Qual é?"
   ]
  },
  {
   "cell_type": "code",
   "execution_count": 16,
   "metadata": {
    "colab": {
     "base_uri": "https://localhost:8080/"
    },
    "executionInfo": {
     "elapsed": 42,
     "status": "ok",
     "timestamp": 1623801263968,
     "user": {
      "displayName": "Everton Silva",
      "photoUrl": "https://lh3.googleusercontent.com/a-/AOh14GjcTJRlldyV6KuP5SI3D5WKR1Q0rTzwyBr1UndCW3g=s64",
      "userId": "11269003009281382658"
     },
     "user_tz": 180
    },
    "id": "VesMPKnuFZUp",
    "outputId": "7c7c1184-bacd-4199-c4d0-aa22e31eab02"
   },
   "outputs": [
    {
     "data": {
      "text/plain": [
       "[0,\n",
       " 1,\n",
       " 2,\n",
       " 3,\n",
       " 4,\n",
       " 5,\n",
       " 6,\n",
       " 7,\n",
       " 8,\n",
       " 9,\n",
       " 10,\n",
       " 11,\n",
       " 12,\n",
       " 13,\n",
       " 14,\n",
       " 15,\n",
       " 16,\n",
       " 17,\n",
       " 18,\n",
       " 19,\n",
       " 21,\n",
       " 22,\n",
       " 23,\n",
       " 24,\n",
       " 25,\n",
       " 26,\n",
       " 27,\n",
       " 28]"
      ]
     },
     "execution_count": 16,
     "metadata": {},
     "output_type": "execute_result"
    }
   ],
   "source": [
    "sorted(df['Reason'].unique())"
   ]
  },
  {
   "cell_type": "markdown",
   "metadata": {
    "id": "V9zlnt98GK6e"
   },
   "source": [
    "A categoria 20, External causes of morbidity and mortality, não aparece nenhuma vez. Voltaremos a manipular esta coluna quando estivermos preparando a base de dados para aplicar algum algoritmo de ML."
   ]
  },
  {
   "cell_type": "code",
   "execution_count": 17,
   "metadata": {
    "executionInfo": {
     "elapsed": 43,
     "status": "ok",
     "timestamp": 1623801263969,
     "user": {
      "displayName": "Everton Silva",
      "photoUrl": "https://lh3.googleusercontent.com/a-/AOh14GjcTJRlldyV6KuP5SI3D5WKR1Q0rTzwyBr1UndCW3g=s64",
      "userId": "11269003009281382658"
     },
     "user_tz": 180
    },
    "id": "L25ucTkLDuxn"
   },
   "outputs": [],
   "source": [
    "df['Reason'] = df['Reason'].astype('category')"
   ]
  },
  {
   "cell_type": "code",
   "execution_count": 18,
   "metadata": {
    "colab": {
     "base_uri": "https://localhost:8080/"
    },
    "executionInfo": {
     "elapsed": 43,
     "status": "ok",
     "timestamp": 1623801263970,
     "user": {
      "displayName": "Everton Silva",
      "photoUrl": "https://lh3.googleusercontent.com/a-/AOh14GjcTJRlldyV6KuP5SI3D5WKR1Q0rTzwyBr1UndCW3g=s64",
      "userId": "11269003009281382658"
     },
     "user_tz": 180
    },
    "id": "paa5CeoWSgX0",
    "outputId": "bf0c3225-6702-4777-919b-98212ee26ec3"
   },
   "outputs": [
    {
     "data": {
      "text/plain": [
       "CategoricalDtype(categories=[ 0,  1,  2,  3,  4,  5,  6,  7,  8,  9, 10, 11, 12, 13, 14,\n",
       "                  15, 16, 17, 18, 19, 21, 22, 23, 24, 25, 26, 27, 28],\n",
       ", ordered=False)"
      ]
     },
     "execution_count": 18,
     "metadata": {},
     "output_type": "execute_result"
    }
   ],
   "source": [
    "df['Reason'].dtypes"
   ]
  },
  {
   "cell_type": "markdown",
   "metadata": {
    "id": "R4k9sn_EG54d"
   },
   "source": [
    "**Month, Weekday and Season**"
   ]
  },
  {
   "cell_type": "code",
   "execution_count": 19,
   "metadata": {
    "colab": {
     "base_uri": "https://localhost:8080/"
    },
    "executionInfo": {
     "elapsed": 44,
     "status": "ok",
     "timestamp": 1623801263972,
     "user": {
      "displayName": "Everton Silva",
      "photoUrl": "https://lh3.googleusercontent.com/a-/AOh14GjcTJRlldyV6KuP5SI3D5WKR1Q0rTzwyBr1UndCW3g=s64",
      "userId": "11269003009281382658"
     },
     "user_tz": 180
    },
    "id": "WyFTGUreHFkz",
    "outputId": "540c9f38-f23e-4cf9-af7a-616d2e6f519b"
   },
   "outputs": [
    {
     "data": {
      "text/plain": [
       "array([ 7,  8,  9, 10, 11, 12,  1,  2,  3,  4,  5,  6,  0])"
      ]
     },
     "execution_count": 19,
     "metadata": {},
     "output_type": "execute_result"
    }
   ],
   "source": [
    "df['Month'].unique()"
   ]
  },
  {
   "cell_type": "code",
   "execution_count": 20,
   "metadata": {
    "colab": {
     "base_uri": "https://localhost:8080/"
    },
    "executionInfo": {
     "elapsed": 44,
     "status": "ok",
     "timestamp": 1623801263972,
     "user": {
      "displayName": "Everton Silva",
      "photoUrl": "https://lh3.googleusercontent.com/a-/AOh14GjcTJRlldyV6KuP5SI3D5WKR1Q0rTzwyBr1UndCW3g=s64",
      "userId": "11269003009281382658"
     },
     "user_tz": 180
    },
    "id": "qrKUmBScBLlR",
    "outputId": "1ad59e2b-1b1f-4048-f081-3d705395b813"
   },
   "outputs": [
    {
     "data": {
      "text/plain": [
       "13"
      ]
     },
     "execution_count": 20,
     "metadata": {},
     "output_type": "execute_result"
    }
   ],
   "source": [
    "len(df['Month'].unique())"
   ]
  },
  {
   "cell_type": "markdown",
   "metadata": {
    "id": "MdIP0v3jBTP9"
   },
   "source": [
    "Temos uma categoria 0 para representar o mês e provavelmente os registros com este valor estão corrompidos. **Vamos remover essas linhas.**"
   ]
  },
  {
   "cell_type": "code",
   "execution_count": 21,
   "metadata": {
    "colab": {
     "base_uri": "https://localhost:8080/",
     "height": 0
    },
    "executionInfo": {
     "elapsed": 44,
     "status": "ok",
     "timestamp": 1623801263973,
     "user": {
      "displayName": "Everton Silva",
      "photoUrl": "https://lh3.googleusercontent.com/a-/AOh14GjcTJRlldyV6KuP5SI3D5WKR1Q0rTzwyBr1UndCW3g=s64",
      "userId": "11269003009281382658"
     },
     "user_tz": 180
    },
    "id": "xqtEkqRZBSNp",
    "outputId": "9e74e8f1-4d0e-4cbf-f378-a0ca608de53b"
   },
   "outputs": [
    {
     "data": {
      "text/html": [
       "<div>\n",
       "<style scoped>\n",
       "    .dataframe tbody tr th:only-of-type {\n",
       "        vertical-align: middle;\n",
       "    }\n",
       "\n",
       "    .dataframe tbody tr th {\n",
       "        vertical-align: top;\n",
       "    }\n",
       "\n",
       "    .dataframe thead th {\n",
       "        text-align: right;\n",
       "    }\n",
       "</style>\n",
       "<table border=\"1\" class=\"dataframe\">\n",
       "  <thead>\n",
       "    <tr style=\"text-align: right;\">\n",
       "      <th></th>\n",
       "      <th>ID</th>\n",
       "      <th>Reason</th>\n",
       "      <th>Month</th>\n",
       "      <th>Weekday</th>\n",
       "      <th>Season</th>\n",
       "      <th>TransportExpense</th>\n",
       "      <th>Distance</th>\n",
       "      <th>ServiceTime</th>\n",
       "      <th>Age</th>\n",
       "      <th>Workload</th>\n",
       "      <th>...</th>\n",
       "      <th>Failure</th>\n",
       "      <th>Education</th>\n",
       "      <th>Child</th>\n",
       "      <th>Drinker</th>\n",
       "      <th>Smoker</th>\n",
       "      <th>Pet</th>\n",
       "      <th>Weight</th>\n",
       "      <th>Height</th>\n",
       "      <th>BMI</th>\n",
       "      <th>AbsHours</th>\n",
       "    </tr>\n",
       "  </thead>\n",
       "  <tbody>\n",
       "    <tr>\n",
       "      <th>737</th>\n",
       "      <td>4</td>\n",
       "      <td>0</td>\n",
       "      <td>0</td>\n",
       "      <td>3</td>\n",
       "      <td>1</td>\n",
       "      <td>118</td>\n",
       "      <td>14</td>\n",
       "      <td>13</td>\n",
       "      <td>40</td>\n",
       "      <td>271.219</td>\n",
       "      <td>...</td>\n",
       "      <td>0</td>\n",
       "      <td>1</td>\n",
       "      <td>1</td>\n",
       "      <td>1</td>\n",
       "      <td>0</td>\n",
       "      <td>8</td>\n",
       "      <td>98</td>\n",
       "      <td>170</td>\n",
       "      <td>34</td>\n",
       "      <td>0</td>\n",
       "    </tr>\n",
       "    <tr>\n",
       "      <th>738</th>\n",
       "      <td>8</td>\n",
       "      <td>0</td>\n",
       "      <td>0</td>\n",
       "      <td>4</td>\n",
       "      <td>2</td>\n",
       "      <td>231</td>\n",
       "      <td>35</td>\n",
       "      <td>14</td>\n",
       "      <td>39</td>\n",
       "      <td>271.219</td>\n",
       "      <td>...</td>\n",
       "      <td>0</td>\n",
       "      <td>1</td>\n",
       "      <td>2</td>\n",
       "      <td>1</td>\n",
       "      <td>0</td>\n",
       "      <td>2</td>\n",
       "      <td>100</td>\n",
       "      <td>170</td>\n",
       "      <td>35</td>\n",
       "      <td>0</td>\n",
       "    </tr>\n",
       "    <tr>\n",
       "      <th>739</th>\n",
       "      <td>35</td>\n",
       "      <td>0</td>\n",
       "      <td>0</td>\n",
       "      <td>6</td>\n",
       "      <td>3</td>\n",
       "      <td>179</td>\n",
       "      <td>45</td>\n",
       "      <td>14</td>\n",
       "      <td>53</td>\n",
       "      <td>271.219</td>\n",
       "      <td>...</td>\n",
       "      <td>0</td>\n",
       "      <td>1</td>\n",
       "      <td>1</td>\n",
       "      <td>0</td>\n",
       "      <td>0</td>\n",
       "      <td>1</td>\n",
       "      <td>77</td>\n",
       "      <td>175</td>\n",
       "      <td>25</td>\n",
       "      <td>0</td>\n",
       "    </tr>\n",
       "  </tbody>\n",
       "</table>\n",
       "<p>3 rows × 21 columns</p>\n",
       "</div>"
      ],
      "text/plain": [
       "     ID Reason  Month  Weekday  Season  TransportExpense  Distance  \\\n",
       "737   4      0      0        3       1               118        14   \n",
       "738   8      0      0        4       2               231        35   \n",
       "739  35      0      0        6       3               179        45   \n",
       "\n",
       "     ServiceTime  Age  Workload  ...  Failure  Education  Child  Drinker  \\\n",
       "737           13   40   271.219  ...        0          1      1        1   \n",
       "738           14   39   271.219  ...        0          1      2        1   \n",
       "739           14   53   271.219  ...        0          1      1        0   \n",
       "\n",
       "     Smoker  Pet  Weight  Height  BMI  AbsHours  \n",
       "737       0    8      98     170   34         0  \n",
       "738       0    2     100     170   35         0  \n",
       "739       0    1      77     175   25         0  \n",
       "\n",
       "[3 rows x 21 columns]"
      ]
     },
     "execution_count": 21,
     "metadata": {},
     "output_type": "execute_result"
    }
   ],
   "source": [
    "df[df['Month']==0]"
   ]
  },
  {
   "cell_type": "code",
   "execution_count": 22,
   "metadata": {
    "executionInfo": {
     "elapsed": 44,
     "status": "ok",
     "timestamp": 1623801263974,
     "user": {
      "displayName": "Everton Silva",
      "photoUrl": "https://lh3.googleusercontent.com/a-/AOh14GjcTJRlldyV6KuP5SI3D5WKR1Q0rTzwyBr1UndCW3g=s64",
      "userId": "11269003009281382658"
     },
     "user_tz": 180
    },
    "id": "Z1j7eemFCNn-"
   },
   "outputs": [],
   "source": [
    "df = df[df['Month'] != 0]"
   ]
  },
  {
   "cell_type": "code",
   "execution_count": 23,
   "metadata": {
    "colab": {
     "base_uri": "https://localhost:8080/"
    },
    "executionInfo": {
     "elapsed": 43,
     "status": "ok",
     "timestamp": 1623801263974,
     "user": {
      "displayName": "Everton Silva",
      "photoUrl": "https://lh3.googleusercontent.com/a-/AOh14GjcTJRlldyV6KuP5SI3D5WKR1Q0rTzwyBr1UndCW3g=s64",
      "userId": "11269003009281382658"
     },
     "user_tz": 180
    },
    "id": "vjbwrcW-CaXy",
    "outputId": "33fdfb66-3112-498c-8f29-3ef4e408c392"
   },
   "outputs": [
    {
     "data": {
      "text/plain": [
       "(737, 21)"
      ]
     },
     "execution_count": 23,
     "metadata": {},
     "output_type": "execute_result"
    }
   ],
   "source": [
    "df.shape"
   ]
  },
  {
   "cell_type": "code",
   "execution_count": 24,
   "metadata": {
    "colab": {
     "base_uri": "https://localhost:8080/"
    },
    "executionInfo": {
     "elapsed": 44,
     "status": "ok",
     "timestamp": 1623801263975,
     "user": {
      "displayName": "Everton Silva",
      "photoUrl": "https://lh3.googleusercontent.com/a-/AOh14GjcTJRlldyV6KuP5SI3D5WKR1Q0rTzwyBr1UndCW3g=s64",
      "userId": "11269003009281382658"
     },
     "user_tz": 180
    },
    "id": "59fR7_5iIbaq",
    "outputId": "c413d905-04f0-4b57-d591-6b1cd51df9fd"
   },
   "outputs": [
    {
     "data": {
      "text/plain": [
       "array([3, 4, 5, 6, 2])"
      ]
     },
     "execution_count": 24,
     "metadata": {},
     "output_type": "execute_result"
    }
   ],
   "source": [
    "#Day of the week (Monday (2), Tuesday (3), Wednesday (4), Thursday (5), Friday (6))\n",
    "df['Weekday'].unique()"
   ]
  },
  {
   "cell_type": "code",
   "execution_count": 25,
   "metadata": {
    "colab": {
     "base_uri": "https://localhost:8080/"
    },
    "executionInfo": {
     "elapsed": 43,
     "status": "ok",
     "timestamp": 1623801263975,
     "user": {
      "displayName": "Everton Silva",
      "photoUrl": "https://lh3.googleusercontent.com/a-/AOh14GjcTJRlldyV6KuP5SI3D5WKR1Q0rTzwyBr1UndCW3g=s64",
      "userId": "11269003009281382658"
     },
     "user_tz": 180
    },
    "id": "OPhFatL-JFx7",
    "outputId": "bbbfb068-e6d0-43ad-8ed5-8b236b68062a"
   },
   "outputs": [
    {
     "data": {
      "text/plain": [
       "array([1, 4, 2, 3])"
      ]
     },
     "execution_count": 25,
     "metadata": {},
     "output_type": "execute_result"
    }
   ],
   "source": [
    "#Seasons (summer (1), autumn (2), winter (3), spring (4))\n",
    "df['Season'].unique()"
   ]
  },
  {
   "cell_type": "code",
   "execution_count": 26,
   "metadata": {
    "executionInfo": {
     "elapsed": 41,
     "status": "ok",
     "timestamp": 1623801263975,
     "user": {
      "displayName": "Everton Silva",
      "photoUrl": "https://lh3.googleusercontent.com/a-/AOh14GjcTJRlldyV6KuP5SI3D5WKR1Q0rTzwyBr1UndCW3g=s64",
      "userId": "11269003009281382658"
     },
     "user_tz": 180
    },
    "id": "abKEzmNIIlsr"
   },
   "outputs": [],
   "source": [
    "df['Month'] = df['Month'].astype('category')\n",
    "df['Weekday'] = df['Weekday'].astype('category')\n",
    "df['Season'] = df['Season'].astype('category')"
   ]
  },
  {
   "cell_type": "markdown",
   "metadata": {
    "id": "WALFWihXI3OH"
   },
   "source": [
    "**Education**"
   ]
  },
  {
   "cell_type": "code",
   "execution_count": 27,
   "metadata": {
    "colab": {
     "base_uri": "https://localhost:8080/"
    },
    "executionInfo": {
     "elapsed": 45,
     "status": "ok",
     "timestamp": 1623801263979,
     "user": {
      "displayName": "Everton Silva",
      "photoUrl": "https://lh3.googleusercontent.com/a-/AOh14GjcTJRlldyV6KuP5SI3D5WKR1Q0rTzwyBr1UndCW3g=s64",
      "userId": "11269003009281382658"
     },
     "user_tz": 180
    },
    "id": "nbkok8NV9PGs",
    "outputId": "39fb625a-e502-4a56-d8b3-cccecae0b765"
   },
   "outputs": [
    {
     "data": {
      "text/plain": [
       "array([1, 3, 2, 4])"
      ]
     },
     "execution_count": 27,
     "metadata": {},
     "output_type": "execute_result"
    }
   ],
   "source": [
    "df['Education'].unique()"
   ]
  },
  {
   "cell_type": "code",
   "execution_count": 28,
   "metadata": {
    "executionInfo": {
     "elapsed": 45,
     "status": "ok",
     "timestamp": 1623801263980,
     "user": {
      "displayName": "Everton Silva",
      "photoUrl": "https://lh3.googleusercontent.com/a-/AOh14GjcTJRlldyV6KuP5SI3D5WKR1Q0rTzwyBr1UndCW3g=s64",
      "userId": "11269003009281382658"
     },
     "user_tz": 180
    },
    "id": "660AT7hx9qV6"
   },
   "outputs": [],
   "source": [
    "df['Education'] = df['Education'].astype('category')"
   ]
  },
  {
   "cell_type": "code",
   "execution_count": 29,
   "metadata": {
    "colab": {
     "base_uri": "https://localhost:8080/"
    },
    "executionInfo": {
     "elapsed": 44,
     "status": "ok",
     "timestamp": 1623801263980,
     "user": {
      "displayName": "Everton Silva",
      "photoUrl": "https://lh3.googleusercontent.com/a-/AOh14GjcTJRlldyV6KuP5SI3D5WKR1Q0rTzwyBr1UndCW3g=s64",
      "userId": "11269003009281382658"
     },
     "user_tz": 180
    },
    "id": "TMOVIvBg98By",
    "outputId": "ae69ff36-f194-4cb2-95d4-513659066cbc"
   },
   "outputs": [
    {
     "data": {
      "text/plain": [
       "ID                     int64\n",
       "Reason              category\n",
       "Month               category\n",
       "Weekday             category\n",
       "Season              category\n",
       "TransportExpense       int64\n",
       "Distance               int64\n",
       "ServiceTime            int64\n",
       "Age                    int64\n",
       "Workload             float64\n",
       "HitTarget              int64\n",
       "Failure                int64\n",
       "Education           category\n",
       "Child                  int64\n",
       "Drinker                int64\n",
       "Smoker                 int64\n",
       "Pet                    int64\n",
       "Weight                 int64\n",
       "Height                 int64\n",
       "BMI                    int64\n",
       "AbsHours               int64\n",
       "dtype: object"
      ]
     },
     "execution_count": 29,
     "metadata": {},
     "output_type": "execute_result"
    }
   ],
   "source": [
    "df.dtypes"
   ]
  },
  {
   "cell_type": "code",
   "execution_count": 30,
   "metadata": {
    "colab": {
     "base_uri": "https://localhost:8080/"
    },
    "executionInfo": {
     "elapsed": 45,
     "status": "ok",
     "timestamp": 1623801263981,
     "user": {
      "displayName": "Everton Silva",
      "photoUrl": "https://lh3.googleusercontent.com/a-/AOh14GjcTJRlldyV6KuP5SI3D5WKR1Q0rTzwyBr1UndCW3g=s64",
      "userId": "11269003009281382658"
     },
     "user_tz": 180
    },
    "id": "8j3wZDsiUmUm",
    "outputId": "5a6b1fc4-8d6f-44ff-9f32-ca4774da17fd"
   },
   "outputs": [
    {
     "data": {
      "text/plain": [
       "378.884"
      ]
     },
     "execution_count": 30,
     "metadata": {},
     "output_type": "execute_result"
    }
   ],
   "source": [
    "df['Workload'].max()"
   ]
  },
  {
   "cell_type": "code",
   "execution_count": 31,
   "metadata": {
    "colab": {
     "base_uri": "https://localhost:8080/"
    },
    "executionInfo": {
     "elapsed": 44,
     "status": "ok",
     "timestamp": 1623801263981,
     "user": {
      "displayName": "Everton Silva",
      "photoUrl": "https://lh3.googleusercontent.com/a-/AOh14GjcTJRlldyV6KuP5SI3D5WKR1Q0rTzwyBr1UndCW3g=s64",
      "userId": "11269003009281382658"
     },
     "user_tz": 180
    },
    "id": "Oq75M1utUwS7",
    "outputId": "2dec201d-0baf-4d03-c0fb-ab7e7af0114f"
   },
   "outputs": [
    {
     "data": {
      "text/plain": [
       "271.49133921302604"
      ]
     },
     "execution_count": 31,
     "metadata": {},
     "output_type": "execute_result"
    }
   ],
   "source": [
    "df['Workload'].mean()"
   ]
  },
  {
   "cell_type": "code",
   "execution_count": 32,
   "metadata": {
    "colab": {
     "base_uri": "https://localhost:8080/"
    },
    "executionInfo": {
     "elapsed": 43,
     "status": "ok",
     "timestamp": 1623801263981,
     "user": {
      "displayName": "Everton Silva",
      "photoUrl": "https://lh3.googleusercontent.com/a-/AOh14GjcTJRlldyV6KuP5SI3D5WKR1Q0rTzwyBr1UndCW3g=s64",
      "userId": "11269003009281382658"
     },
     "user_tz": 180
    },
    "id": "nZl7GyJ_Vpl4",
    "outputId": "de951389-b79e-44b9-ca30-93da652859a1"
   },
   "outputs": [
    {
     "data": {
      "text/plain": [
       "array([ 97,  92,  93,  95,  99,  96,  94,  98,  81,  88, 100,  87,  91])"
      ]
     },
     "execution_count": 32,
     "metadata": {},
     "output_type": "execute_result"
    }
   ],
   "source": [
    "df['HitTarget'].unique()"
   ]
  },
  {
   "cell_type": "markdown",
   "metadata": {
    "id": "elU5GbbEfM9j"
   },
   "source": [
    "### Creating new columns"
   ]
  },
  {
   "cell_type": "markdown",
   "metadata": {
    "id": "m5ORkCBaAANZ"
   },
   "source": [
    "Para realizar uma melhor Análise Exploratória dos Dados, é preciso adicionar algumas colunas para visualização."
   ]
  },
  {
   "cell_type": "markdown",
   "metadata": {
    "id": "7l2iAiHxK7_K"
   },
   "source": [
    "**Nova coluna para Season**"
   ]
  },
  {
   "cell_type": "code",
   "execution_count": 33,
   "metadata": {
    "executionInfo": {
     "elapsed": 44,
     "status": "ok",
     "timestamp": 1623801263982,
     "user": {
      "displayName": "Everton Silva",
      "photoUrl": "https://lh3.googleusercontent.com/a-/AOh14GjcTJRlldyV6KuP5SI3D5WKR1Q0rTzwyBr1UndCW3g=s64",
      "userId": "11269003009281382658"
     },
     "user_tz": 180
    },
    "id": "SJncrdw_FhY3"
   },
   "outputs": [],
   "source": [
    "season_mapping = {1:'Summer', 2:'Autumn', 3:'Winter', 4:'Spring'}\n",
    "df.loc[:,'season_name'] = df['Season'].map(season_mapping)"
   ]
  },
  {
   "cell_type": "code",
   "execution_count": 34,
   "metadata": {
    "colab": {
     "base_uri": "https://localhost:8080/"
    },
    "executionInfo": {
     "elapsed": 43,
     "status": "ok",
     "timestamp": 1623801263982,
     "user": {
      "displayName": "Everton Silva",
      "photoUrl": "https://lh3.googleusercontent.com/a-/AOh14GjcTJRlldyV6KuP5SI3D5WKR1Q0rTzwyBr1UndCW3g=s64",
      "userId": "11269003009281382658"
     },
     "user_tz": 180
    },
    "id": "qig4IPWUHyQ2",
    "outputId": "b8ec6c40-ea58-4d6e-8ec0-62fd8f6518bf"
   },
   "outputs": [
    {
     "data": {
      "text/plain": [
       "['Summer', 'Spring', 'Autumn', 'Winter']\n",
       "Categories (4, object): ['Summer', 'Spring', 'Autumn', 'Winter']"
      ]
     },
     "execution_count": 34,
     "metadata": {},
     "output_type": "execute_result"
    }
   ],
   "source": [
    "df['season_name'].unique()"
   ]
  },
  {
   "cell_type": "markdown",
   "metadata": {
    "id": "A9-hMhQbLJKL"
   },
   "source": [
    "**Nova coluna para Month**"
   ]
  },
  {
   "cell_type": "code",
   "execution_count": 35,
   "metadata": {
    "executionInfo": {
     "elapsed": 44,
     "status": "ok",
     "timestamp": 1623801263983,
     "user": {
      "displayName": "Everton Silva",
      "photoUrl": "https://lh3.googleusercontent.com/a-/AOh14GjcTJRlldyV6KuP5SI3D5WKR1Q0rTzwyBr1UndCW3g=s64",
      "userId": "11269003009281382658"
     },
     "user_tz": 180
    },
    "id": "HfNcnxKcK5tY"
   },
   "outputs": [],
   "source": [
    "import calendar"
   ]
  },
  {
   "cell_type": "code",
   "execution_count": 36,
   "metadata": {
    "executionInfo": {
     "elapsed": 43,
     "status": "ok",
     "timestamp": 1623801263983,
     "user": {
      "displayName": "Everton Silva",
      "photoUrl": "https://lh3.googleusercontent.com/a-/AOh14GjcTJRlldyV6KuP5SI3D5WKR1Q0rTzwyBr1UndCW3g=s64",
      "userId": "11269003009281382658"
     },
     "user_tz": 180
    },
    "id": "63rC2hQhKj7p"
   },
   "outputs": [],
   "source": [
    "df['month_name'] =  df['Month'].apply(lambda x: calendar.month_abbr[x])"
   ]
  },
  {
   "cell_type": "code",
   "execution_count": 37,
   "metadata": {
    "colab": {
     "base_uri": "https://localhost:8080/",
     "height": 0
    },
    "executionInfo": {
     "elapsed": 44,
     "status": "ok",
     "timestamp": 1623801263984,
     "user": {
      "displayName": "Everton Silva",
      "photoUrl": "https://lh3.googleusercontent.com/a-/AOh14GjcTJRlldyV6KuP5SI3D5WKR1Q0rTzwyBr1UndCW3g=s64",
      "userId": "11269003009281382658"
     },
     "user_tz": 180
    },
    "id": "NjqLrV_ULSHL",
    "outputId": "90b7ff82-1d72-42c5-c503-4555f8596db8"
   },
   "outputs": [
    {
     "data": {
      "text/html": [
       "<div>\n",
       "<style scoped>\n",
       "    .dataframe tbody tr th:only-of-type {\n",
       "        vertical-align: middle;\n",
       "    }\n",
       "\n",
       "    .dataframe tbody tr th {\n",
       "        vertical-align: top;\n",
       "    }\n",
       "\n",
       "    .dataframe thead th {\n",
       "        text-align: right;\n",
       "    }\n",
       "</style>\n",
       "<table border=\"1\" class=\"dataframe\">\n",
       "  <thead>\n",
       "    <tr style=\"text-align: right;\">\n",
       "      <th></th>\n",
       "      <th>Month</th>\n",
       "      <th>month_name</th>\n",
       "    </tr>\n",
       "  </thead>\n",
       "  <tbody>\n",
       "    <tr>\n",
       "      <th>0</th>\n",
       "      <td>7</td>\n",
       "      <td>Jul</td>\n",
       "    </tr>\n",
       "    <tr>\n",
       "      <th>1</th>\n",
       "      <td>7</td>\n",
       "      <td>Jul</td>\n",
       "    </tr>\n",
       "    <tr>\n",
       "      <th>2</th>\n",
       "      <td>7</td>\n",
       "      <td>Jul</td>\n",
       "    </tr>\n",
       "    <tr>\n",
       "      <th>3</th>\n",
       "      <td>7</td>\n",
       "      <td>Jul</td>\n",
       "    </tr>\n",
       "    <tr>\n",
       "      <th>4</th>\n",
       "      <td>7</td>\n",
       "      <td>Jul</td>\n",
       "    </tr>\n",
       "    <tr>\n",
       "      <th>5</th>\n",
       "      <td>7</td>\n",
       "      <td>Jul</td>\n",
       "    </tr>\n",
       "    <tr>\n",
       "      <th>6</th>\n",
       "      <td>7</td>\n",
       "      <td>Jul</td>\n",
       "    </tr>\n",
       "    <tr>\n",
       "      <th>7</th>\n",
       "      <td>7</td>\n",
       "      <td>Jul</td>\n",
       "    </tr>\n",
       "    <tr>\n",
       "      <th>8</th>\n",
       "      <td>7</td>\n",
       "      <td>Jul</td>\n",
       "    </tr>\n",
       "    <tr>\n",
       "      <th>9</th>\n",
       "      <td>7</td>\n",
       "      <td>Jul</td>\n",
       "    </tr>\n",
       "    <tr>\n",
       "      <th>10</th>\n",
       "      <td>7</td>\n",
       "      <td>Jul</td>\n",
       "    </tr>\n",
       "    <tr>\n",
       "      <th>11</th>\n",
       "      <td>7</td>\n",
       "      <td>Jul</td>\n",
       "    </tr>\n",
       "    <tr>\n",
       "      <th>12</th>\n",
       "      <td>7</td>\n",
       "      <td>Jul</td>\n",
       "    </tr>\n",
       "    <tr>\n",
       "      <th>13</th>\n",
       "      <td>7</td>\n",
       "      <td>Jul</td>\n",
       "    </tr>\n",
       "    <tr>\n",
       "      <th>14</th>\n",
       "      <td>7</td>\n",
       "      <td>Jul</td>\n",
       "    </tr>\n",
       "    <tr>\n",
       "      <th>15</th>\n",
       "      <td>7</td>\n",
       "      <td>Jul</td>\n",
       "    </tr>\n",
       "    <tr>\n",
       "      <th>16</th>\n",
       "      <td>7</td>\n",
       "      <td>Jul</td>\n",
       "    </tr>\n",
       "    <tr>\n",
       "      <th>17</th>\n",
       "      <td>7</td>\n",
       "      <td>Jul</td>\n",
       "    </tr>\n",
       "    <tr>\n",
       "      <th>18</th>\n",
       "      <td>7</td>\n",
       "      <td>Jul</td>\n",
       "    </tr>\n",
       "    <tr>\n",
       "      <th>19</th>\n",
       "      <td>8</td>\n",
       "      <td>Aug</td>\n",
       "    </tr>\n",
       "    <tr>\n",
       "      <th>20</th>\n",
       "      <td>8</td>\n",
       "      <td>Aug</td>\n",
       "    </tr>\n",
       "    <tr>\n",
       "      <th>21</th>\n",
       "      <td>8</td>\n",
       "      <td>Aug</td>\n",
       "    </tr>\n",
       "    <tr>\n",
       "      <th>22</th>\n",
       "      <td>8</td>\n",
       "      <td>Aug</td>\n",
       "    </tr>\n",
       "    <tr>\n",
       "      <th>23</th>\n",
       "      <td>8</td>\n",
       "      <td>Aug</td>\n",
       "    </tr>\n",
       "    <tr>\n",
       "      <th>24</th>\n",
       "      <td>8</td>\n",
       "      <td>Aug</td>\n",
       "    </tr>\n",
       "    <tr>\n",
       "      <th>25</th>\n",
       "      <td>8</td>\n",
       "      <td>Aug</td>\n",
       "    </tr>\n",
       "    <tr>\n",
       "      <th>26</th>\n",
       "      <td>8</td>\n",
       "      <td>Aug</td>\n",
       "    </tr>\n",
       "    <tr>\n",
       "      <th>27</th>\n",
       "      <td>8</td>\n",
       "      <td>Aug</td>\n",
       "    </tr>\n",
       "    <tr>\n",
       "      <th>28</th>\n",
       "      <td>8</td>\n",
       "      <td>Aug</td>\n",
       "    </tr>\n",
       "    <tr>\n",
       "      <th>29</th>\n",
       "      <td>8</td>\n",
       "      <td>Aug</td>\n",
       "    </tr>\n",
       "    <tr>\n",
       "      <th>30</th>\n",
       "      <td>8</td>\n",
       "      <td>Aug</td>\n",
       "    </tr>\n",
       "    <tr>\n",
       "      <th>31</th>\n",
       "      <td>8</td>\n",
       "      <td>Aug</td>\n",
       "    </tr>\n",
       "    <tr>\n",
       "      <th>32</th>\n",
       "      <td>8</td>\n",
       "      <td>Aug</td>\n",
       "    </tr>\n",
       "    <tr>\n",
       "      <th>33</th>\n",
       "      <td>8</td>\n",
       "      <td>Aug</td>\n",
       "    </tr>\n",
       "    <tr>\n",
       "      <th>34</th>\n",
       "      <td>8</td>\n",
       "      <td>Aug</td>\n",
       "    </tr>\n",
       "    <tr>\n",
       "      <th>35</th>\n",
       "      <td>8</td>\n",
       "      <td>Aug</td>\n",
       "    </tr>\n",
       "    <tr>\n",
       "      <th>36</th>\n",
       "      <td>8</td>\n",
       "      <td>Aug</td>\n",
       "    </tr>\n",
       "    <tr>\n",
       "      <th>37</th>\n",
       "      <td>8</td>\n",
       "      <td>Aug</td>\n",
       "    </tr>\n",
       "    <tr>\n",
       "      <th>38</th>\n",
       "      <td>8</td>\n",
       "      <td>Aug</td>\n",
       "    </tr>\n",
       "    <tr>\n",
       "      <th>39</th>\n",
       "      <td>8</td>\n",
       "      <td>Aug</td>\n",
       "    </tr>\n",
       "    <tr>\n",
       "      <th>40</th>\n",
       "      <td>9</td>\n",
       "      <td>Sep</td>\n",
       "    </tr>\n",
       "    <tr>\n",
       "      <th>41</th>\n",
       "      <td>9</td>\n",
       "      <td>Sep</td>\n",
       "    </tr>\n",
       "    <tr>\n",
       "      <th>42</th>\n",
       "      <td>9</td>\n",
       "      <td>Sep</td>\n",
       "    </tr>\n",
       "    <tr>\n",
       "      <th>43</th>\n",
       "      <td>9</td>\n",
       "      <td>Sep</td>\n",
       "    </tr>\n",
       "    <tr>\n",
       "      <th>44</th>\n",
       "      <td>9</td>\n",
       "      <td>Sep</td>\n",
       "    </tr>\n",
       "    <tr>\n",
       "      <th>45</th>\n",
       "      <td>9</td>\n",
       "      <td>Sep</td>\n",
       "    </tr>\n",
       "    <tr>\n",
       "      <th>46</th>\n",
       "      <td>9</td>\n",
       "      <td>Sep</td>\n",
       "    </tr>\n",
       "    <tr>\n",
       "      <th>47</th>\n",
       "      <td>9</td>\n",
       "      <td>Sep</td>\n",
       "    </tr>\n",
       "    <tr>\n",
       "      <th>48</th>\n",
       "      <td>9</td>\n",
       "      <td>Sep</td>\n",
       "    </tr>\n",
       "    <tr>\n",
       "      <th>49</th>\n",
       "      <td>9</td>\n",
       "      <td>Sep</td>\n",
       "    </tr>\n",
       "    <tr>\n",
       "      <th>50</th>\n",
       "      <td>9</td>\n",
       "      <td>Sep</td>\n",
       "    </tr>\n",
       "    <tr>\n",
       "      <th>51</th>\n",
       "      <td>9</td>\n",
       "      <td>Sep</td>\n",
       "    </tr>\n",
       "    <tr>\n",
       "      <th>52</th>\n",
       "      <td>9</td>\n",
       "      <td>Sep</td>\n",
       "    </tr>\n",
       "    <tr>\n",
       "      <th>53</th>\n",
       "      <td>9</td>\n",
       "      <td>Sep</td>\n",
       "    </tr>\n",
       "    <tr>\n",
       "      <th>54</th>\n",
       "      <td>9</td>\n",
       "      <td>Sep</td>\n",
       "    </tr>\n",
       "    <tr>\n",
       "      <th>55</th>\n",
       "      <td>9</td>\n",
       "      <td>Sep</td>\n",
       "    </tr>\n",
       "    <tr>\n",
       "      <th>56</th>\n",
       "      <td>9</td>\n",
       "      <td>Sep</td>\n",
       "    </tr>\n",
       "    <tr>\n",
       "      <th>57</th>\n",
       "      <td>9</td>\n",
       "      <td>Sep</td>\n",
       "    </tr>\n",
       "    <tr>\n",
       "      <th>58</th>\n",
       "      <td>9</td>\n",
       "      <td>Sep</td>\n",
       "    </tr>\n",
       "    <tr>\n",
       "      <th>59</th>\n",
       "      <td>9</td>\n",
       "      <td>Sep</td>\n",
       "    </tr>\n",
       "    <tr>\n",
       "      <th>60</th>\n",
       "      <td>9</td>\n",
       "      <td>Sep</td>\n",
       "    </tr>\n",
       "    <tr>\n",
       "      <th>61</th>\n",
       "      <td>9</td>\n",
       "      <td>Sep</td>\n",
       "    </tr>\n",
       "    <tr>\n",
       "      <th>62</th>\n",
       "      <td>10</td>\n",
       "      <td>Oct</td>\n",
       "    </tr>\n",
       "    <tr>\n",
       "      <th>63</th>\n",
       "      <td>10</td>\n",
       "      <td>Oct</td>\n",
       "    </tr>\n",
       "    <tr>\n",
       "      <th>64</th>\n",
       "      <td>10</td>\n",
       "      <td>Oct</td>\n",
       "    </tr>\n",
       "    <tr>\n",
       "      <th>65</th>\n",
       "      <td>10</td>\n",
       "      <td>Oct</td>\n",
       "    </tr>\n",
       "    <tr>\n",
       "      <th>66</th>\n",
       "      <td>10</td>\n",
       "      <td>Oct</td>\n",
       "    </tr>\n",
       "    <tr>\n",
       "      <th>67</th>\n",
       "      <td>10</td>\n",
       "      <td>Oct</td>\n",
       "    </tr>\n",
       "    <tr>\n",
       "      <th>68</th>\n",
       "      <td>10</td>\n",
       "      <td>Oct</td>\n",
       "    </tr>\n",
       "    <tr>\n",
       "      <th>69</th>\n",
       "      <td>10</td>\n",
       "      <td>Oct</td>\n",
       "    </tr>\n",
       "    <tr>\n",
       "      <th>70</th>\n",
       "      <td>10</td>\n",
       "      <td>Oct</td>\n",
       "    </tr>\n",
       "    <tr>\n",
       "      <th>71</th>\n",
       "      <td>10</td>\n",
       "      <td>Oct</td>\n",
       "    </tr>\n",
       "    <tr>\n",
       "      <th>72</th>\n",
       "      <td>10</td>\n",
       "      <td>Oct</td>\n",
       "    </tr>\n",
       "    <tr>\n",
       "      <th>73</th>\n",
       "      <td>10</td>\n",
       "      <td>Oct</td>\n",
       "    </tr>\n",
       "    <tr>\n",
       "      <th>74</th>\n",
       "      <td>10</td>\n",
       "      <td>Oct</td>\n",
       "    </tr>\n",
       "    <tr>\n",
       "      <th>75</th>\n",
       "      <td>10</td>\n",
       "      <td>Oct</td>\n",
       "    </tr>\n",
       "    <tr>\n",
       "      <th>76</th>\n",
       "      <td>10</td>\n",
       "      <td>Oct</td>\n",
       "    </tr>\n",
       "    <tr>\n",
       "      <th>77</th>\n",
       "      <td>10</td>\n",
       "      <td>Oct</td>\n",
       "    </tr>\n",
       "    <tr>\n",
       "      <th>78</th>\n",
       "      <td>10</td>\n",
       "      <td>Oct</td>\n",
       "    </tr>\n",
       "    <tr>\n",
       "      <th>79</th>\n",
       "      <td>10</td>\n",
       "      <td>Oct</td>\n",
       "    </tr>\n",
       "    <tr>\n",
       "      <th>80</th>\n",
       "      <td>11</td>\n",
       "      <td>Nov</td>\n",
       "    </tr>\n",
       "    <tr>\n",
       "      <th>81</th>\n",
       "      <td>11</td>\n",
       "      <td>Nov</td>\n",
       "    </tr>\n",
       "    <tr>\n",
       "      <th>82</th>\n",
       "      <td>11</td>\n",
       "      <td>Nov</td>\n",
       "    </tr>\n",
       "    <tr>\n",
       "      <th>83</th>\n",
       "      <td>11</td>\n",
       "      <td>Nov</td>\n",
       "    </tr>\n",
       "    <tr>\n",
       "      <th>84</th>\n",
       "      <td>11</td>\n",
       "      <td>Nov</td>\n",
       "    </tr>\n",
       "    <tr>\n",
       "      <th>85</th>\n",
       "      <td>11</td>\n",
       "      <td>Nov</td>\n",
       "    </tr>\n",
       "    <tr>\n",
       "      <th>86</th>\n",
       "      <td>11</td>\n",
       "      <td>Nov</td>\n",
       "    </tr>\n",
       "    <tr>\n",
       "      <th>87</th>\n",
       "      <td>11</td>\n",
       "      <td>Nov</td>\n",
       "    </tr>\n",
       "    <tr>\n",
       "      <th>88</th>\n",
       "      <td>11</td>\n",
       "      <td>Nov</td>\n",
       "    </tr>\n",
       "    <tr>\n",
       "      <th>89</th>\n",
       "      <td>11</td>\n",
       "      <td>Nov</td>\n",
       "    </tr>\n",
       "    <tr>\n",
       "      <th>90</th>\n",
       "      <td>11</td>\n",
       "      <td>Nov</td>\n",
       "    </tr>\n",
       "    <tr>\n",
       "      <th>91</th>\n",
       "      <td>11</td>\n",
       "      <td>Nov</td>\n",
       "    </tr>\n",
       "    <tr>\n",
       "      <th>92</th>\n",
       "      <td>11</td>\n",
       "      <td>Nov</td>\n",
       "    </tr>\n",
       "    <tr>\n",
       "      <th>93</th>\n",
       "      <td>11</td>\n",
       "      <td>Nov</td>\n",
       "    </tr>\n",
       "    <tr>\n",
       "      <th>94</th>\n",
       "      <td>11</td>\n",
       "      <td>Nov</td>\n",
       "    </tr>\n",
       "    <tr>\n",
       "      <th>95</th>\n",
       "      <td>11</td>\n",
       "      <td>Nov</td>\n",
       "    </tr>\n",
       "    <tr>\n",
       "      <th>96</th>\n",
       "      <td>11</td>\n",
       "      <td>Nov</td>\n",
       "    </tr>\n",
       "    <tr>\n",
       "      <th>97</th>\n",
       "      <td>11</td>\n",
       "      <td>Nov</td>\n",
       "    </tr>\n",
       "    <tr>\n",
       "      <th>98</th>\n",
       "      <td>12</td>\n",
       "      <td>Dec</td>\n",
       "    </tr>\n",
       "    <tr>\n",
       "      <th>99</th>\n",
       "      <td>12</td>\n",
       "      <td>Dec</td>\n",
       "    </tr>\n",
       "  </tbody>\n",
       "</table>\n",
       "</div>"
      ],
      "text/plain": [
       "   Month month_name\n",
       "0      7        Jul\n",
       "1      7        Jul\n",
       "2      7        Jul\n",
       "3      7        Jul\n",
       "4      7        Jul\n",
       "5      7        Jul\n",
       "6      7        Jul\n",
       "7      7        Jul\n",
       "8      7        Jul\n",
       "9      7        Jul\n",
       "10     7        Jul\n",
       "11     7        Jul\n",
       "12     7        Jul\n",
       "13     7        Jul\n",
       "14     7        Jul\n",
       "15     7        Jul\n",
       "16     7        Jul\n",
       "17     7        Jul\n",
       "18     7        Jul\n",
       "19     8        Aug\n",
       "20     8        Aug\n",
       "21     8        Aug\n",
       "22     8        Aug\n",
       "23     8        Aug\n",
       "24     8        Aug\n",
       "25     8        Aug\n",
       "26     8        Aug\n",
       "27     8        Aug\n",
       "28     8        Aug\n",
       "29     8        Aug\n",
       "30     8        Aug\n",
       "31     8        Aug\n",
       "32     8        Aug\n",
       "33     8        Aug\n",
       "34     8        Aug\n",
       "35     8        Aug\n",
       "36     8        Aug\n",
       "37     8        Aug\n",
       "38     8        Aug\n",
       "39     8        Aug\n",
       "40     9        Sep\n",
       "41     9        Sep\n",
       "42     9        Sep\n",
       "43     9        Sep\n",
       "44     9        Sep\n",
       "45     9        Sep\n",
       "46     9        Sep\n",
       "47     9        Sep\n",
       "48     9        Sep\n",
       "49     9        Sep\n",
       "50     9        Sep\n",
       "51     9        Sep\n",
       "52     9        Sep\n",
       "53     9        Sep\n",
       "54     9        Sep\n",
       "55     9        Sep\n",
       "56     9        Sep\n",
       "57     9        Sep\n",
       "58     9        Sep\n",
       "59     9        Sep\n",
       "60     9        Sep\n",
       "61     9        Sep\n",
       "62    10        Oct\n",
       "63    10        Oct\n",
       "64    10        Oct\n",
       "65    10        Oct\n",
       "66    10        Oct\n",
       "67    10        Oct\n",
       "68    10        Oct\n",
       "69    10        Oct\n",
       "70    10        Oct\n",
       "71    10        Oct\n",
       "72    10        Oct\n",
       "73    10        Oct\n",
       "74    10        Oct\n",
       "75    10        Oct\n",
       "76    10        Oct\n",
       "77    10        Oct\n",
       "78    10        Oct\n",
       "79    10        Oct\n",
       "80    11        Nov\n",
       "81    11        Nov\n",
       "82    11        Nov\n",
       "83    11        Nov\n",
       "84    11        Nov\n",
       "85    11        Nov\n",
       "86    11        Nov\n",
       "87    11        Nov\n",
       "88    11        Nov\n",
       "89    11        Nov\n",
       "90    11        Nov\n",
       "91    11        Nov\n",
       "92    11        Nov\n",
       "93    11        Nov\n",
       "94    11        Nov\n",
       "95    11        Nov\n",
       "96    11        Nov\n",
       "97    11        Nov\n",
       "98    12        Dec\n",
       "99    12        Dec"
      ]
     },
     "execution_count": 37,
     "metadata": {},
     "output_type": "execute_result"
    }
   ],
   "source": [
    "df[0:100][['Month', 'month_name']]"
   ]
  },
  {
   "cell_type": "markdown",
   "metadata": {
    "id": "RepLPZ8NMFPl"
   },
   "source": [
    "**Nova coluna para Reason**"
   ]
  },
  {
   "cell_type": "code",
   "execution_count": 38,
   "metadata": {
    "executionInfo": {
     "elapsed": 43,
     "status": "ok",
     "timestamp": 1623801263984,
     "user": {
      "displayName": "Everton Silva",
      "photoUrl": "https://lh3.googleusercontent.com/a-/AOh14GjcTJRlldyV6KuP5SI3D5WKR1Q0rTzwyBr1UndCW3g=s64",
      "userId": "11269003009281382658"
     },
     "user_tz": 180
    },
    "id": "x3HnVjjUMM1j"
   },
   "outputs": [],
   "source": [
    "reason_mapping = {\n",
    "    0: 'Unknown',\n",
    "    1: 'Certain infectious and parasitic diseases',\n",
    "    2: 'Neoplasms',\n",
    "    3: 'Diseases of the blood and blood-forming organs and certain disorders involving the immune mechanism',\n",
    "    4: 'Endocrine, nutritional and metabolic diseases',\n",
    "    5: 'Mental and behavioural disorders',\n",
    "    6: 'Diseases of the nervous system',\n",
    "    7: 'Diseases of the eye and adnexa',\n",
    "    8: 'Diseases of the ear and mastoid process',\n",
    "    9: 'Diseases of the circulatory system',\n",
    "    10: 'Diseases of the respiratory system',\n",
    "    11: 'Diseases of the digestive system',\n",
    "    12: 'Diseases of the skin and subcutaneous tissue',\n",
    "    13: 'Diseases of the musculoskeletal system and connective tissue',\n",
    "    14: 'Diseases of the genitourinary system',\n",
    "    15: 'Pregnancy, childbirth and the puerperium',\n",
    "    16: 'Certain conditions originating in the perinatal period',\n",
    "    17: 'Congenital malformations, deformations and chromosomal abnormalities',\n",
    "    18: 'Symptoms, signs and abnormal clinical and laboratory findings, not elsewhere classified',\n",
    "    19: 'Injury, poisoning and certain other consequences of external causes',\n",
    "    20: 'External causes of morbidity and mortality',\n",
    "    21: 'Factors influencing health status and contact with health services',\n",
    "    22: 'Patient follow-up',\n",
    "    23: 'Medical consultation',\n",
    "    24: 'Blood donation',\n",
    "    25: 'Laboratory examination',\n",
    "    26: 'Unjustified absence',\n",
    "    27: 'Physiotherapy',\n",
    "    28: 'Dental consultation'\n",
    "}\n",
    "df.loc[:,'reason_description'] = df['Reason'].map(reason_mapping)"
   ]
  },
  {
   "cell_type": "code",
   "execution_count": 39,
   "metadata": {
    "colab": {
     "base_uri": "https://localhost:8080/",
     "height": 0
    },
    "executionInfo": {
     "elapsed": 43,
     "status": "ok",
     "timestamp": 1623801263985,
     "user": {
      "displayName": "Everton Silva",
      "photoUrl": "https://lh3.googleusercontent.com/a-/AOh14GjcTJRlldyV6KuP5SI3D5WKR1Q0rTzwyBr1UndCW3g=s64",
      "userId": "11269003009281382658"
     },
     "user_tz": 180
    },
    "id": "9Cp0W3bgMYM1",
    "outputId": "dbfacfb1-fffc-4149-eec2-fbef84985f8a"
   },
   "outputs": [
    {
     "data": {
      "text/html": [
       "<div>\n",
       "<style scoped>\n",
       "    .dataframe tbody tr th:only-of-type {\n",
       "        vertical-align: middle;\n",
       "    }\n",
       "\n",
       "    .dataframe tbody tr th {\n",
       "        vertical-align: top;\n",
       "    }\n",
       "\n",
       "    .dataframe thead th {\n",
       "        text-align: right;\n",
       "    }\n",
       "</style>\n",
       "<table border=\"1\" class=\"dataframe\">\n",
       "  <thead>\n",
       "    <tr style=\"text-align: right;\">\n",
       "      <th></th>\n",
       "      <th>Reason</th>\n",
       "      <th>reason_description</th>\n",
       "    </tr>\n",
       "  </thead>\n",
       "  <tbody>\n",
       "    <tr>\n",
       "      <th>0</th>\n",
       "      <td>26</td>\n",
       "      <td>Unjustified absence</td>\n",
       "    </tr>\n",
       "    <tr>\n",
       "      <th>1</th>\n",
       "      <td>0</td>\n",
       "      <td>Unknown</td>\n",
       "    </tr>\n",
       "    <tr>\n",
       "      <th>2</th>\n",
       "      <td>23</td>\n",
       "      <td>Medical consultation</td>\n",
       "    </tr>\n",
       "    <tr>\n",
       "      <th>3</th>\n",
       "      <td>7</td>\n",
       "      <td>Diseases of the eye and adnexa</td>\n",
       "    </tr>\n",
       "    <tr>\n",
       "      <th>4</th>\n",
       "      <td>23</td>\n",
       "      <td>Medical consultation</td>\n",
       "    </tr>\n",
       "    <tr>\n",
       "      <th>5</th>\n",
       "      <td>23</td>\n",
       "      <td>Medical consultation</td>\n",
       "    </tr>\n",
       "    <tr>\n",
       "      <th>6</th>\n",
       "      <td>22</td>\n",
       "      <td>Patient follow-up</td>\n",
       "    </tr>\n",
       "    <tr>\n",
       "      <th>7</th>\n",
       "      <td>23</td>\n",
       "      <td>Medical consultation</td>\n",
       "    </tr>\n",
       "    <tr>\n",
       "      <th>8</th>\n",
       "      <td>19</td>\n",
       "      <td>Injury, poisoning and certain other consequenc...</td>\n",
       "    </tr>\n",
       "    <tr>\n",
       "      <th>9</th>\n",
       "      <td>22</td>\n",
       "      <td>Patient follow-up</td>\n",
       "    </tr>\n",
       "    <tr>\n",
       "      <th>10</th>\n",
       "      <td>1</td>\n",
       "      <td>Certain infectious and parasitic diseases</td>\n",
       "    </tr>\n",
       "    <tr>\n",
       "      <th>11</th>\n",
       "      <td>1</td>\n",
       "      <td>Certain infectious and parasitic diseases</td>\n",
       "    </tr>\n",
       "    <tr>\n",
       "      <th>12</th>\n",
       "      <td>11</td>\n",
       "      <td>Diseases of the digestive system</td>\n",
       "    </tr>\n",
       "    <tr>\n",
       "      <th>13</th>\n",
       "      <td>11</td>\n",
       "      <td>Diseases of the digestive system</td>\n",
       "    </tr>\n",
       "    <tr>\n",
       "      <th>14</th>\n",
       "      <td>23</td>\n",
       "      <td>Medical consultation</td>\n",
       "    </tr>\n",
       "    <tr>\n",
       "      <th>15</th>\n",
       "      <td>14</td>\n",
       "      <td>Diseases of the genitourinary system</td>\n",
       "    </tr>\n",
       "    <tr>\n",
       "      <th>16</th>\n",
       "      <td>23</td>\n",
       "      <td>Medical consultation</td>\n",
       "    </tr>\n",
       "    <tr>\n",
       "      <th>17</th>\n",
       "      <td>21</td>\n",
       "      <td>Factors influencing health status and contact ...</td>\n",
       "    </tr>\n",
       "    <tr>\n",
       "      <th>18</th>\n",
       "      <td>11</td>\n",
       "      <td>Diseases of the digestive system</td>\n",
       "    </tr>\n",
       "    <tr>\n",
       "      <th>19</th>\n",
       "      <td>23</td>\n",
       "      <td>Medical consultation</td>\n",
       "    </tr>\n",
       "    <tr>\n",
       "      <th>20</th>\n",
       "      <td>10</td>\n",
       "      <td>Diseases of the respiratory system</td>\n",
       "    </tr>\n",
       "    <tr>\n",
       "      <th>21</th>\n",
       "      <td>11</td>\n",
       "      <td>Diseases of the digestive system</td>\n",
       "    </tr>\n",
       "    <tr>\n",
       "      <th>22</th>\n",
       "      <td>13</td>\n",
       "      <td>Diseases of the musculoskeletal system and con...</td>\n",
       "    </tr>\n",
       "    <tr>\n",
       "      <th>23</th>\n",
       "      <td>28</td>\n",
       "      <td>Dental consultation</td>\n",
       "    </tr>\n",
       "    <tr>\n",
       "      <th>24</th>\n",
       "      <td>18</td>\n",
       "      <td>Symptoms, signs and abnormal clinical and labo...</td>\n",
       "    </tr>\n",
       "    <tr>\n",
       "      <th>25</th>\n",
       "      <td>25</td>\n",
       "      <td>Laboratory examination</td>\n",
       "    </tr>\n",
       "    <tr>\n",
       "      <th>26</th>\n",
       "      <td>23</td>\n",
       "      <td>Medical consultation</td>\n",
       "    </tr>\n",
       "    <tr>\n",
       "      <th>27</th>\n",
       "      <td>28</td>\n",
       "      <td>Dental consultation</td>\n",
       "    </tr>\n",
       "    <tr>\n",
       "      <th>28</th>\n",
       "      <td>18</td>\n",
       "      <td>Symptoms, signs and abnormal clinical and labo...</td>\n",
       "    </tr>\n",
       "    <tr>\n",
       "      <th>29</th>\n",
       "      <td>23</td>\n",
       "      <td>Medical consultation</td>\n",
       "    </tr>\n",
       "    <tr>\n",
       "      <th>30</th>\n",
       "      <td>18</td>\n",
       "      <td>Symptoms, signs and abnormal clinical and labo...</td>\n",
       "    </tr>\n",
       "    <tr>\n",
       "      <th>31</th>\n",
       "      <td>18</td>\n",
       "      <td>Symptoms, signs and abnormal clinical and labo...</td>\n",
       "    </tr>\n",
       "    <tr>\n",
       "      <th>32</th>\n",
       "      <td>23</td>\n",
       "      <td>Medical consultation</td>\n",
       "    </tr>\n",
       "    <tr>\n",
       "      <th>33</th>\n",
       "      <td>18</td>\n",
       "      <td>Symptoms, signs and abnormal clinical and labo...</td>\n",
       "    </tr>\n",
       "    <tr>\n",
       "      <th>34</th>\n",
       "      <td>23</td>\n",
       "      <td>Medical consultation</td>\n",
       "    </tr>\n",
       "    <tr>\n",
       "      <th>35</th>\n",
       "      <td>23</td>\n",
       "      <td>Medical consultation</td>\n",
       "    </tr>\n",
       "    <tr>\n",
       "      <th>36</th>\n",
       "      <td>24</td>\n",
       "      <td>Blood donation</td>\n",
       "    </tr>\n",
       "    <tr>\n",
       "      <th>37</th>\n",
       "      <td>11</td>\n",
       "      <td>Diseases of the digestive system</td>\n",
       "    </tr>\n",
       "    <tr>\n",
       "      <th>38</th>\n",
       "      <td>28</td>\n",
       "      <td>Dental consultation</td>\n",
       "    </tr>\n",
       "    <tr>\n",
       "      <th>39</th>\n",
       "      <td>23</td>\n",
       "      <td>Medical consultation</td>\n",
       "    </tr>\n",
       "    <tr>\n",
       "      <th>40</th>\n",
       "      <td>23</td>\n",
       "      <td>Medical consultation</td>\n",
       "    </tr>\n",
       "    <tr>\n",
       "      <th>41</th>\n",
       "      <td>23</td>\n",
       "      <td>Medical consultation</td>\n",
       "    </tr>\n",
       "    <tr>\n",
       "      <th>42</th>\n",
       "      <td>23</td>\n",
       "      <td>Medical consultation</td>\n",
       "    </tr>\n",
       "    <tr>\n",
       "      <th>43</th>\n",
       "      <td>19</td>\n",
       "      <td>Injury, poisoning and certain other consequenc...</td>\n",
       "    </tr>\n",
       "    <tr>\n",
       "      <th>44</th>\n",
       "      <td>23</td>\n",
       "      <td>Medical consultation</td>\n",
       "    </tr>\n",
       "    <tr>\n",
       "      <th>45</th>\n",
       "      <td>23</td>\n",
       "      <td>Medical consultation</td>\n",
       "    </tr>\n",
       "    <tr>\n",
       "      <th>46</th>\n",
       "      <td>23</td>\n",
       "      <td>Medical consultation</td>\n",
       "    </tr>\n",
       "    <tr>\n",
       "      <th>47</th>\n",
       "      <td>23</td>\n",
       "      <td>Medical consultation</td>\n",
       "    </tr>\n",
       "    <tr>\n",
       "      <th>48</th>\n",
       "      <td>22</td>\n",
       "      <td>Patient follow-up</td>\n",
       "    </tr>\n",
       "    <tr>\n",
       "      <th>49</th>\n",
       "      <td>14</td>\n",
       "      <td>Diseases of the genitourinary system</td>\n",
       "    </tr>\n",
       "    <tr>\n",
       "      <th>50</th>\n",
       "      <td>0</td>\n",
       "      <td>Unknown</td>\n",
       "    </tr>\n",
       "    <tr>\n",
       "      <th>51</th>\n",
       "      <td>0</td>\n",
       "      <td>Unknown</td>\n",
       "    </tr>\n",
       "    <tr>\n",
       "      <th>52</th>\n",
       "      <td>23</td>\n",
       "      <td>Medical consultation</td>\n",
       "    </tr>\n",
       "    <tr>\n",
       "      <th>53</th>\n",
       "      <td>23</td>\n",
       "      <td>Medical consultation</td>\n",
       "    </tr>\n",
       "    <tr>\n",
       "      <th>54</th>\n",
       "      <td>0</td>\n",
       "      <td>Unknown</td>\n",
       "    </tr>\n",
       "    <tr>\n",
       "      <th>55</th>\n",
       "      <td>0</td>\n",
       "      <td>Unknown</td>\n",
       "    </tr>\n",
       "    <tr>\n",
       "      <th>56</th>\n",
       "      <td>18</td>\n",
       "      <td>Symptoms, signs and abnormal clinical and labo...</td>\n",
       "    </tr>\n",
       "    <tr>\n",
       "      <th>57</th>\n",
       "      <td>23</td>\n",
       "      <td>Medical consultation</td>\n",
       "    </tr>\n",
       "    <tr>\n",
       "      <th>58</th>\n",
       "      <td>0</td>\n",
       "      <td>Unknown</td>\n",
       "    </tr>\n",
       "    <tr>\n",
       "      <th>59</th>\n",
       "      <td>23</td>\n",
       "      <td>Medical consultation</td>\n",
       "    </tr>\n",
       "    <tr>\n",
       "      <th>60</th>\n",
       "      <td>23</td>\n",
       "      <td>Medical consultation</td>\n",
       "    </tr>\n",
       "    <tr>\n",
       "      <th>61</th>\n",
       "      <td>23</td>\n",
       "      <td>Medical consultation</td>\n",
       "    </tr>\n",
       "    <tr>\n",
       "      <th>62</th>\n",
       "      <td>23</td>\n",
       "      <td>Medical consultation</td>\n",
       "    </tr>\n",
       "    <tr>\n",
       "      <th>63</th>\n",
       "      <td>23</td>\n",
       "      <td>Medical consultation</td>\n",
       "    </tr>\n",
       "    <tr>\n",
       "      <th>64</th>\n",
       "      <td>0</td>\n",
       "      <td>Unknown</td>\n",
       "    </tr>\n",
       "    <tr>\n",
       "      <th>65</th>\n",
       "      <td>23</td>\n",
       "      <td>Medical consultation</td>\n",
       "    </tr>\n",
       "    <tr>\n",
       "      <th>66</th>\n",
       "      <td>23</td>\n",
       "      <td>Medical consultation</td>\n",
       "    </tr>\n",
       "    <tr>\n",
       "      <th>67</th>\n",
       "      <td>23</td>\n",
       "      <td>Medical consultation</td>\n",
       "    </tr>\n",
       "    <tr>\n",
       "      <th>68</th>\n",
       "      <td>23</td>\n",
       "      <td>Medical consultation</td>\n",
       "    </tr>\n",
       "    <tr>\n",
       "      <th>69</th>\n",
       "      <td>23</td>\n",
       "      <td>Medical consultation</td>\n",
       "    </tr>\n",
       "    <tr>\n",
       "      <th>70</th>\n",
       "      <td>23</td>\n",
       "      <td>Medical consultation</td>\n",
       "    </tr>\n",
       "    <tr>\n",
       "      <th>71</th>\n",
       "      <td>23</td>\n",
       "      <td>Medical consultation</td>\n",
       "    </tr>\n",
       "    <tr>\n",
       "      <th>72</th>\n",
       "      <td>23</td>\n",
       "      <td>Medical consultation</td>\n",
       "    </tr>\n",
       "    <tr>\n",
       "      <th>73</th>\n",
       "      <td>23</td>\n",
       "      <td>Medical consultation</td>\n",
       "    </tr>\n",
       "    <tr>\n",
       "      <th>74</th>\n",
       "      <td>19</td>\n",
       "      <td>Injury, poisoning and certain other consequenc...</td>\n",
       "    </tr>\n",
       "    <tr>\n",
       "      <th>75</th>\n",
       "      <td>14</td>\n",
       "      <td>Diseases of the genitourinary system</td>\n",
       "    </tr>\n",
       "    <tr>\n",
       "      <th>76</th>\n",
       "      <td>28</td>\n",
       "      <td>Dental consultation</td>\n",
       "    </tr>\n",
       "    <tr>\n",
       "      <th>77</th>\n",
       "      <td>26</td>\n",
       "      <td>Unjustified absence</td>\n",
       "    </tr>\n",
       "    <tr>\n",
       "      <th>78</th>\n",
       "      <td>23</td>\n",
       "      <td>Medical consultation</td>\n",
       "    </tr>\n",
       "    <tr>\n",
       "      <th>79</th>\n",
       "      <td>28</td>\n",
       "      <td>Dental consultation</td>\n",
       "    </tr>\n",
       "    <tr>\n",
       "      <th>80</th>\n",
       "      <td>23</td>\n",
       "      <td>Medical consultation</td>\n",
       "    </tr>\n",
       "    <tr>\n",
       "      <th>81</th>\n",
       "      <td>23</td>\n",
       "      <td>Medical consultation</td>\n",
       "    </tr>\n",
       "    <tr>\n",
       "      <th>82</th>\n",
       "      <td>13</td>\n",
       "      <td>Diseases of the musculoskeletal system and con...</td>\n",
       "    </tr>\n",
       "    <tr>\n",
       "      <th>83</th>\n",
       "      <td>21</td>\n",
       "      <td>Factors influencing health status and contact ...</td>\n",
       "    </tr>\n",
       "    <tr>\n",
       "      <th>84</th>\n",
       "      <td>23</td>\n",
       "      <td>Medical consultation</td>\n",
       "    </tr>\n",
       "    <tr>\n",
       "      <th>85</th>\n",
       "      <td>10</td>\n",
       "      <td>Diseases of the respiratory system</td>\n",
       "    </tr>\n",
       "    <tr>\n",
       "      <th>86</th>\n",
       "      <td>22</td>\n",
       "      <td>Patient follow-up</td>\n",
       "    </tr>\n",
       "    <tr>\n",
       "      <th>87</th>\n",
       "      <td>14</td>\n",
       "      <td>Diseases of the genitourinary system</td>\n",
       "    </tr>\n",
       "    <tr>\n",
       "      <th>88</th>\n",
       "      <td>23</td>\n",
       "      <td>Medical consultation</td>\n",
       "    </tr>\n",
       "    <tr>\n",
       "      <th>89</th>\n",
       "      <td>6</td>\n",
       "      <td>Diseases of the nervous system</td>\n",
       "    </tr>\n",
       "    <tr>\n",
       "      <th>90</th>\n",
       "      <td>23</td>\n",
       "      <td>Medical consultation</td>\n",
       "    </tr>\n",
       "    <tr>\n",
       "      <th>91</th>\n",
       "      <td>21</td>\n",
       "      <td>Factors influencing health status and contact ...</td>\n",
       "    </tr>\n",
       "    <tr>\n",
       "      <th>92</th>\n",
       "      <td>13</td>\n",
       "      <td>Diseases of the musculoskeletal system and con...</td>\n",
       "    </tr>\n",
       "    <tr>\n",
       "      <th>93</th>\n",
       "      <td>28</td>\n",
       "      <td>Dental consultation</td>\n",
       "    </tr>\n",
       "    <tr>\n",
       "      <th>94</th>\n",
       "      <td>28</td>\n",
       "      <td>Dental consultation</td>\n",
       "    </tr>\n",
       "    <tr>\n",
       "      <th>95</th>\n",
       "      <td>28</td>\n",
       "      <td>Dental consultation</td>\n",
       "    </tr>\n",
       "    <tr>\n",
       "      <th>96</th>\n",
       "      <td>7</td>\n",
       "      <td>Diseases of the eye and adnexa</td>\n",
       "    </tr>\n",
       "    <tr>\n",
       "      <th>97</th>\n",
       "      <td>23</td>\n",
       "      <td>Medical consultation</td>\n",
       "    </tr>\n",
       "    <tr>\n",
       "      <th>98</th>\n",
       "      <td>23</td>\n",
       "      <td>Medical consultation</td>\n",
       "    </tr>\n",
       "    <tr>\n",
       "      <th>99</th>\n",
       "      <td>19</td>\n",
       "      <td>Injury, poisoning and certain other consequenc...</td>\n",
       "    </tr>\n",
       "  </tbody>\n",
       "</table>\n",
       "</div>"
      ],
      "text/plain": [
       "   Reason                                 reason_description\n",
       "0      26                                Unjustified absence\n",
       "1       0                                            Unknown\n",
       "2      23                               Medical consultation\n",
       "3       7                     Diseases of the eye and adnexa\n",
       "4      23                               Medical consultation\n",
       "5      23                               Medical consultation\n",
       "6      22                                  Patient follow-up\n",
       "7      23                               Medical consultation\n",
       "8      19  Injury, poisoning and certain other consequenc...\n",
       "9      22                                  Patient follow-up\n",
       "10      1          Certain infectious and parasitic diseases\n",
       "11      1          Certain infectious and parasitic diseases\n",
       "12     11                   Diseases of the digestive system\n",
       "13     11                   Diseases of the digestive system\n",
       "14     23                               Medical consultation\n",
       "15     14               Diseases of the genitourinary system\n",
       "16     23                               Medical consultation\n",
       "17     21  Factors influencing health status and contact ...\n",
       "18     11                   Diseases of the digestive system\n",
       "19     23                               Medical consultation\n",
       "20     10                 Diseases of the respiratory system\n",
       "21     11                   Diseases of the digestive system\n",
       "22     13  Diseases of the musculoskeletal system and con...\n",
       "23     28                                Dental consultation\n",
       "24     18  Symptoms, signs and abnormal clinical and labo...\n",
       "25     25                             Laboratory examination\n",
       "26     23                               Medical consultation\n",
       "27     28                                Dental consultation\n",
       "28     18  Symptoms, signs and abnormal clinical and labo...\n",
       "29     23                               Medical consultation\n",
       "30     18  Symptoms, signs and abnormal clinical and labo...\n",
       "31     18  Symptoms, signs and abnormal clinical and labo...\n",
       "32     23                               Medical consultation\n",
       "33     18  Symptoms, signs and abnormal clinical and labo...\n",
       "34     23                               Medical consultation\n",
       "35     23                               Medical consultation\n",
       "36     24                                     Blood donation\n",
       "37     11                   Diseases of the digestive system\n",
       "38     28                                Dental consultation\n",
       "39     23                               Medical consultation\n",
       "40     23                               Medical consultation\n",
       "41     23                               Medical consultation\n",
       "42     23                               Medical consultation\n",
       "43     19  Injury, poisoning and certain other consequenc...\n",
       "44     23                               Medical consultation\n",
       "45     23                               Medical consultation\n",
       "46     23                               Medical consultation\n",
       "47     23                               Medical consultation\n",
       "48     22                                  Patient follow-up\n",
       "49     14               Diseases of the genitourinary system\n",
       "50      0                                            Unknown\n",
       "51      0                                            Unknown\n",
       "52     23                               Medical consultation\n",
       "53     23                               Medical consultation\n",
       "54      0                                            Unknown\n",
       "55      0                                            Unknown\n",
       "56     18  Symptoms, signs and abnormal clinical and labo...\n",
       "57     23                               Medical consultation\n",
       "58      0                                            Unknown\n",
       "59     23                               Medical consultation\n",
       "60     23                               Medical consultation\n",
       "61     23                               Medical consultation\n",
       "62     23                               Medical consultation\n",
       "63     23                               Medical consultation\n",
       "64      0                                            Unknown\n",
       "65     23                               Medical consultation\n",
       "66     23                               Medical consultation\n",
       "67     23                               Medical consultation\n",
       "68     23                               Medical consultation\n",
       "69     23                               Medical consultation\n",
       "70     23                               Medical consultation\n",
       "71     23                               Medical consultation\n",
       "72     23                               Medical consultation\n",
       "73     23                               Medical consultation\n",
       "74     19  Injury, poisoning and certain other consequenc...\n",
       "75     14               Diseases of the genitourinary system\n",
       "76     28                                Dental consultation\n",
       "77     26                                Unjustified absence\n",
       "78     23                               Medical consultation\n",
       "79     28                                Dental consultation\n",
       "80     23                               Medical consultation\n",
       "81     23                               Medical consultation\n",
       "82     13  Diseases of the musculoskeletal system and con...\n",
       "83     21  Factors influencing health status and contact ...\n",
       "84     23                               Medical consultation\n",
       "85     10                 Diseases of the respiratory system\n",
       "86     22                                  Patient follow-up\n",
       "87     14               Diseases of the genitourinary system\n",
       "88     23                               Medical consultation\n",
       "89      6                     Diseases of the nervous system\n",
       "90     23                               Medical consultation\n",
       "91     21  Factors influencing health status and contact ...\n",
       "92     13  Diseases of the musculoskeletal system and con...\n",
       "93     28                                Dental consultation\n",
       "94     28                                Dental consultation\n",
       "95     28                                Dental consultation\n",
       "96      7                     Diseases of the eye and adnexa\n",
       "97     23                               Medical consultation\n",
       "98     23                               Medical consultation\n",
       "99     19  Injury, poisoning and certain other consequenc..."
      ]
     },
     "execution_count": 39,
     "metadata": {},
     "output_type": "execute_result"
    }
   ],
   "source": [
    "df[0:100][['Reason', 'reason_description']]"
   ]
  },
  {
   "cell_type": "markdown",
   "metadata": {
    "id": "X5j7aUnGM4Nn"
   },
   "source": [
    "**Nova coluna para Education**"
   ]
  },
  {
   "cell_type": "code",
   "execution_count": 40,
   "metadata": {
    "colab": {
     "base_uri": "https://localhost:8080/"
    },
    "executionInfo": {
     "elapsed": 872,
     "status": "ok",
     "timestamp": 1623801264814,
     "user": {
      "displayName": "Everton Silva",
      "photoUrl": "https://lh3.googleusercontent.com/a-/AOh14GjcTJRlldyV6KuP5SI3D5WKR1Q0rTzwyBr1UndCW3g=s64",
      "userId": "11269003009281382658"
     },
     "user_tz": 180
    },
    "id": "KLmsj6feNYim",
    "outputId": "708289c4-da70-483f-af3b-f92e9998e82c"
   },
   "outputs": [
    {
     "data": {
      "text/plain": [
       "1    608\n",
       "3     79\n",
       "2     46\n",
       "4      4\n",
       "Name: Education, dtype: int64"
      ]
     },
     "execution_count": 40,
     "metadata": {},
     "output_type": "execute_result"
    }
   ],
   "source": [
    "df['Education'].value_counts()"
   ]
  },
  {
   "cell_type": "code",
   "execution_count": 41,
   "metadata": {
    "executionInfo": {
     "elapsed": 16,
     "status": "ok",
     "timestamp": 1623801264815,
     "user": {
      "displayName": "Everton Silva",
      "photoUrl": "https://lh3.googleusercontent.com/a-/AOh14GjcTJRlldyV6KuP5SI3D5WKR1Q0rTzwyBr1UndCW3g=s64",
      "userId": "11269003009281382658"
     },
     "user_tz": 180
    },
    "id": "LLLvhit8M0NN"
   },
   "outputs": [],
   "source": [
    "df.loc[(df['Education'] == 1),'education_name'] = 'High school'\n",
    "df.loc[(df['Education'] == 2),'education_name'] = 'Graduate'\n",
    "df.loc[(df['Education'] == 3),'education_name'] = 'Postgraduate'\n",
    "df.loc[(df['Education'] == 4),'education_name'] = 'Master and doctor'"
   ]
  },
  {
   "cell_type": "code",
   "execution_count": 42,
   "metadata": {
    "colab": {
     "base_uri": "https://localhost:8080/",
     "height": 0
    },
    "executionInfo": {
     "elapsed": 16,
     "status": "ok",
     "timestamp": 1623801264815,
     "user": {
      "displayName": "Everton Silva",
      "photoUrl": "https://lh3.googleusercontent.com/a-/AOh14GjcTJRlldyV6KuP5SI3D5WKR1Q0rTzwyBr1UndCW3g=s64",
      "userId": "11269003009281382658"
     },
     "user_tz": 180
    },
    "id": "HSXPri2sNn6P",
    "outputId": "1fe2fa9d-0069-406d-b424-ea005e8b7b3f"
   },
   "outputs": [
    {
     "data": {
      "text/html": [
       "<div>\n",
       "<style scoped>\n",
       "    .dataframe tbody tr th:only-of-type {\n",
       "        vertical-align: middle;\n",
       "    }\n",
       "\n",
       "    .dataframe tbody tr th {\n",
       "        vertical-align: top;\n",
       "    }\n",
       "\n",
       "    .dataframe thead th {\n",
       "        text-align: right;\n",
       "    }\n",
       "</style>\n",
       "<table border=\"1\" class=\"dataframe\">\n",
       "  <thead>\n",
       "    <tr style=\"text-align: right;\">\n",
       "      <th></th>\n",
       "      <th>Education</th>\n",
       "      <th>education_name</th>\n",
       "    </tr>\n",
       "  </thead>\n",
       "  <tbody>\n",
       "    <tr>\n",
       "      <th>100</th>\n",
       "      <td>1</td>\n",
       "      <td>High school</td>\n",
       "    </tr>\n",
       "    <tr>\n",
       "      <th>101</th>\n",
       "      <td>3</td>\n",
       "      <td>Postgraduate</td>\n",
       "    </tr>\n",
       "    <tr>\n",
       "      <th>102</th>\n",
       "      <td>1</td>\n",
       "      <td>High school</td>\n",
       "    </tr>\n",
       "    <tr>\n",
       "      <th>103</th>\n",
       "      <td>1</td>\n",
       "      <td>High school</td>\n",
       "    </tr>\n",
       "    <tr>\n",
       "      <th>104</th>\n",
       "      <td>1</td>\n",
       "      <td>High school</td>\n",
       "    </tr>\n",
       "    <tr>\n",
       "      <th>...</th>\n",
       "      <td>...</td>\n",
       "      <td>...</td>\n",
       "    </tr>\n",
       "    <tr>\n",
       "      <th>295</th>\n",
       "      <td>3</td>\n",
       "      <td>Postgraduate</td>\n",
       "    </tr>\n",
       "    <tr>\n",
       "      <th>296</th>\n",
       "      <td>1</td>\n",
       "      <td>High school</td>\n",
       "    </tr>\n",
       "    <tr>\n",
       "      <th>297</th>\n",
       "      <td>1</td>\n",
       "      <td>High school</td>\n",
       "    </tr>\n",
       "    <tr>\n",
       "      <th>298</th>\n",
       "      <td>1</td>\n",
       "      <td>High school</td>\n",
       "    </tr>\n",
       "    <tr>\n",
       "      <th>299</th>\n",
       "      <td>3</td>\n",
       "      <td>Postgraduate</td>\n",
       "    </tr>\n",
       "  </tbody>\n",
       "</table>\n",
       "<p>200 rows × 2 columns</p>\n",
       "</div>"
      ],
      "text/plain": [
       "    Education education_name\n",
       "100         1    High school\n",
       "101         3   Postgraduate\n",
       "102         1    High school\n",
       "103         1    High school\n",
       "104         1    High school\n",
       "..        ...            ...\n",
       "295         3   Postgraduate\n",
       "296         1    High school\n",
       "297         1    High school\n",
       "298         1    High school\n",
       "299         3   Postgraduate\n",
       "\n",
       "[200 rows x 2 columns]"
      ]
     },
     "execution_count": 42,
     "metadata": {},
     "output_type": "execute_result"
    }
   ],
   "source": [
    "df[100:300][['Education', 'education_name']]"
   ]
  },
  {
   "cell_type": "markdown",
   "metadata": {
    "id": "8Gt2FixcPvbW"
   },
   "source": [
    "**Reogazinar as colunas**"
   ]
  },
  {
   "cell_type": "code",
   "execution_count": 43,
   "metadata": {
    "colab": {
     "base_uri": "https://localhost:8080/"
    },
    "executionInfo": {
     "elapsed": 16,
     "status": "ok",
     "timestamp": 1623801264817,
     "user": {
      "displayName": "Everton Silva",
      "photoUrl": "https://lh3.googleusercontent.com/a-/AOh14GjcTJRlldyV6KuP5SI3D5WKR1Q0rTzwyBr1UndCW3g=s64",
      "userId": "11269003009281382658"
     },
     "user_tz": 180
    },
    "id": "z4wakfjVP392",
    "outputId": "e0c906e7-d227-49a0-97cb-075a63e7e296"
   },
   "outputs": [
    {
     "data": {
      "text/plain": [
       "Index(['ID', 'Reason', 'Month', 'Weekday', 'Season', 'TransportExpense',\n",
       "       'Distance', 'ServiceTime', 'Age', 'Workload', 'HitTarget', 'Failure',\n",
       "       'Education', 'Child', 'Drinker', 'Smoker', 'Pet', 'Weight', 'Height',\n",
       "       'BMI', 'AbsHours', 'season_name', 'month_name', 'reason_description',\n",
       "       'education_name'],\n",
       "      dtype='object')"
      ]
     },
     "execution_count": 43,
     "metadata": {},
     "output_type": "execute_result"
    }
   ],
   "source": [
    "df.columns"
   ]
  },
  {
   "cell_type": "code",
   "execution_count": 44,
   "metadata": {
    "executionInfo": {
     "elapsed": 16,
     "status": "ok",
     "timestamp": 1623801264818,
     "user": {
      "displayName": "Everton Silva",
      "photoUrl": "https://lh3.googleusercontent.com/a-/AOh14GjcTJRlldyV6KuP5SI3D5WKR1Q0rTzwyBr1UndCW3g=s64",
      "userId": "11269003009281382658"
     },
     "user_tz": 180
    },
    "id": "kT2Ut7_dP8oT"
   },
   "outputs": [],
   "source": [
    "col_names_reordered = ['ID', 'Reason', 'reason_description', 'Month', 'month_name', 'Weekday', 'Season', 'season_name', \n",
    "                       'TransportExpense', 'Distance', 'ServiceTime', 'Age', 'Workload', 'HitTarget', 'Failure',\n",
    "                       'Education', 'education_name', 'Child', 'Drinker', 'Smoker', 'Pet', 'Weight', 'Height',\n",
    "                       'BMI', 'AbsHours']"
   ]
  },
  {
   "cell_type": "code",
   "execution_count": 45,
   "metadata": {
    "colab": {
     "base_uri": "https://localhost:8080/",
     "height": 0
    },
    "executionInfo": {
     "elapsed": 16,
     "status": "ok",
     "timestamp": 1623801264818,
     "user": {
      "displayName": "Everton Silva",
      "photoUrl": "https://lh3.googleusercontent.com/a-/AOh14GjcTJRlldyV6KuP5SI3D5WKR1Q0rTzwyBr1UndCW3g=s64",
      "userId": "11269003009281382658"
     },
     "user_tz": 180
    },
    "id": "t0A2kUojRa3k",
    "outputId": "f8c10e57-5cfa-444e-c961-71f39acf6968"
   },
   "outputs": [
    {
     "data": {
      "text/html": [
       "<div>\n",
       "<style scoped>\n",
       "    .dataframe tbody tr th:only-of-type {\n",
       "        vertical-align: middle;\n",
       "    }\n",
       "\n",
       "    .dataframe tbody tr th {\n",
       "        vertical-align: top;\n",
       "    }\n",
       "\n",
       "    .dataframe thead th {\n",
       "        text-align: right;\n",
       "    }\n",
       "</style>\n",
       "<table border=\"1\" class=\"dataframe\">\n",
       "  <thead>\n",
       "    <tr style=\"text-align: right;\">\n",
       "      <th></th>\n",
       "      <th>ID</th>\n",
       "      <th>Reason</th>\n",
       "      <th>reason_description</th>\n",
       "      <th>Month</th>\n",
       "      <th>month_name</th>\n",
       "      <th>Weekday</th>\n",
       "      <th>Season</th>\n",
       "      <th>season_name</th>\n",
       "      <th>TransportExpense</th>\n",
       "      <th>Distance</th>\n",
       "      <th>...</th>\n",
       "      <th>Education</th>\n",
       "      <th>education_name</th>\n",
       "      <th>Child</th>\n",
       "      <th>Drinker</th>\n",
       "      <th>Smoker</th>\n",
       "      <th>Pet</th>\n",
       "      <th>Weight</th>\n",
       "      <th>Height</th>\n",
       "      <th>BMI</th>\n",
       "      <th>AbsHours</th>\n",
       "    </tr>\n",
       "  </thead>\n",
       "  <tbody>\n",
       "    <tr>\n",
       "      <th>0</th>\n",
       "      <td>11</td>\n",
       "      <td>26</td>\n",
       "      <td>Unjustified absence</td>\n",
       "      <td>7</td>\n",
       "      <td>Jul</td>\n",
       "      <td>3</td>\n",
       "      <td>1</td>\n",
       "      <td>Summer</td>\n",
       "      <td>289</td>\n",
       "      <td>36</td>\n",
       "      <td>...</td>\n",
       "      <td>1</td>\n",
       "      <td>High school</td>\n",
       "      <td>2</td>\n",
       "      <td>1</td>\n",
       "      <td>0</td>\n",
       "      <td>1</td>\n",
       "      <td>90</td>\n",
       "      <td>172</td>\n",
       "      <td>30</td>\n",
       "      <td>4</td>\n",
       "    </tr>\n",
       "    <tr>\n",
       "      <th>1</th>\n",
       "      <td>36</td>\n",
       "      <td>0</td>\n",
       "      <td>Unknown</td>\n",
       "      <td>7</td>\n",
       "      <td>Jul</td>\n",
       "      <td>3</td>\n",
       "      <td>1</td>\n",
       "      <td>Summer</td>\n",
       "      <td>118</td>\n",
       "      <td>13</td>\n",
       "      <td>...</td>\n",
       "      <td>1</td>\n",
       "      <td>High school</td>\n",
       "      <td>1</td>\n",
       "      <td>1</td>\n",
       "      <td>0</td>\n",
       "      <td>0</td>\n",
       "      <td>98</td>\n",
       "      <td>178</td>\n",
       "      <td>31</td>\n",
       "      <td>0</td>\n",
       "    </tr>\n",
       "    <tr>\n",
       "      <th>2</th>\n",
       "      <td>3</td>\n",
       "      <td>23</td>\n",
       "      <td>Medical consultation</td>\n",
       "      <td>7</td>\n",
       "      <td>Jul</td>\n",
       "      <td>4</td>\n",
       "      <td>1</td>\n",
       "      <td>Summer</td>\n",
       "      <td>179</td>\n",
       "      <td>51</td>\n",
       "      <td>...</td>\n",
       "      <td>1</td>\n",
       "      <td>High school</td>\n",
       "      <td>0</td>\n",
       "      <td>1</td>\n",
       "      <td>0</td>\n",
       "      <td>0</td>\n",
       "      <td>89</td>\n",
       "      <td>170</td>\n",
       "      <td>31</td>\n",
       "      <td>2</td>\n",
       "    </tr>\n",
       "    <tr>\n",
       "      <th>3</th>\n",
       "      <td>7</td>\n",
       "      <td>7</td>\n",
       "      <td>Diseases of the eye and adnexa</td>\n",
       "      <td>7</td>\n",
       "      <td>Jul</td>\n",
       "      <td>5</td>\n",
       "      <td>1</td>\n",
       "      <td>Summer</td>\n",
       "      <td>279</td>\n",
       "      <td>5</td>\n",
       "      <td>...</td>\n",
       "      <td>1</td>\n",
       "      <td>High school</td>\n",
       "      <td>2</td>\n",
       "      <td>1</td>\n",
       "      <td>1</td>\n",
       "      <td>0</td>\n",
       "      <td>68</td>\n",
       "      <td>168</td>\n",
       "      <td>24</td>\n",
       "      <td>4</td>\n",
       "    </tr>\n",
       "    <tr>\n",
       "      <th>4</th>\n",
       "      <td>11</td>\n",
       "      <td>23</td>\n",
       "      <td>Medical consultation</td>\n",
       "      <td>7</td>\n",
       "      <td>Jul</td>\n",
       "      <td>5</td>\n",
       "      <td>1</td>\n",
       "      <td>Summer</td>\n",
       "      <td>289</td>\n",
       "      <td>36</td>\n",
       "      <td>...</td>\n",
       "      <td>1</td>\n",
       "      <td>High school</td>\n",
       "      <td>2</td>\n",
       "      <td>1</td>\n",
       "      <td>0</td>\n",
       "      <td>1</td>\n",
       "      <td>90</td>\n",
       "      <td>172</td>\n",
       "      <td>30</td>\n",
       "      <td>2</td>\n",
       "    </tr>\n",
       "  </tbody>\n",
       "</table>\n",
       "<p>5 rows × 25 columns</p>\n",
       "</div>"
      ],
      "text/plain": [
       "   ID Reason              reason_description Month month_name Weekday Season  \\\n",
       "0  11     26             Unjustified absence     7        Jul       3      1   \n",
       "1  36      0                         Unknown     7        Jul       3      1   \n",
       "2   3     23            Medical consultation     7        Jul       4      1   \n",
       "3   7      7  Diseases of the eye and adnexa     7        Jul       5      1   \n",
       "4  11     23            Medical consultation     7        Jul       5      1   \n",
       "\n",
       "  season_name  TransportExpense  Distance  ...  Education  education_name  \\\n",
       "0      Summer               289        36  ...          1     High school   \n",
       "1      Summer               118        13  ...          1     High school   \n",
       "2      Summer               179        51  ...          1     High school   \n",
       "3      Summer               279         5  ...          1     High school   \n",
       "4      Summer               289        36  ...          1     High school   \n",
       "\n",
       "   Child  Drinker  Smoker Pet Weight  Height  BMI  AbsHours  \n",
       "0      2        1       0   1     90     172   30         4  \n",
       "1      1        1       0   0     98     178   31         0  \n",
       "2      0        1       0   0     89     170   31         2  \n",
       "3      2        1       1   0     68     168   24         4  \n",
       "4      2        1       0   1     90     172   30         2  \n",
       "\n",
       "[5 rows x 25 columns]"
      ]
     },
     "execution_count": 45,
     "metadata": {},
     "output_type": "execute_result"
    }
   ],
   "source": [
    "df = df[col_names_reordered]\n",
    "df.head()"
   ]
  },
  {
   "cell_type": "markdown",
   "metadata": {
    "id": "wz_Cg1T4PUro"
   },
   "source": [
    "### **Checkpoint**"
   ]
  },
  {
   "cell_type": "code",
   "execution_count": 46,
   "metadata": {
    "executionInfo": {
     "elapsed": 16,
     "status": "ok",
     "timestamp": 1623801264819,
     "user": {
      "displayName": "Everton Silva",
      "photoUrl": "https://lh3.googleusercontent.com/a-/AOh14GjcTJRlldyV6KuP5SI3D5WKR1Q0rTzwyBr1UndCW3g=s64",
      "userId": "11269003009281382658"
     },
     "user_tz": 180
    },
    "id": "ewVkbbiJPcjR"
   },
   "outputs": [],
   "source": [
    "df_mod = df.copy()"
   ]
  },
  {
   "cell_type": "markdown",
   "metadata": {
    "id": "8PUadaYiShYR"
   },
   "source": [
    "### Homework"
   ]
  },
  {
   "cell_type": "markdown",
   "metadata": {
    "id": "n5JwEUOujs7Y"
   },
   "source": [
    "Com base nas informações do dataset, nas colunas Month e Weekday, conseguimos descobrir o ano em que cada registro foi inserido? Se sim, crie uma coluna chamada \"Year\" com seus respectivos valores. "
   ]
  },
  {
   "cell_type": "code",
   "execution_count": 47,
   "metadata": {
    "executionInfo": {
     "elapsed": 15,
     "status": "ok",
     "timestamp": 1623801264820,
     "user": {
      "displayName": "Everton Silva",
      "photoUrl": "https://lh3.googleusercontent.com/a-/AOh14GjcTJRlldyV6KuP5SI3D5WKR1Q0rTzwyBr1UndCW3g=s64",
      "userId": "11269003009281382658"
     },
     "user_tz": 180
    },
    "id": "JvOCOaE3kNDk"
   },
   "outputs": [],
   "source": [
    "year = [];\n",
    "current_year = 2007\n",
    "for idx, row in df.iterrows():\n",
    "    year.append(current_year)\n",
    "    if df_mod.loc[idx, 'Month'] == 12 and df.loc[idx + 1, 'Month'] == 1:\n",
    "        current_year += 1\n",
    "df_mod.loc[:, 'Year'] = year"
   ]
  },
  {
   "cell_type": "code",
   "execution_count": 48,
   "metadata": {},
   "outputs": [
    {
     "data": {
      "text/html": [
       "<div>\n",
       "<style scoped>\n",
       "    .dataframe tbody tr th:only-of-type {\n",
       "        vertical-align: middle;\n",
       "    }\n",
       "\n",
       "    .dataframe tbody tr th {\n",
       "        vertical-align: top;\n",
       "    }\n",
       "\n",
       "    .dataframe thead th {\n",
       "        text-align: right;\n",
       "    }\n",
       "</style>\n",
       "<table border=\"1\" class=\"dataframe\">\n",
       "  <thead>\n",
       "    <tr style=\"text-align: right;\">\n",
       "      <th></th>\n",
       "      <th>ID</th>\n",
       "      <th>Reason</th>\n",
       "      <th>reason_description</th>\n",
       "      <th>Month</th>\n",
       "      <th>month_name</th>\n",
       "      <th>Weekday</th>\n",
       "      <th>Season</th>\n",
       "      <th>season_name</th>\n",
       "      <th>TransportExpense</th>\n",
       "      <th>Distance</th>\n",
       "      <th>...</th>\n",
       "      <th>education_name</th>\n",
       "      <th>Child</th>\n",
       "      <th>Drinker</th>\n",
       "      <th>Smoker</th>\n",
       "      <th>Pet</th>\n",
       "      <th>Weight</th>\n",
       "      <th>Height</th>\n",
       "      <th>BMI</th>\n",
       "      <th>AbsHours</th>\n",
       "      <th>Year</th>\n",
       "    </tr>\n",
       "  </thead>\n",
       "  <tbody>\n",
       "    <tr>\n",
       "      <th>0</th>\n",
       "      <td>11</td>\n",
       "      <td>26</td>\n",
       "      <td>Unjustified absence</td>\n",
       "      <td>7</td>\n",
       "      <td>Jul</td>\n",
       "      <td>3</td>\n",
       "      <td>1</td>\n",
       "      <td>Summer</td>\n",
       "      <td>289</td>\n",
       "      <td>36</td>\n",
       "      <td>...</td>\n",
       "      <td>High school</td>\n",
       "      <td>2</td>\n",
       "      <td>1</td>\n",
       "      <td>0</td>\n",
       "      <td>1</td>\n",
       "      <td>90</td>\n",
       "      <td>172</td>\n",
       "      <td>30</td>\n",
       "      <td>4</td>\n",
       "      <td>2007</td>\n",
       "    </tr>\n",
       "    <tr>\n",
       "      <th>1</th>\n",
       "      <td>36</td>\n",
       "      <td>0</td>\n",
       "      <td>Unknown</td>\n",
       "      <td>7</td>\n",
       "      <td>Jul</td>\n",
       "      <td>3</td>\n",
       "      <td>1</td>\n",
       "      <td>Summer</td>\n",
       "      <td>118</td>\n",
       "      <td>13</td>\n",
       "      <td>...</td>\n",
       "      <td>High school</td>\n",
       "      <td>1</td>\n",
       "      <td>1</td>\n",
       "      <td>0</td>\n",
       "      <td>0</td>\n",
       "      <td>98</td>\n",
       "      <td>178</td>\n",
       "      <td>31</td>\n",
       "      <td>0</td>\n",
       "      <td>2007</td>\n",
       "    </tr>\n",
       "    <tr>\n",
       "      <th>2</th>\n",
       "      <td>3</td>\n",
       "      <td>23</td>\n",
       "      <td>Medical consultation</td>\n",
       "      <td>7</td>\n",
       "      <td>Jul</td>\n",
       "      <td>4</td>\n",
       "      <td>1</td>\n",
       "      <td>Summer</td>\n",
       "      <td>179</td>\n",
       "      <td>51</td>\n",
       "      <td>...</td>\n",
       "      <td>High school</td>\n",
       "      <td>0</td>\n",
       "      <td>1</td>\n",
       "      <td>0</td>\n",
       "      <td>0</td>\n",
       "      <td>89</td>\n",
       "      <td>170</td>\n",
       "      <td>31</td>\n",
       "      <td>2</td>\n",
       "      <td>2007</td>\n",
       "    </tr>\n",
       "    <tr>\n",
       "      <th>3</th>\n",
       "      <td>7</td>\n",
       "      <td>7</td>\n",
       "      <td>Diseases of the eye and adnexa</td>\n",
       "      <td>7</td>\n",
       "      <td>Jul</td>\n",
       "      <td>5</td>\n",
       "      <td>1</td>\n",
       "      <td>Summer</td>\n",
       "      <td>279</td>\n",
       "      <td>5</td>\n",
       "      <td>...</td>\n",
       "      <td>High school</td>\n",
       "      <td>2</td>\n",
       "      <td>1</td>\n",
       "      <td>1</td>\n",
       "      <td>0</td>\n",
       "      <td>68</td>\n",
       "      <td>168</td>\n",
       "      <td>24</td>\n",
       "      <td>4</td>\n",
       "      <td>2007</td>\n",
       "    </tr>\n",
       "    <tr>\n",
       "      <th>4</th>\n",
       "      <td>11</td>\n",
       "      <td>23</td>\n",
       "      <td>Medical consultation</td>\n",
       "      <td>7</td>\n",
       "      <td>Jul</td>\n",
       "      <td>5</td>\n",
       "      <td>1</td>\n",
       "      <td>Summer</td>\n",
       "      <td>289</td>\n",
       "      <td>36</td>\n",
       "      <td>...</td>\n",
       "      <td>High school</td>\n",
       "      <td>2</td>\n",
       "      <td>1</td>\n",
       "      <td>0</td>\n",
       "      <td>1</td>\n",
       "      <td>90</td>\n",
       "      <td>172</td>\n",
       "      <td>30</td>\n",
       "      <td>2</td>\n",
       "      <td>2007</td>\n",
       "    </tr>\n",
       "  </tbody>\n",
       "</table>\n",
       "<p>5 rows × 26 columns</p>\n",
       "</div>"
      ],
      "text/plain": [
       "   ID Reason              reason_description Month month_name Weekday Season  \\\n",
       "0  11     26             Unjustified absence     7        Jul       3      1   \n",
       "1  36      0                         Unknown     7        Jul       3      1   \n",
       "2   3     23            Medical consultation     7        Jul       4      1   \n",
       "3   7      7  Diseases of the eye and adnexa     7        Jul       5      1   \n",
       "4  11     23            Medical consultation     7        Jul       5      1   \n",
       "\n",
       "  season_name  TransportExpense  Distance  ...  education_name  Child  \\\n",
       "0      Summer               289        36  ...     High school      2   \n",
       "1      Summer               118        13  ...     High school      1   \n",
       "2      Summer               179        51  ...     High school      0   \n",
       "3      Summer               279         5  ...     High school      2   \n",
       "4      Summer               289        36  ...     High school      2   \n",
       "\n",
       "   Drinker  Smoker  Pet Weight Height  BMI  AbsHours  Year  \n",
       "0        1       0    1     90    172   30         4  2007  \n",
       "1        1       0    0     98    178   31         0  2007  \n",
       "2        1       0    0     89    170   31         2  2007  \n",
       "3        1       1    0     68    168   24         4  2007  \n",
       "4        1       0    1     90    172   30         2  2007  \n",
       "\n",
       "[5 rows x 26 columns]"
      ]
     },
     "execution_count": 48,
     "metadata": {},
     "output_type": "execute_result"
    }
   ],
   "source": [
    "df_mod.head()"
   ]
  },
  {
   "cell_type": "markdown",
   "metadata": {
    "id": "D751dqphTOSN"
   },
   "source": [
    "## Exploratory Data Analysis"
   ]
  },
  {
   "cell_type": "code",
   "execution_count": 66,
   "metadata": {
    "executionInfo": {
     "elapsed": 301,
     "status": "ok",
     "timestamp": 1623801342081,
     "user": {
      "displayName": "Everton Silva",
      "photoUrl": "https://lh3.googleusercontent.com/a-/AOh14GjcTJRlldyV6KuP5SI3D5WKR1Q0rTzwyBr1UndCW3g=s64",
      "userId": "11269003009281382658"
     },
     "user_tz": 180
    },
    "id": "sWkKCvfdXOH9"
   },
   "outputs": [],
   "source": [
    "import seaborn as sns\n",
    "import matplotlib.pyplot as plt\n",
    "\n",
    "sns.set_theme(style=\"whitegrid\")\n",
    "plt.rcParams['figure.figsize'] = (10, 6)\n",
    "plt.rcParams['axes.labelsize'] = 14\n",
    "plt.rcParams['xtick.labelsize'] = 14\n",
    "plt.rcParams['xtick.labelsize'] = 14\n",
    "plt.rcParams['ytick.labelsize'] = 14\n",
    "plt.rcParams['axes.grid'] = False"
   ]
  },
  {
   "cell_type": "markdown",
   "metadata": {
    "id": "v8EZGzKaGjCW"
   },
   "source": []
  },
  {
   "cell_type": "markdown",
   "metadata": {
    "id": "03Qc-19fU6cz"
   },
   "source": [
    "### Qual a média de horas de absenteísmo por idade?"
   ]
  },
  {
   "cell_type": "markdown",
   "metadata": {
    "id": "GHB6rPHnYuoD"
   },
   "source": [
    "### Qual a média de horas de absenteísmo por motivo (Reason)?"
   ]
  },
  {
   "cell_type": "markdown",
   "metadata": {},
   "source": [
    "### Qual a quantidade de amostras considerando o atributo Drinker?"
   ]
  },
  {
   "cell_type": "code",
   "execution_count": 50,
   "metadata": {},
   "outputs": [
    {
     "data": {
      "text/plain": [
       "Drinker\n",
       "1          418\n",
       "0          319\n",
       "dtype: int64"
      ]
     },
     "execution_count": 50,
     "metadata": {},
     "output_type": "execute_result"
    }
   ],
   "source": [
    "df_mod.value_counts(subset=['Drinker'])"
   ]
  },
  {
   "cell_type": "code",
   "execution_count": 67,
   "metadata": {},
   "outputs": [
    {
     "data": {
      "image/png": "[encoded data removed]",
      "text/plain": [
       "<Figure size 720x432 with 1 Axes>"
      ]
     },
     "metadata": {},
     "output_type": "display_data"
    }
   ],
   "source": [
    "sns.countplot(data=df_mod, x='Drinker')\n",
    "plt.show()"
   ]
  },
  {
   "cell_type": "markdown",
   "metadata": {},
   "source": [
    "### Qual a quantidade de amostras considerando o atributo Smoker?"
   ]
  },
  {
   "cell_type": "code",
   "execution_count": 53,
   "metadata": {},
   "outputs": [
    {
     "data": {
      "text/plain": [
       "Smoker\n",
       "0         683\n",
       "1          54\n",
       "dtype: int64"
      ]
     },
     "execution_count": 53,
     "metadata": {},
     "output_type": "execute_result"
    }
   ],
   "source": [
    "df_mod.value_counts(subset=['Smoker'])"
   ]
  },
  {
   "cell_type": "code",
   "execution_count": 68,
   "metadata": {},
   "outputs": [
    {
     "data": {
      "image/png": "[encoded data removed]",
      "text/plain": [
       "<Figure size 720x432 with 1 Axes>"
      ]
     },
     "metadata": {},
     "output_type": "display_data"
    }
   ],
   "source": [
    "sns.countplot(data=df_mod, x='Smoker')\n",
    "plt.show()"
   ]
  },
  {
   "cell_type": "markdown",
   "metadata": {},
   "source": [
    "### Qual a distribuição e outros valores considerando o gasto com transporte?"
   ]
  },
  {
   "cell_type": "code",
   "execution_count": 55,
   "metadata": {},
   "outputs": [
    {
     "data": {
      "text/plain": [
       "count    737.000000\n",
       "mean     221.514247\n",
       "std       66.960952\n",
       "min      118.000000\n",
       "25%      179.000000\n",
       "50%      225.000000\n",
       "75%      260.000000\n",
       "max      388.000000\n",
       "Name: TransportExpense, dtype: float64"
      ]
     },
     "execution_count": 55,
     "metadata": {},
     "output_type": "execute_result"
    }
   ],
   "source": [
    "df_mod['TransportExpense'].describebe()"
   ]
  },
  {
   "cell_type": "code",
   "execution_count": 69,
   "metadata": {},
   "outputs": [
    {
     "data": {
      "image/png": "[encoded data removed]",
      "text/plain": [
       "<Figure size 720x432 with 1 Axes>"
      ]
     },
     "metadata": {},
     "output_type": "display_data"
    }
   ],
   "source": [
    "sns.histplot(data=df_mod, x='TransportExpense', bins=5, kde=True)\n",
    "plt.xlabel('Transporte Expense')\n",
    "plt.ylabel('Total')\n",
    "plt.title('Histogram of Transport Expense Attribute')\n",
    "plt.show()"
   ]
  },
  {
   "cell_type": "code",
   "execution_count": 70,
   "metadata": {},
   "outputs": [
    {
     "data": {
      "image/png": "[encoded data removed]",
      "text/plain": [
       "<Figure size 720x432 with 1 Axes>"
      ]
     },
     "metadata": {},
     "output_type": "display_data"
    }
   ],
   "source": [
    "sns.boxplot(data=df_mod, x='TransportExpense')\n",
    "plt.xlabel('Transporte Expense')\n",
    "plt.title('Boxplot of Transport Expense Attribute')\n",
    "plt.show()"
   ]
  },
  {
   "cell_type": "markdown",
   "metadata": {},
   "source": [
    "### Qual a distribuição e outros valores considerando a distância?"
   ]
  },
  {
   "cell_type": "code",
   "execution_count": 71,
   "metadata": {},
   "outputs": [
    {
     "data": {
      "text/plain": [
       "count    737.000000\n",
       "mean      29.624152\n",
       "std       14.843701\n",
       "min        5.000000\n",
       "25%       16.000000\n",
       "50%       26.000000\n",
       "75%       50.000000\n",
       "max       52.000000\n",
       "Name: Distance, dtype: float64"
      ]
     },
     "execution_count": 71,
     "metadata": {},
     "output_type": "execute_result"
    }
   ],
   "source": [
    "df_mod['Distance'].describe()"
   ]
  },
  {
   "cell_type": "code",
   "execution_count": 72,
   "metadata": {},
   "outputs": [
    {
     "data": {
      "image/png": "[encoded data removed]",
      "text/plain": [
       "<Figure size 720x432 with 1 Axes>"
      ]
     },
     "metadata": {},
     "output_type": "display_data"
    }
   ],
   "source": [
    "sns.histplot(data=df_mod, x='Distance', bins=5, kde=True)\n",
    "plt.xlabel('Distance')\n",
    "plt.ylabel('Total')\n",
    "plt.title('Histogram of Distance Attribute')\n",
    "plt.show()"
   ]
  },
  {
   "cell_type": "code",
   "execution_count": 74,
   "metadata": {},
   "outputs": [
    {
     "data": {
      "image/png": "[encoded data removed]",
      "text/plain": [
       "<Figure size 720x432 with 1 Axes>"
      ]
     },
     "metadata": {},
     "output_type": "display_data"
    }
   ],
   "source": [
    "sns.boxplot(data=df_mod, x='Distance')\n",
    "plt.xlabel('Distance')\n",
    "plt.title('Boxplot of Distance Attribute')\n",
    "plt.show()"
   ]
  },
  {
   "cell_type": "markdown",
   "metadata": {},
   "source": [
    "### Qual a média de horas de absenteísmo por idade?"
   ]
  },
  {
   "cell_type": "code",
   "execution_count": 75,
   "metadata": {},
   "outputs": [
    {
     "data": {
      "text/plain": [
       "Index(['ID', 'Reason', 'reason_description', 'Month', 'month_name', 'Weekday',\n",
       "       'Season', 'season_name', 'TransportExpense', 'Distance', 'ServiceTime',\n",
       "       'Age', 'Workload', 'HitTarget', 'Failure', 'Education',\n",
       "       'education_name', 'Child', 'Drinker', 'Smoker', 'Pet', 'Weight',\n",
       "       'Height', 'BMI', 'AbsHours', 'Year'],\n",
       "      dtype='object')"
      ]
     },
     "execution_count": 75,
     "metadata": {},
     "output_type": "execute_result"
    }
   ],
   "source": [
    "df_mod.columns"
   ]
  },
  {
   "cell_type": "code",
   "execution_count": 80,
   "metadata": {},
   "outputs": [
    {
     "data": {
      "text/html": [
       "<div>\n",
       "<style scoped>\n",
       "    .dataframe tbody tr th:only-of-type {\n",
       "        vertical-align: middle;\n",
       "    }\n",
       "\n",
       "    .dataframe tbody tr th {\n",
       "        vertical-align: top;\n",
       "    }\n",
       "\n",
       "    .dataframe thead th {\n",
       "        text-align: right;\n",
       "    }\n",
       "</style>\n",
       "<table border=\"1\" class=\"dataframe\">\n",
       "  <thead>\n",
       "    <tr style=\"text-align: right;\">\n",
       "      <th></th>\n",
       "      <th>AbsHours</th>\n",
       "    </tr>\n",
       "    <tr>\n",
       "      <th>Age</th>\n",
       "      <th></th>\n",
       "    </tr>\n",
       "  </thead>\n",
       "  <tbody>\n",
       "    <tr>\n",
       "      <th>27</th>\n",
       "      <td>27</td>\n",
       "    </tr>\n",
       "    <tr>\n",
       "      <th>28</th>\n",
       "      <td>651</td>\n",
       "    </tr>\n",
       "    <tr>\n",
       "      <th>29</th>\n",
       "      <td>31</td>\n",
       "    </tr>\n",
       "    <tr>\n",
       "      <th>30</th>\n",
       "      <td>253</td>\n",
       "    </tr>\n",
       "    <tr>\n",
       "      <th>31</th>\n",
       "      <td>217</td>\n",
       "    </tr>\n",
       "  </tbody>\n",
       "</table>\n",
       "</div>"
      ],
      "text/plain": [
       "     AbsHours\n",
       "Age          \n",
       "27         27\n",
       "28        651\n",
       "29         31\n",
       "30        253\n",
       "31        217"
      ]
     },
     "execution_count": 80,
     "metadata": {},
     "output_type": "execute_result"
    }
   ],
   "source": [
    "df_age = df_mod.groupby(by=\"Age\")[['AbsHours']].sum()\n",
    "df_age.head()"
   ]
  },
  {
   "cell_type": "code",
   "execution_count": 91,
   "metadata": {},
   "outputs": [
    {
     "data": {
      "image/png": "[encoded data removed]",
      "text/plain": [
       "<Figure size 720x360 with 1 Axes>"
      ]
     },
     "metadata": {},
     "output_type": "display_data"
    }
   ],
   "source": [
    "ax = sns.catplot(data=df_age, x=df_age.index, y='AbsHours', kind='bar', color='steelblue', aspect=2.0)\n",
    "ax.set_axis_labels('Age', 'Absenteeism time in hours', fontsize=12)\n",
    "ax.fig.suptitle('Sum of Absenteeism time in hours by Age')\n",
    "plt.show()"
   ]
  },
  {
   "cell_type": "code",
   "execution_count": 92,
   "metadata": {},
   "outputs": [
    {
     "data": {
      "text/html": [
       "<div>\n",
       "<style scoped>\n",
       "    .dataframe tbody tr th:only-of-type {\n",
       "        vertical-align: middle;\n",
       "    }\n",
       "\n",
       "    .dataframe tbody tr th {\n",
       "        vertical-align: top;\n",
       "    }\n",
       "\n",
       "    .dataframe thead th {\n",
       "        text-align: right;\n",
       "    }\n",
       "</style>\n",
       "<table border=\"1\" class=\"dataframe\">\n",
       "  <thead>\n",
       "    <tr style=\"text-align: right;\">\n",
       "      <th></th>\n",
       "      <th>Age</th>\n",
       "      <th>AbsHours</th>\n",
       "    </tr>\n",
       "  </thead>\n",
       "  <tbody>\n",
       "    <tr>\n",
       "      <th>0</th>\n",
       "      <td>27</td>\n",
       "      <td>3.857143</td>\n",
       "    </tr>\n",
       "    <tr>\n",
       "      <th>1</th>\n",
       "      <td>28</td>\n",
       "      <td>5.564103</td>\n",
       "    </tr>\n",
       "    <tr>\n",
       "      <th>2</th>\n",
       "      <td>29</td>\n",
       "      <td>4.428571</td>\n",
       "    </tr>\n",
       "    <tr>\n",
       "      <th>3</th>\n",
       "      <td>30</td>\n",
       "      <td>5.500000</td>\n",
       "    </tr>\n",
       "    <tr>\n",
       "      <th>4</th>\n",
       "      <td>31</td>\n",
       "      <td>9.863636</td>\n",
       "    </tr>\n",
       "  </tbody>\n",
       "</table>\n",
       "</div>"
      ],
      "text/plain": [
       "   Age  AbsHours\n",
       "0   27  3.857143\n",
       "1   28  5.564103\n",
       "2   29  4.428571\n",
       "3   30  5.500000\n",
       "4   31  9.863636"
      ]
     },
     "execution_count": 92,
     "metadata": {},
     "output_type": "execute_result"
    }
   ],
   "source": [
    "df_age = df_mod.groupby(by=\"Age\")[['AbsHours']].mean().reset_index()\n",
    "df_age.head()"
   ]
  },
  {
   "cell_type": "code",
   "execution_count": 95,
   "metadata": {},
   "outputs": [
    {
     "data": {
      "image/png": "[encoded data removed]",
      "text/plain": [
       "<Figure size 720x360 with 1 Axes>"
      ]
     },
     "metadata": {},
     "output_type": "display_data"
    }
   ],
   "source": [
    "ax = sns.catplot(data=df_age, x='Age', y='AbsHours', kind='bar', color='steelblue', aspect=2.0)\n",
    "ax.set_axis_labels('Age', 'Absenteeism time in hours', fontsize=12)\n",
    "ax.fig.suptitle('Average of Absenteeism time in hours by Age')\n",
    "plt.show()"
   ]
  },
  {
   "cell_type": "code",
   "execution_count": 98,
   "metadata": {},
   "outputs": [
    {
     "data": {
      "text/html": [
       "<div>\n",
       "<style scoped>\n",
       "    .dataframe tbody tr th:only-of-type {\n",
       "        vertical-align: middle;\n",
       "    }\n",
       "\n",
       "    .dataframe tbody tr th {\n",
       "        vertical-align: top;\n",
       "    }\n",
       "\n",
       "    .dataframe thead th {\n",
       "        text-align: right;\n",
       "    }\n",
       "</style>\n",
       "<table border=\"1\" class=\"dataframe\">\n",
       "  <thead>\n",
       "    <tr style=\"text-align: right;\">\n",
       "      <th></th>\n",
       "      <th>reason_description</th>\n",
       "      <th>AbsHours</th>\n",
       "    </tr>\n",
       "  </thead>\n",
       "  <tbody>\n",
       "    <tr>\n",
       "      <th>255</th>\n",
       "      <td>Symptoms, signs and abnormal clinical and labo...</td>\n",
       "      <td>8</td>\n",
       "    </tr>\n",
       "    <tr>\n",
       "      <th>434</th>\n",
       "      <td>Symptoms, signs and abnormal clinical and labo...</td>\n",
       "      <td>8</td>\n",
       "    </tr>\n",
       "    <tr>\n",
       "      <th>521</th>\n",
       "      <td>Certain infectious and parasitic diseases</td>\n",
       "      <td>1</td>\n",
       "    </tr>\n",
       "    <tr>\n",
       "      <th>620</th>\n",
       "      <td>Laboratory examination</td>\n",
       "      <td>3</td>\n",
       "    </tr>\n",
       "    <tr>\n",
       "      <th>622</th>\n",
       "      <td>Diseases of the skin and subcutaneous tissue</td>\n",
       "      <td>112</td>\n",
       "    </tr>\n",
       "    <tr>\n",
       "      <th>640</th>\n",
       "      <td>Laboratory examination</td>\n",
       "      <td>2</td>\n",
       "    </tr>\n",
       "    <tr>\n",
       "      <th>727</th>\n",
       "      <td>Diseases of the nervous system</td>\n",
       "      <td>8</td>\n",
       "    </tr>\n",
       "    <tr>\n",
       "      <th>729</th>\n",
       "      <td>Diseases of the nervous system</td>\n",
       "      <td>120</td>\n",
       "    </tr>\n",
       "  </tbody>\n",
       "</table>\n",
       "</div>"
      ],
      "text/plain": [
       "                                    reason_description  AbsHours\n",
       "255  Symptoms, signs and abnormal clinical and labo...         8\n",
       "434  Symptoms, signs and abnormal clinical and labo...         8\n",
       "521          Certain infectious and parasitic diseases         1\n",
       "620                             Laboratory examination         3\n",
       "622       Diseases of the skin and subcutaneous tissue       112\n",
       "640                             Laboratory examination         2\n",
       "727                     Diseases of the nervous system         8\n",
       "729                     Diseases of the nervous system       120"
      ]
     },
     "execution_count": 98,
     "metadata": {},
     "output_type": "execute_result"
    }
   ],
   "source": [
    "df_mod[df_mod.Age == 58][['reason_description', 'AbsHours']]"
   ]
  },
  {
   "cell_type": "code",
   "execution_count": 99,
   "metadata": {},
   "outputs": [
    {
     "data": {
      "text/plain": [
       "count    737.000000\n",
       "mean       6.952510\n",
       "std       13.350793\n",
       "min        0.000000\n",
       "25%        2.000000\n",
       "50%        3.000000\n",
       "75%        8.000000\n",
       "max      120.000000\n",
       "Name: AbsHours, dtype: float64"
      ]
     },
     "execution_count": 99,
     "metadata": {},
     "output_type": "execute_result"
    }
   ],
   "source": [
    "df_mod['AbsHours'].describe()"
   ]
  },
  {
   "cell_type": "code",
   "execution_count": 104,
   "metadata": {},
   "outputs": [
    {
     "data": {
      "image/png": "[encoded data removed]",
      "text/plain": [
       "<Figure size 720x432 with 1 Axes>"
      ]
     },
     "metadata": {},
     "output_type": "display_data"
    }
   ],
   "source": [
    "sns.histplot(data=df_mod, x='AbsHours', kde=True, bins=10)\n",
    "plt.xlabel('Absenteeism time in hours')\n",
    "plt.title('Histogram of Absenteeism time in hours', fontsize=12)\n",
    "plt.show()"
   ]
  },
  {
   "cell_type": "code",
   "execution_count": 105,
   "metadata": {},
   "outputs": [
    {
     "data": {
      "image/png": "[encoded data removed]",
      "text/plain": [
       "<Figure size 720x432 with 1 Axes>"
      ]
     },
     "metadata": {},
     "output_type": "display_data"
    }
   ],
   "source": [
    "sns.boxplot(data=df_mod, x='AbsHours')\n",
    "plt.xlabel('Absenteeism time in hours')\n",
    "plt.title('Boxplot of Absenteeism time in hours', fontsize=12)\n",
    "plt.show()"
   ]
  }
 ],
 "metadata": {
  "colab": {
   "authorship_tag": "ABX9TyNydmeCHMRFY/ifz8vgfAKl",
   "name": "absenteeism_at_work_eda.ipynb",
   "provenance": []
  },
  "kernelspec": {
   "display_name": "Python 3",
   "language": "python",
   "name": "python3"
  },
  "language_info": {
   "codemirror_mode": {
    "name": "ipython",
    "version": 3
   },
   "file_extension": ".py",
   "mimetype": "text/x-python",
   "name": "python",
   "nbconvert_exporter": "python",
   "pygments_lexer": "ipython3",
   "version": "3.9.2"
  }
 },
 "nbformat": 4,
 "nbformat_minor": 4
}
