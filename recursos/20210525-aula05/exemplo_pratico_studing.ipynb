{
 "cells": [
  {
   "cell_type": "markdown",
   "id": "da1aa119-7ed8-4f4a-b301-3b57c1ba4f4e",
   "metadata": {},
   "source": [
    "## Exemplo prático"
   ]
  },
  {
   "cell_type": "code",
   "execution_count": 1,
   "id": "6e2c7bd0-ed39-4e4f-92c2-96615e495797",
   "metadata": {},
   "outputs": [],
   "source": [
    "import pandas as pd"
   ]
  },
  {
   "cell_type": "code",
   "execution_count": 2,
   "id": "a8acfac2-91df-4349-89f7-31e529b09fe9",
   "metadata": {},
   "outputs": [],
   "source": [
    "# Criando as listas x e y\n",
    "data = [\n",
    "    [1.65, 'M'],\n",
    "    [1.50, 'B'],\n",
    "    [1.70, 'M'],\n",
    "    [1.92, 'A'],\n",
    "    [1.54, 'B'],\n",
    "    [1.60, 'M'],\n",
    "    [1.71, 'A'],\n",
    "    [1.55, 'B'],\n",
    "    [1.67, 'M'],\n",
    "    [1.81, 'A'],\n",
    "]"
   ]
  },
  {
   "cell_type": "code",
   "execution_count": 3,
   "id": "a100c74e-db68-4c8c-a310-c1e473e483bc",
   "metadata": {},
   "outputs": [],
   "source": [
    "# Criando um DataFrame com os dados gerados e colunas x e y\n",
    "df = pd.DataFrame(data, columns=['x', 'y'])"
   ]
  },
  {
   "cell_type": "code",
   "execution_count": 4,
   "id": "f91fa6ac-3974-4596-89a8-68e9fdd5a96b",
   "metadata": {},
   "outputs": [
    {
     "data": {
      "text/plain": [
       "(10, 2)"
      ]
     },
     "execution_count": 4,
     "metadata": {},
     "output_type": "execute_result"
    }
   ],
   "source": [
    "df.shape"
   ]
  },
  {
   "cell_type": "code",
   "execution_count": 5,
   "id": "45d20c12-64c0-46a9-a4c9-33de335cab3e",
   "metadata": {},
   "outputs": [
    {
     "data": {
      "text/html": [
       "<div>\n",
       "<style scoped>\n",
       "    .dataframe tbody tr th:only-of-type {\n",
       "        vertical-align: middle;\n",
       "    }\n",
       "\n",
       "    .dataframe tbody tr th {\n",
       "        vertical-align: top;\n",
       "    }\n",
       "\n",
       "    .dataframe thead th {\n",
       "        text-align: right;\n",
       "    }\n",
       "</style>\n",
       "<table border=\"1\" class=\"dataframe\">\n",
       "  <thead>\n",
       "    <tr style=\"text-align: right;\">\n",
       "      <th></th>\n",
       "      <th>x</th>\n",
       "      <th>y</th>\n",
       "    </tr>\n",
       "  </thead>\n",
       "  <tbody>\n",
       "    <tr>\n",
       "      <th>0</th>\n",
       "      <td>1.65</td>\n",
       "      <td>M</td>\n",
       "    </tr>\n",
       "    <tr>\n",
       "      <th>1</th>\n",
       "      <td>1.50</td>\n",
       "      <td>B</td>\n",
       "    </tr>\n",
       "    <tr>\n",
       "      <th>2</th>\n",
       "      <td>1.70</td>\n",
       "      <td>M</td>\n",
       "    </tr>\n",
       "    <tr>\n",
       "      <th>3</th>\n",
       "      <td>1.92</td>\n",
       "      <td>A</td>\n",
       "    </tr>\n",
       "    <tr>\n",
       "      <th>4</th>\n",
       "      <td>1.54</td>\n",
       "      <td>B</td>\n",
       "    </tr>\n",
       "  </tbody>\n",
       "</table>\n",
       "</div>"
      ],
      "text/plain": [
       "      x  y\n",
       "0  1.65  M\n",
       "1  1.50  B\n",
       "2  1.70  M\n",
       "3  1.92  A\n",
       "4  1.54  B"
      ]
     },
     "execution_count": 5,
     "metadata": {},
     "output_type": "execute_result"
    }
   ],
   "source": [
    "df.head()"
   ]
  },
  {
   "cell_type": "markdown",
   "id": "b9a8ac14-9701-4c99-a928-cc073dd470f1",
   "metadata": {},
   "source": [
    "### Usando um algoritmo explícito"
   ]
  },
  {
   "cell_type": "code",
   "execution_count": 6,
   "id": "07ec7b1e-82ae-46d5-87f5-6cbfa658a60e",
   "metadata": {},
   "outputs": [],
   "source": [
    "# Definindo uma classe para representar o modelo\n",
    "class Model():\n",
    "    def predict(self, x):\n",
    "        if x < 1.6:\n",
    "            y = 'B'\n",
    "        elif x <= 1.7:\n",
    "            y = 'M'\n",
    "        else:\n",
    "            y = 'A'\n",
    "        return y"
   ]
  },
  {
   "cell_type": "code",
   "execution_count": 7,
   "id": "48f2bc8a-0c22-4fdf-8a87-a2b4f4f9c0e1",
   "metadata": {},
   "outputs": [
    {
     "name": "stdout",
     "output_type": "stream",
     "text": [
      "Valor predito: M\n"
     ]
    }
   ],
   "source": [
    "# Instanciando um modelo\n",
    "model1 = Model()\n",
    "\n",
    "# Realizando a predição\n",
    "newX = 1.68\n",
    "m1YPred = model1.predict(newX)\n",
    "print('Valor predito:', m1YPred)"
   ]
  },
  {
   "cell_type": "markdown",
   "id": "848abd47-8b27-4aae-b460-4661d2b420dd",
   "metadata": {},
   "source": [
    "### Usando um algoritmo de árvore de decisão"
   ]
  },
  {
   "cell_type": "code",
   "execution_count": 8,
   "id": "4ceb02c1-9f2e-420a-85ed-cf87ef669f1b",
   "metadata": {},
   "outputs": [],
   "source": [
    "# Importando a lib para treinar um modelo baseado em árvores de decisão\n",
    "from sklearn.tree import DecisionTreeClassifier"
   ]
  },
  {
   "cell_type": "code",
   "execution_count": 9,
   "id": "76bb4e66-9795-4592-88f6-41b0d3862ad7",
   "metadata": {},
   "outputs": [],
   "source": [
    "# Separando os dados de entrada (atributos preditivos) e saída (atributo alvo/target)\n",
    "X_train = df['x'].values.reshape(-1, 1)\n",
    "y_train = df['y']"
   ]
  },
  {
   "cell_type": "code",
   "execution_count": 10,
   "id": "08542d4f-82a8-47e0-a8d4-1273aa0a879a",
   "metadata": {},
   "outputs": [],
   "source": [
    "# Criando um modelo de classificação - DecisionTreeClassifier\n",
    "model2 = DecisionTreeClassifier()\n",
    "\n",
    "# Treinando o modelo\n",
    "model2 = model2.fit(X_train, y_train)"
   ]
  },
  {
   "cell_type": "code",
   "execution_count": 11,
   "id": "00230189-cb95-4dad-a1f2-d80a553b2bd8",
   "metadata": {},
   "outputs": [
    {
     "name": "stdout",
     "output_type": "stream",
     "text": [
      "Valor predito: M\n"
     ]
    }
   ],
   "source": [
    "# Realizando a predição\n",
    "newX = [[1.68]]\n",
    "m2YPred = model2.predict(newX)\n",
    "m2YPred\n",
    "print('Valor predito:', m2YPred[0])"
   ]
  },
  {
   "cell_type": "code",
   "execution_count": 12,
   "id": "93487f53-5d4f-4d02-8c93-81f5597c7ee9",
   "metadata": {},
   "outputs": [],
   "source": [
    "# Visualizando a árvore de decisão\n",
    "#!conda install graphviz\n",
    "\n",
    "import os\n",
    "import io\n",
    "from io import StringIO\n",
    "from IPython.display import Image\n",
    "from sklearn.tree import export_graphviz\n",
    "from pydot import graph_from_dot_data"
   ]
  },
  {
   "cell_type": "code",
   "execution_count": 13,
   "id": "4c42eff6-b274-4e46-a6f7-3865dfe385de",
   "metadata": {},
   "outputs": [],
   "source": [
    "feature_cols = df.drop('y', axis=1).columns\n",
    "class_label = model2.classes_"
   ]
  },
  {
   "cell_type": "code",
   "execution_count": 14,
   "id": "0e17fefd-379b-4b9a-a0c6-0f6ef1a1fc99",
   "metadata": {},
   "outputs": [
    {
     "data": {
      "text/plain": [
       "Index(['x'], dtype='object')"
      ]
     },
     "execution_count": 14,
     "metadata": {},
     "output_type": "execute_result"
    }
   ],
   "source": [
    "feature_cols"
   ]
  },
  {
   "cell_type": "code",
   "execution_count": 15,
   "id": "6dba5f11-cefc-448f-90b2-251e0a47f787",
   "metadata": {},
   "outputs": [
    {
     "data": {
      "text/plain": [
       "array(['A', 'B', 'M'], dtype=object)"
      ]
     },
     "execution_count": 15,
     "metadata": {},
     "output_type": "execute_result"
    }
   ],
   "source": [
    "class_label"
   ]
  },
  {
   "cell_type": "code",
   "execution_count": 16,
   "id": "923ad19e-d31b-4553-8a1c-68aab253a0b3",
   "metadata": {},
   "outputs": [],
   "source": [
    "dot_data = StringIO()\n",
    "export_graphviz(model2, out_file=dot_data, filled=True, rounded=True, special_characters=True, feature_names=feature_cols, class_names=class_label)"
   ]
  },
  {
   "cell_type": "code",
   "execution_count": 17,
   "id": "32df4639-bcb9-4978-a808-96112a5d6273",
   "metadata": {},
   "outputs": [
    {
     "data": {
      "image/png": "[encoded data removed]",
      "text/plain": [
       "<IPython.core.display.Image object>"
      ]
     },
     "execution_count": 17,
     "metadata": {},
     "output_type": "execute_result"
    }
   ],
   "source": [
    "(graph, ) = graph_from_dot_data(dot_data.getvalue())\n",
    "\n",
    "graph.write_png('tree.png')\n",
    "Image('tree.png')"
   ]
  },
  {
   "cell_type": "code",
   "execution_count": null,
   "id": "5591172e-1d59-4cbe-8143-470c83398ed4",
   "metadata": {},
   "outputs": [],
   "source": []
  },
  {
   "cell_type": "code",
   "execution_count": null,
   "id": "23c3ec36-5ea8-428d-9065-2012f126b7d1",
   "metadata": {},
   "outputs": [],
   "source": []
  }
 ],
 "metadata": {
  "kernelspec": {
   "display_name": "Python 3",
   "language": "python",
   "name": "python3"
  },
  "language_info": {
   "codemirror_mode": {
    "name": "ipython",
    "version": 3
   },
   "file_extension": ".py",
   "mimetype": "text/x-python",
   "name": "python",
   "nbconvert_exporter": "python",
   "pygments_lexer": "ipython3",
   "version": "3.9.2"
  }
 },
 "nbformat": 4,
 "nbformat_minor": 5
}
