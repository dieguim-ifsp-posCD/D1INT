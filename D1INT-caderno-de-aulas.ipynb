{
 "cells": [
  {
   "cell_type": "markdown",
   "id": "814f412f",
   "metadata": {},
   "source": [
    "# D1INT - Introdução à Ciência de Dados\n",
    "\n",
    "- Professor [Everton Josue da Silva](https://lattes.cnpq.br/3745890062485429)\n",
    "- Email [everton.silva@ifsp.edu.br](mailto:everton.silva@ifsp.edu.br)\n",
    "- Horário de atendimento: [Segunda, 18:00 às 19:00](https://meet.google.com/psc-mmku-xig) e [Quinta, 17:30 às 18:30](https://meet.google.com/vno-asoj-bka)\n",
    "- Rótulo para Assunto do E-mail: `[2021.1 - D1INT]`\n",
    "- Microsoft Teams: [Link para equipe](https://teams.microsoft.com/l/team/19%3a7a9a783e6f7f47fb8c8bf05e6a5843d0%40thread.tacv2/conversations?groupId=1bf8618e-8217-4590-b0a9-1d38ffc98979&tenantId=91808bd0-5c6a-49df-93df-fb6a740f594d) (Código: 6z69e7e) | [Canal das aulas](https://teams.microsoft.com/l/channel/19%3aa1717b3e88154e1d9d9854d660587075%40thread.tacv2/Aulas?groupId=1bf8618e-8217-4590-b0a9-1d38ffc98979&tenantId=91808bd0-5c6a-49df-93df-fb6a740f594d)"
   ]
  },
  {
   "cell_type": "markdown",
   "id": "214d3ae3",
   "metadata": {},
   "source": [
    "## 20/04/2021 - Aula 00: Apresentação da Disciplina\n",
    "\n",
    "### Materiais de aula\n",
    "\n",
    "- [Vídeo: Gravação da aula](https://ifspedubr.sharepoint.com/:v:/s/D1INT-IntroduoCinciadeDados350/EUP7hAN8FXxJv7HlCnrIX_UB6VM0sS4UaKYC_lJr0iGbHg?e=81XcnS)\n",
    "- [Slides: Apresentação](slides/20210420-D1INT-aula00-apresentacao.pdf)"
   ]
  },
  {
   "cell_type": "markdown",
   "id": "7031cfb4",
   "metadata": {},
   "source": [
    "### Presença\n",
    "\n",
    "- Lista de presentes nos encontros síncronos\n",
    "- Atividades entregues pelo Moodle (aulas assíncronas)\n",
    "\n",
    "### Avaliação\n",
    "\n",
    "$\\mathbf{N𝐅} = 0.3∗T + 0.7∗P$\n",
    "\n",
    "**T**: média das notas dos trabalhos\n",
    "\n",
    "**P**: nota do projeto interdisciplinar\n",
    "\n",
    "### Aprovaçao\n",
    "\n",
    "$\\mathrm{NF} \\geq 6.0$ e $\\mathrm{Frequência} \\geq 75\\%$"
   ]
  },
  {
   "cell_type": "markdown",
   "id": "dff077fc",
   "metadata": {},
   "source": [
    "## 27/04/2021 - Aula 01: Introdução\n",
    "\n",
    "### Materiais de aula\n",
    "\n",
    "- [Video: Gravação da aula](https://ifspedubr.sharepoint.com/:v:/s/D1INT-IntroduoCinciadeDados350/ET4y9RD2cclFpHq6QDuX84YBUrvke6AxxWdHAl2Uk2Z_Zw?e=hfkDiH)\n",
    "- [Slides: Introdução](slides/20210427-D1INT-aula01-introducao.pdf)\n",
    "- [Notebook: Exemplo *Mall Customer*](recursos/20210427-aula01/mall_customer/exemplo_pratico.ipynb) / [Dataset (CSV)](recursos/20210427-aula01/mall_customer/Mall_Customers.csv)"
   ]
  },
  {
   "cell_type": "markdown",
   "id": "29dba37e",
   "metadata": {},
   "source": [
    "### Exemplo _Mall Customer_\n",
    "\n",
    "- Scatterplot (_Income x Score_) mostra, visualmente, 5 agrupamentos\n",
    "- A partir dos agrupamentos, seguiriam-se as análises dos porquês de cada grupo e quais ações poderiam-se tomar"
   ]
  },
  {
   "cell_type": "markdown",
   "id": "816d6caf-b08b-43f5-bd48-940d9b8e6db9",
   "metadata": {},
   "source": [
    "## 04/05/2021 - Aula 02: Definindo Ciência de Dados\n",
    "\n",
    "### Materiais de aula\n",
    "\n",
    "- [Video: Gravação da aula](https://ifspedubr.sharepoint.com/:v:/s/D1INT-IntroduoCinciadeDados350/EbE9Iz07vhdKq8UOEe7-Bb4BvNnPCeMbUdXI8CTW6s-xAw?e=S9NSbV)\n",
    "- [Slides: Definindo Ciência de Dados](slides/20210504-D1INT-aula02-definindo_ds.pdf)\n",
    "- [Atividade: Descrição do domínio do problema (Projeto Interdisciplinar)](atividades/20210504-D1INT-atividade01-descricao_dominio_problema.pdf)"
   ]
  },
  {
   "cell_type": "markdown",
   "id": "9fedb114-152b-46da-963a-3420da97b655",
   "metadata": {},
   "source": [
    "Atividade do Projeto Interdisciplinar a ser entregue pelo grupo até 18/05"
   ]
  },
  {
   "cell_type": "markdown",
   "id": "283a9ff8-48ce-4cf7-8cff-ac7c83d36719",
   "metadata": {},
   "source": [
    "## 11/05/2021 - Aula 03: Os Dados\n",
    "\n",
    "### Materiais de aula\n",
    "\n",
    "- [Video: Gravação da aula](https://ifspedubr.sharepoint.com/:v:/s/D1INT-IntroduoCinciadeDados350/EY0yHUtDqadCheMIz6zalK4BQBt83v9BE6jSv67VW47OGA?e=KmSOtV)\n",
    "- [Slides: Os Dados](slides/20210511-D1INT-aula03-os_dados.pdf)\n",
    "- [Slides: Business Intelligence (BI)](slides/20210511-D1INT-aula03-bi.pdf)"
   ]
  },
  {
   "cell_type": "markdown",
   "id": "60d385b8-742a-4ef8-841f-de5de1682347",
   "metadata": {},
   "source": [
    "### Os dados\n",
    "\n",
    "- Class labeling: alguns algoritmos só funcionam com dados numérios e, em alguns casos, pode ser necessária alguma conversão\n",
    "- Data cleansing: tratamento de valores nulos, faltantes, erros ortográficos\n",
    "\n",
    "#### Big data\n",
    "\n",
    "- Volume, Variedade e Velocidade\n",
    "- Dados não estruturados"
   ]
  },
  {
   "cell_type": "markdown",
   "id": "8d6b5b93-2cc4-4e3d-86a7-2920154111f8",
   "metadata": {},
   "source": [
    "### Resumo da aula\n",
    "\n",
    "Os dados são a base da Ciência de Dados.\n",
    "\n",
    "| Dados Tradicionais | Big Data |\n",
    "| ---- | --- |\n",
    "| Dados Estruturados | Dados não estruturados ou semi-estruturados |\n",
    "| Tamanho pequeno | Tanho maior do que do dado tradicional |\n",
    "| Dado centralizado | Dado distribuído |\n",
    "| Fácil de se trabalhar e manipular | De difícil manipulação |\n",
    "| Configuração de um sistema normal é suficiente para manipulação | Necessita de sistema de configuração avançada |\n",
    "| Ferramenta de banco de dados tradicional é suficiente | Necessita de ferramentas especializadas |\n",
    "| Funções de manipulação normais são suficientes | Necessita de funções epeciais para manipulação |\n",
    "\n",
    "\n",
    "![Dados estruturados x Dados não estruturados](https://lawtomated.com/wp-content/uploads/2019/04/structuredVsUnstructuredIgneos.png)\n",
    "\n",
    "Os 3 *V*s do Big Data: Volume. Variedade e Velocidade\n",
    "\n",
    "Os profissionais em manipulação de dados:\n",
    "- *Arquiteto de Dados*: projetar, criar, implantar e gerenciar o banco de dados; manter os dados organizados;\n",
    "- *Engenheiro de Dados*: realizar o processamento e limpeza dos dados, deixando-os prontos para análise;\n",
    "- *Administrador de Banco de Dados*: controla o fluxo de dados, principalmente com dados tradicionais;"
   ]
  },
  {
   "cell_type": "markdown",
   "id": "5a8f4f6d-ac12-4b91-90f2-c0859a47a29e",
   "metadata": {},
   "source": [
    "## 18/05/2021 - Aula 04: Palestra *Deep Learning no mundo real*\n",
    "\n",
    "- [Video: Gravação da palestra](https://ifspedubr.sharepoint.com/:v:/s/D1INT-IntroduoCinciadeDados350/EetdyY2U-p5BnOeLfguzpywBTgXA6rTdMVNX5E6VGvBD9w?e=kSP9fh)\n",
    "\n",
    "**Palestrante:** Arnaldo Gualberto\n",
    "\n",
    "**Resumo:** Durante essa apresentação, eu vou mostrar o caminho que eu trilhei pra me tornar um ML Engineer, os desafios que enfrentei nesse caminho e os projetos que já desenvolvi com Machine Learning e Deep Learning. Ao final da palestra, dicas para quem também quer fazer o mesmo ou apenas aprender mais sobre Deep Learning também serão dadas.\n",
    "\n",
    "**Short bio:** Arnaldo é Google Developer Expert em Machine Learning desde 2018 e trabalha como Engenheiro de Machine Learning e Deep Learning desde 2016. Atualmente, trabalha na Wildlife Studios que se tornou o 10º unicórnio brasileiro. Arnaldo também é doutorando em Deep Learning pela UFCG."
   ]
  }
 ],
 "metadata": {
  "kernelspec": {
   "display_name": "Python 3",
   "language": "python",
   "name": "python3"
  },
  "language_info": {
   "codemirror_mode": {
    "name": "ipython",
    "version": 3
   },
   "file_extension": ".py",
   "mimetype": "text/x-python",
   "name": "python",
   "nbconvert_exporter": "python",
   "pygments_lexer": "ipython3",
   "version": "3.9.2"
  }
 },
 "nbformat": 4,
 "nbformat_minor": 5
}
