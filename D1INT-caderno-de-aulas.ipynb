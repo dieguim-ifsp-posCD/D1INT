{
 "cells": [
  {
   "cell_type": "markdown",
   "id": "814f412f",
   "metadata": {},
   "source": [
    "# D1INT - Introdução à Ciência de Dados\n",
    "\n",
    "- Professor [Everton Josue da Silva](https://lattes.cnpq.br/3745890062485429)\n",
    "- Email [everton.silva@ifsp.edu.br](mailto:everton.silva@ifsp.edu.br)\n",
    "- Horário de atendimento: [Segunda, 18:00 às 19:00](https://meet.google.com/psc-mmku-xig) e [Quinta, 17:30 às 18:30](https://meet.google.com/vno-asoj-bka)\n",
    "- Rótulo para Assunto do E-mail: `[2021.1 - D1INT]`\n",
    "- Microsoft Teams: [Link para equipe](https://teams.microsoft.com/l/team/19%3a7a9a783e6f7f47fb8c8bf05e6a5843d0%40thread.tacv2/conversations?groupId=1bf8618e-8217-4590-b0a9-1d38ffc98979&tenantId=91808bd0-5c6a-49df-93df-fb6a740f594d) (Código: 6z69e7e) | [Canal das aulas](https://teams.microsoft.com/l/channel/19%3aa1717b3e88154e1d9d9854d660587075%40thread.tacv2/Aulas?groupId=1bf8618e-8217-4590-b0a9-1d38ffc98979&tenantId=91808bd0-5c6a-49df-93df-fb6a740f594d)"
   ]
  },
  {
   "cell_type": "markdown",
   "id": "214d3ae3",
   "metadata": {},
   "source": [
    "## 20/04/2021 - Aula 00: Apresentação da Disciplina\n",
    "\n",
    "### Materiais de aula\n",
    "\n",
    "- [Vídeo: Gravação da aula](https://ifspedubr.sharepoint.com/:v:/s/D1INT-IntroduoCinciadeDados350/EUP7hAN8FXxJv7HlCnrIX_UB6VM0sS4UaKYC_lJr0iGbHg?e=81XcnS)\n",
    "- [Slides: Apresentação](slides/20210420-D1INT-aula00-apresentacao.pdf)"
   ]
  },
  {
   "cell_type": "markdown",
   "id": "7031cfb4",
   "metadata": {},
   "source": [
    "### Presença\n",
    "\n",
    "- Lista de presentes nos encontros síncronos\n",
    "- Atividades entregues pelo Moodle (aulas assíncronas)\n",
    "\n",
    "### Avaliação\n",
    "\n",
    "$\\mathbf{N𝐅} = 0.3∗T + 0.7∗P$\n",
    "\n",
    "**T**: média das notas dos trabalhos\n",
    "\n",
    "**P**: nota do projeto interdisciplinar\n",
    "\n",
    "### Aprovaçao\n",
    "\n",
    "$\\mathrm{NF} \\geq 6.0$ e $\\mathrm{Frequência} \\geq 75\\%$"
   ]
  },
  {
   "cell_type": "markdown",
   "id": "dff077fc",
   "metadata": {},
   "source": [
    "## 27/04/2021 - Aula 01: Introdução\n",
    "\n",
    "### Materiais de aula\n",
    "\n",
    "- [Video: Gravação da aula](https://ifspedubr.sharepoint.com/:v:/s/D1INT-IntroduoCinciadeDados350/ET4y9RD2cclFpHq6QDuX84YBUrvke6AxxWdHAl2Uk2Z_Zw?e=hfkDiH)\n",
    "- [Slides: Introdução](slides/20210427-D1INT-aula01-introducao.pdf)\n",
    "- [Notebook: Exemplo *Mall Customer*](recursos/20210427-aula01/mall_customer/exemplo_pratico.ipynb) / [Dataset (CSV)](recursos/20210427-aula01/mall_customer/Mall_Customers.csv)"
   ]
  },
  {
   "cell_type": "markdown",
   "id": "29dba37e",
   "metadata": {},
   "source": [
    "### Exemplo _Mall Customer_\n",
    "\n",
    "- Scatterplot (_Income x Score_) mostra, visualmente, 5 agrupamentos\n",
    "- A partir dos agrupamentos, seguiriam-se as análises dos porquês de cada grupo e quais ações poderiam-se tomar"
   ]
  },
  {
   "cell_type": "markdown",
   "id": "816d6caf-b08b-43f5-bd48-940d9b8e6db9",
   "metadata": {},
   "source": [
    "## 04/05/2021 - Aula 02: Definindo Ciência de Dados\n",
    "\n",
    "### Materiais de aula\n",
    "\n",
    "- [Video: Gravação da aula](https://ifspedubr.sharepoint.com/:v:/s/D1INT-IntroduoCinciadeDados350/EbE9Iz07vhdKq8UOEe7-Bb4BvNnPCeMbUdXI8CTW6s-xAw?e=S9NSbV)\n",
    "- [Slides: Definindo Ciência de Dados](slides/20210504-D1INT-aula02-definindo_ds.pdf)\n",
    "- [Atividade: Descrição do domínio do problema (Projeto Interdisciplinar)](atividades/20210504-D1INT-atividade01-descricao_dominio_problema.pdf)"
   ]
  },
  {
   "cell_type": "markdown",
   "id": "9fedb114-152b-46da-963a-3420da97b655",
   "metadata": {},
   "source": [
    "Atividade do Projeto Interdisciplinar a ser entregue pelo grupo até 18/05"
   ]
  },
  {
   "cell_type": "markdown",
   "id": "283a9ff8-48ce-4cf7-8cff-ac7c83d36719",
   "metadata": {},
   "source": [
    "## 11/05/2021 - Aula 03: Os Dados\n",
    "\n",
    "### Materiais de aula\n",
    "\n",
    "- [Video: Gravação da aula](https://ifspedubr.sharepoint.com/:v:/s/D1INT-IntroduoCinciadeDados350/EY0yHUtDqadCheMIz6zalK4BQBt83v9BE6jSv67VW47OGA?e=KmSOtV)\n",
    "- [Slides: Os Dados](slides/20210511-D1INT-aula03-os_dados.pdf)\n",
    "- [Slides: Business Intelligence (BI)](slides/20210511-D1INT-aula03-bi.pdf)\n",
    "- [Atividade 2: Metodologias de gerenciamento de projetos de Ciência de Dados](atividades/20210515-D1INT-atividade02/20210515-D1INT-atividade02-metodologias_de_gerenciamento_de_projetos_de_DS.pdf) | [Latex: Fonte do trabalho](atividades/20210515-D1INT-atividade02/20210515-D1INT-atividade02.tex) | [PDF final](atividades/20210515-D1INT-atividade02/20210515-D1INT-atividade02.pdf)"
   ]
  },
  {
   "cell_type": "markdown",
   "id": "60d385b8-742a-4ef8-841f-de5de1682347",
   "metadata": {},
   "source": [
    "### Os dados\n",
    "\n",
    "- Class labeling: alguns algoritmos só funcionam com dados numérios e, em alguns casos, pode ser necessária alguma conversão\n",
    "- Data cleansing: tratamento de valores nulos, faltantes, erros ortográficos\n",
    "\n",
    "#### Big data\n",
    "\n",
    "- Volume, Variedade e Velocidade\n",
    "- Dados não estruturados"
   ]
  },
  {
   "cell_type": "markdown",
   "id": "8d6b5b93-2cc4-4e3d-86a7-2920154111f8",
   "metadata": {},
   "source": [
    "### Resumo da aula\n",
    "\n",
    "Os dados são a base da Ciência de Dados.\n",
    "\n",
    "| Dados Tradicionais | Big Data |\n",
    "| ---- | --- |\n",
    "| Dados Estruturados | Dados não estruturados ou semi-estruturados |\n",
    "| Tamanho pequeno | Tanho maior do que do dado tradicional |\n",
    "| Dado centralizado | Dado distribuído |\n",
    "| Fácil de se trabalhar e manipular | De difícil manipulação |\n",
    "| Configuração de um sistema normal é suficiente para manipulação | Necessita de sistema de configuração avançada |\n",
    "| Ferramenta de banco de dados tradicional é suficiente | Necessita de ferramentas especializadas |\n",
    "| Funções de manipulação normais são suficientes | Necessita de funções epeciais para manipulação |\n",
    "\n",
    "\n",
    "![Dados estruturados x Dados não estruturados](https://lawtomated.com/wp-content/uploads/2019/04/structuredVsUnstructuredIgneos.png)\n",
    "\n",
    "Os 3 *V*s do Big Data: Volume. Variedade e Velocidade\n",
    "\n",
    "Os profissionais em manipulação de dados:\n",
    "- *Arquiteto de Dados*: projetar, criar, implantar e gerenciar o banco de dados; manter os dados organizados;\n",
    "- *Engenheiro de Dados*: realizar o processamento e limpeza dos dados, deixando-os prontos para análise;\n",
    "- *Administrador de Banco de Dados*: controla o fluxo de dados, principalmente com dados tradicionais;"
   ]
  },
  {
   "cell_type": "markdown",
   "id": "5a8f4f6d-ac12-4b91-90f2-c0859a47a29e",
   "metadata": {},
   "source": [
    "## 18/05/2021 - Aula 04: Palestra *Deep Learning no mundo real*\n",
    "\n",
    "- [Video: Gravação da palestra](https://ifspedubr.sharepoint.com/:v:/s/D1INT-IntroduoCinciadeDados350/EetdyY2U-p5BnOeLfguzpywBTgXA6rTdMVNX5E6VGvBD9w?e=kSP9fh)\n",
    "\n",
    "**Palestrante:** Arnaldo Gualberto\n",
    "\n",
    "**Resumo:** Durante essa apresentação, eu vou mostrar o caminho que eu trilhei pra me tornar um ML Engineer, os desafios que enfrentei nesse caminho e os projetos que já desenvolvi com Machine Learning e Deep Learning. Ao final da palestra, dicas para quem também quer fazer o mesmo ou apenas aprender mais sobre Deep Learning também serão dadas.\n",
    "\n",
    "**Short bio:** Arnaldo é Google Developer Expert em Machine Learning desde 2018 e trabalha como Engenheiro de Machine Learning e Deep Learning desde 2016. Atualmente, trabalha na Wildlife Studios que se tornou o 10º unicórnio brasileiro. Arnaldo também é doutorando em Deep Learning pela UFCG."
   ]
  },
  {
   "cell_type": "markdown",
   "id": "22f46a08-0952-4614-8752-d2038a791019",
   "metadata": {},
   "source": [
    "## 25/05/2021 - Aula 05: Aprendizado de Máquina\n",
    "\n",
    "### Materiais de aula\n",
    "\n",
    "- [Video: Gravação da aula](https://ifspedubr.sharepoint.com/sites/D1INT-IntroduoCinciadeDados350/Documentos%20Compartilhados/Aulas/Recordings/Aula%20-%20D1INT-20210525_210452-Grava%C3%A7%C3%A3o%20de%20Reuni%C3%A3o.mp4)\n",
    "- [Slides: Introdução ao Aprendizado de Máquina](slides/20210525-D1INT-aula05-aprendizado_de_maquina.pdf)\n",
    "- [Notebook: Exemplo prático](recursos/20210525-aula05/exemplo_pratico.ipynb) | [Código de estudo](recursos/20210525-aula05/exemplo_pratico_studing.ipynb)"
   ]
  },
  {
   "cell_type": "markdown",
   "id": "de60e84f-f756-4bfc-9b33-eb0f4a6bc51b",
   "metadata": {},
   "source": [
    "### Definições de áreas de Inteligência Artificial\n",
    "\n",
    "**Inteligência Artificial (IA)** pode ser definida como a simulação do pensamento humano por meio de máquinas\n",
    "\n",
    "**Aprendizado de Máquina (*Machine Learning* - ML)** é uma maneira de se obter IA. Algoritmos com habilidade de aprender a partir de dados, *sem serem explicitamente programados*. Obter IA sem ML pode representar milhares/milhões de linhas de código\n",
    "- A extração de *features* é feita por um humano (engenheiro de ML)\n",
    "\n",
    "**Deep Learning** subárea do ML, baseado no uso de redes neurais artificiais\n",
    "- Extração de *features* é feita pela própria rede neural"
   ]
  },
  {
   "cell_type": "markdown",
   "id": "dca9a098-4c4a-4064-97ca-56e533bdca9c",
   "metadata": {},
   "source": [
    "### Aprendizado de Máquina\n",
    "\n",
    "#### O que é\n",
    "\n",
    "- Termo *Aprendizado de Máquina* cunhado em 1959 por Arthur Samuel\n",
    "- Algoritmos capazer de inferir relações entre os dados, sem serem explicitamente programados\n",
    "- Algoritmo entendido como ***Black Box Model***, alimentado por dados históricos de entrada e saída e, a partir disso, capaz de gerar um modelo\n",
    "  - Este modelo é utilizado para predizer saídas a partir de novas entradas\n",
    "  - Hoje em dia, tenta-se que não seja *tão black box*, com algoritmos para tentar explicar os modelos criados\n",
    "  \n",
    "#### Quando usar\n",
    "\n",
    "- Grande volume de dados (complexifica o trabalho de realizar inferências)\n",
    "- Grande número de variáveis (torna-se difícil encontrar a relação entre elas)\n",
    "- Mudança de relação ao longo do tempo (novos dados surgem)\n",
    "  - Modelos de ML precisam ser retreinados ao longo do tempo\n",
    "- Relação complexa\n",
    "  - Por exemplo: como identificar um objeto em uma imagem usando apenas informações de *pixels* e estruturas condicionais?"
   ]
  },
  {
   "cell_type": "markdown",
   "id": "d5e46002-38b1-4a7b-8f6e-a7a1889baa28",
   "metadata": {},
   "source": [
    "## 01/06/2021 - Aula 06: Tipos de Aprendizado de Máquina\n",
    "\n",
    "### Materiais de aula\n",
    "\n",
    "- [Video: Gravação da aula](https://ifspedubr.sharepoint.com/:v:/s/D1INT-IntroduoCinciadeDados350/EfvI0hDbG4JOvPv6nJk9hjsBGseNafXwjLpS-0EZwMJz3g?e=6rrzow)\n",
    "- [Slides: Tipos de Aprendizado de Máquina](slides/20210601-D1INT-aula06-tipos_de_aprendizado_de_maquina.pdf)"
   ]
  },
  {
   "cell_type": "markdown",
   "id": "c65d03e8-71c3-4a27-acd3-e158f7cdcee0",
   "metadata": {},
   "source": [
    "### Tipos de aprendizado de máquina\n",
    "\n",
    "- **Aprendizado Supervisionado**: técnica que utiliza um *dataset* conhecido (*training dataset*) para criar modelos preditivos\n",
    "  - *Classificação*: detecção de fraude, classificação de imagens, retenção de clientes etc.\n",
    "    - Classificação binária\n",
    "    - Classificação multiclasse. Quanto mais classes, mais difícil para o modelo *aprender*\n",
    "  - *Regressão*: ...\n",
    "- **Aprendizado Não Supervisionado**: técnica usada para fazer inferências de conjuntos de dados *não rotulados*\n",
    "  - Um cenário comum é, a partir de um conjunto de dados não rotulados, usar um algoritmo não supervisionado para definir *clusters*, rotulá-los e, aí então, usar um algoritmo de aprendizado supervisionado com os rótulos criados\n",
    "  - *Clusterização*: sistemas de recomendação, marketing direcionado, segmentação de usuários\n",
    "  - *Redução de dimensionalidade*: Visualização de big data, seleção de features\n",
    "- **Deep Learning**: é um subconjunto de métodos de ML baseados em *redes neurais artificiais multi-camadas*\n",
    "  - Principais diferenças:\n",
    "    - Complexidade do algoritmo\n",
    "    - Tempo de treinamento da rede (mais demorado)\n",
    "    - Funciona para arquivos não-estruturados (áudio, imagens, arquivos brutos etc)\n",
    "    - Melhor em várias aplicações\n",
    "  - Mais populares são as *Redes Neurais Convolucionais (CNN)*\n",
    "  - Uma discussão que existe é sobre a quantidade de camadas que deve ter a rede para que seja considerada uma rede profunda...\n",
    "  - Reconhecimento de fala, tradução automática, carros autônomos etc\n",
    "- **Reinforcement Learning**: técnica inspirada pela psicologia behaviorista, em que os agentes devem realizar ações no ambiente para maximizar alguma recompensa\n",
    "  - Aplicações de decisão em tempo real, IA de jogos, navegação de robôs etc"
   ]
  },
  {
   "cell_type": "markdown",
   "id": "332afaba-9566-4292-aa35-463a4fee48c6",
   "metadata": {},
   "source": [
    "## 08/06/2021 - Aula 07: Absenteísmo no Trabalho\n",
    "\n",
    "### Materiais de aula\n",
    "\n",
    "- [Recursos: Absenteeism at Work Dataset](recursos/20210608-aula07/absenteeism_at_work_dataset/)\n",
    "- [Notebook: Absenteeism at Work](recursos/20210608-aula07/20210608-absenteeism_at_work.ipynb)"
   ]
  },
  {
   "cell_type": "markdown",
   "id": "7068f593-63f4-4b7f-adfb-5721f000e821",
   "metadata": {},
   "source": [
    "### Contextualização\n",
    "\n",
    "Análise de uma base de dados para calcular as horas não trabalhadas e tentar enteder os motivos das ausências ao trabalho. Talvez, tentar prever as ausências em um determinado mês."
   ]
  }
 ],
 "metadata": {
  "kernelspec": {
   "display_name": "Python 3",
   "language": "python",
   "name": "python3"
  },
  "language_info": {
   "codemirror_mode": {
    "name": "ipython",
    "version": 3
   },
   "file_extension": ".py",
   "mimetype": "text/x-python",
   "name": "python",
   "nbconvert_exporter": "python",
   "pygments_lexer": "ipython3",
   "version": "3.9.2"
  }
 },
 "nbformat": 4,
 "nbformat_minor": 5
}
