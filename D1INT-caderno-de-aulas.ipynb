{
 "cells": [
  {
   "cell_type": "markdown",
   "id": "814f412f",
   "metadata": {},
   "source": [
    "# D1INT - Introdução à Ciência de Dados\n",
    "\n",
    "- Professor [Everton Josue da Silva](https://lattes.cnpq.br/3745890062485429)\n",
    "- Email [everton.silva@ifsp.edu.br](mailto:everton.silva@ifsp.edu.br)\n",
    "- Horário de atendimento: [Segunda, 18:00 às 19:00](https://meet.google.com/psc-mmku-xig) e [Quinta, 17:30 às 18:30](https://meet.google.com/vno-asoj-bka)\n",
    "- Rótulo para Assunto do E-mail: `[2021.1 - D1INT]`\n",
    "- Microsoft Teams: [Link para equipe](https://teams.microsoft.com/l/team/19%3a7a9a783e6f7f47fb8c8bf05e6a5843d0%40thread.tacv2/conversations?groupId=1bf8618e-8217-4590-b0a9-1d38ffc98979&tenantId=91808bd0-5c6a-49df-93df-fb6a740f594d) (Código: 6z69e7e) | [Canal das aulas](https://teams.microsoft.com/l/channel/19%3aa1717b3e88154e1d9d9854d660587075%40thread.tacv2/Aulas?groupId=1bf8618e-8217-4590-b0a9-1d38ffc98979&tenantId=91808bd0-5c6a-49df-93df-fb6a740f594d)"
   ]
  },
  {
   "cell_type": "markdown",
   "id": "214d3ae3",
   "metadata": {},
   "source": [
    "## 20/04/2021 - Aula 00: Apresentação da Disciplina\n",
    "\n",
    "### Materiais de aula\n",
    "\n",
    "- [Vídeo: Gravação da aula](https://ifspedubr.sharepoint.com/:v:/s/D1INT-IntroduoCinciadeDados350/EUP7hAN8FXxJv7HlCnrIX_UB6VM0sS4UaKYC_lJr0iGbHg?e=81XcnS)\n",
    "- [Slides: Apresentação](slides/20210420-D1INT-aula00-apresentacao.pdf)"
   ]
  },
  {
   "cell_type": "markdown",
   "id": "7031cfb4",
   "metadata": {},
   "source": [
    "### Presença\n",
    "\n",
    "- Lista de presentes nos encontros síncronos\n",
    "- Atividades entregues pelo Moodle (aulas assíncronas)\n",
    "\n",
    "### Avaliação\n",
    "\n",
    "$\\mathbf{N𝐅} = 0.3∗T + 0.7∗P$\n",
    "\n",
    "**T**: média das notas dos trabalhos\n",
    "\n",
    "**P**: nota do projeto interdisciplinar\n",
    "\n",
    "### Aprovaçao\n",
    "\n",
    "$\\mathrm{NF} \\geq 6.0$ e $\\mathrm{Frequência} \\geq 75\\%$"
   ]
  },
  {
   "cell_type": "markdown",
   "id": "dff077fc",
   "metadata": {},
   "source": [
    "## 27/04/2021 - Aula 01: Introdução\n",
    "\n",
    "### Materiais de aula\n",
    "\n",
    "- [Video: Gravação da aula](https://ifspedubr.sharepoint.com/:v:/s/D1INT-IntroduoCinciadeDados350/ET4y9RD2cclFpHq6QDuX84YBUrvke6AxxWdHAl2Uk2Z_Zw?e=hfkDiH)\n",
    "- [Slides: Introdução](slides/20210427-D1INT-aula01-introducao.pdf)\n",
    "- [Notebook: Exemplo *Mall Customer*](recursos/20210427-aula01/mall_customer/exemplo_pratico.ipynb) / [Dataset (CSV)](recursos/20210427-aula01/mall_customer/Mall_Customers.csv)"
   ]
  },
  {
   "cell_type": "markdown",
   "id": "29dba37e",
   "metadata": {},
   "source": [
    "### Exemplo _Mall Customer_\n",
    "\n",
    "- Scatterplot (_Income x Score_) mostra, visualmente, 5 agrupamentos\n",
    "- A partir dos agrupamentos, seguiriam-se as análises dos porquês de cada grupo e quais ações poderiam-se tomar"
   ]
  }
 ],
 "metadata": {
  "kernelspec": {
   "display_name": "Python 3",
   "language": "python",
   "name": "python3"
  },
  "language_info": {
   "codemirror_mode": {
    "name": "ipython",
    "version": 3
   },
   "file_extension": ".py",
   "mimetype": "text/x-python",
   "name": "python",
   "nbconvert_exporter": "python",
   "pygments_lexer": "ipython3",
   "version": "3.8.8"
  }
 },
 "nbformat": 4,
 "nbformat_minor": 5
}
